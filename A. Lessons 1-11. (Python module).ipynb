{
  "cells": [
    {
      "cell_type": "markdown",
      "metadata": {
        "id": "view-in-github",
        "colab_type": "text"
      },
      "source": [
        "<a href=\"https://colab.research.google.com/github/girta79/WoTech_Python_Individual_Work/blob/main/Lessons_1-....._in_Python_module.ipynb\" target=\"_parent\"><img src=\"https://colab.research.google.com/assets/colab-badge.svg\" alt=\"Open In Colab\"/></a>"
      ]
    },
    {
      "cell_type": "markdown",
      "source": [
        "**Python module**\n",
        "\n",
        "**Lesson 1.**\n",
        "\n",
        "**Topic: Introduction**\n",
        "\n",
        "1. Introduction to Python\n",
        "2. Setting up Google Collab environment\n",
        "3. Coding in Python\n",
        "4. Variables and data types in Python\n",
        "5. Receiving input from users\n",
        "6. Team work - Explore Python data types and experiment with f-strings using JAVA task (in Python)"
      ],
      "metadata": {
        "id": "qkrsvb9pOXT8"
      }
    },
    {
      "cell_type": "code",
      "source": [
        "# LESSON 1 (23.3.24)\n",
        "\n",
        "# variable (number can not be in front of a variable, but behind it is allowed)\n",
        "\n",
        "# 1.\n",
        "greeting = \"Good morning!\"\n",
        "print(greeting)\n",
        "\n",
        "# 2.\n",
        "this_is_a_variable = \"Good morning!\"\n",
        "print(this_is_a_variable)\n",
        "\n",
        "# 3.\n",
        "data = 15\n",
        "print(data)"
      ],
      "metadata": {
        "colab": {
          "base_uri": "https://localhost:8080/"
        },
        "id": "c4G6tXUyKor3",
        "outputId": "18b10afe-50bd-4179-f843-cbe802ed5377"
      },
      "execution_count": null,
      "outputs": [
        {
          "output_type": "stream",
          "name": "stdout",
          "text": [
            "Good morning!\n",
            "Good morning!\n",
            "15\n"
          ]
        }
      ]
    },
    {
      "cell_type": "code",
      "source": [
        "name = \"Anna\" #text/string\n",
        "surname = \"Johnson\" #text/string\n",
        "age = 35 #integer\n",
        "occupation = \"Programmer\" #text/string\n",
        "university_graduate = False #boolean\n",
        "height = 172.23 #float\n",
        "\n",
        "print(name, surname, age, occupation, university_graduate, height)\n"
      ],
      "metadata": {
        "id": "YWcy8KDKKo-H",
        "colab": {
          "base_uri": "https://localhost:8080/"
        },
        "outputId": "0d302eaa-2a8e-43dd-d273-bb21a9a4548e"
      },
      "execution_count": null,
      "outputs": [
        {
          "output_type": "stream",
          "name": "stdout",
          "text": [
            "Anna Johnson 35 Programmer False 172.23\n"
          ]
        }
      ]
    },
    {
      "cell_type": "code",
      "source": [
        "name = \"Anna\" #text/string\n",
        "surname = \"Johnson\" #text/string\n",
        "age = 35 #integer\n",
        "occupation = \"Programmer\" #text/string\n",
        "university_graduate = False #boolean\n",
        "height = 172.23 #float\n",
        "\n",
        "print(name, surname, age, occupation, university_graduate, height)\n",
        "print(f\"Full name: {name} {surname}\\nOccupation: {occupation}\\nUni degree: {university_graduate}\")\n"
      ],
      "metadata": {
        "colab": {
          "base_uri": "https://localhost:8080/"
        },
        "id": "JZyeau3NRa19",
        "outputId": "02d6c8c2-bf12-4a1d-ace5-324a449f04ac"
      },
      "execution_count": null,
      "outputs": [
        {
          "output_type": "stream",
          "name": "stdout",
          "text": [
            "Anna Johnson 35 Programmer False 172.23\n",
            "Full name: Anna Johnson\n",
            "Occupation: Programmer\n",
            "Uni degree: False\n"
          ]
        }
      ]
    },
    {
      "cell_type": "code",
      "source": [
        "# Preparing for a party\n",
        "guest_1 = 'John'\n",
        "guest_2 = 'Anna'\n",
        "guest_3 = 'Jeniffer'\n",
        "\n",
        "print(guest_1, guest_2, guest_3)\n",
        "\n",
        "guests_list = ['John', 'Anna', 'Jenifer', 'Kerli', 'Madara']\n",
        "print(guests_list)"
      ],
      "metadata": {
        "id": "wERNQ9v2PPwW",
        "colab": {
          "base_uri": "https://localhost:8080/"
        },
        "outputId": "d2911b92-b366-40d2-d2e2-ddcaa4ce46d1"
      },
      "execution_count": null,
      "outputs": [
        {
          "output_type": "stream",
          "name": "stdout",
          "text": [
            "John Anna Jeniffer\n",
            "['John', 'Anna', 'Jenifer', 'Kerli', 'Madara']\n"
          ]
        }
      ]
    },
    {
      "cell_type": "markdown",
      "source": [
        "**Variable Definition:** You need to define the variable guests (the list of guests) before using it in the loop\n",
        "\n",
        "**For Loop Syntax:** A for loop should be formatted such that the content within the loop (in this case, print(guest)) is indented. This tells Python which code belongs to the loop's body"
      ],
      "metadata": {
        "id": "_QV6KebO51Hb"
      }
    },
    {
      "cell_type": "code",
      "source": [
        "# Preparing for a party (loop)\n",
        "guests = [\"John\", \"Anna\", \"Kerli\", \"Martin\"]\n",
        "\n",
        "for guest in guests:\n",
        "  print(guest)\n"
      ],
      "metadata": {
        "colab": {
          "base_uri": "https://localhost:8080/"
        },
        "id": "6qqCiuOE3YR1",
        "outputId": "ab5bf739-ca68-4aee-f074-814556ec0869"
      },
      "execution_count": null,
      "outputs": [
        {
          "output_type": "stream",
          "name": "stdout",
          "text": [
            "John\n",
            "Anna\n",
            "Kerli\n",
            "Martin\n"
          ]
        }
      ]
    },
    {
      "cell_type": "code",
      "source": [
        "name = \"trees \"*10\n",
        "print(name, end = \" end\")\n"
      ],
      "metadata": {
        "colab": {
          "base_uri": "https://localhost:8080/"
        },
        "id": "EV9TdP2E6b05",
        "outputId": "a12549bd-017b-45a7-9c92-08e849dca86a"
      },
      "execution_count": null,
      "outputs": [
        {
          "output_type": "stream",
          "name": "stdout",
          "text": [
            "trees trees trees trees trees trees trees trees trees trees  end"
          ]
        }
      ]
    },
    {
      "cell_type": "code",
      "source": [
        "name = 'Emma'\n",
        "surname = 'Johnson'\n",
        "print('Hello', name, '!')\n",
        "print(f'Hello {name}!')"
      ],
      "metadata": {
        "id": "4Nio1sjkPQIT",
        "colab": {
          "base_uri": "https://localhost:8080/"
        },
        "outputId": "7f2640bc-e90d-4e89-9244-65b05d90ed89"
      },
      "execution_count": null,
      "outputs": [
        {
          "output_type": "stream",
          "name": "stdout",
          "text": [
            "Hello Emma !\n",
            "Hello Emma!\n"
          ]
        }
      ]
    },
    {
      "cell_type": "code",
      "source": [
        "name = input(\"Enter your name: \")\n",
        "print(name)\n"
      ],
      "metadata": {
        "colab": {
          "base_uri": "https://localhost:8080/"
        },
        "id": "igtIrFgU9iNU",
        "outputId": "1c3645e9-71b5-489a-d340-aa87e3885880"
      },
      "execution_count": null,
      "outputs": [
        {
          "output_type": "stream",
          "name": "stdout",
          "text": [
            "Enter your name: Girta\n",
            "Girta\n"
          ]
        }
      ]
    },
    {
      "cell_type": "code",
      "source": [
        "name = input(\"Enter your name: \")\n",
        "print(f'Hello {name}, nice to meet you!') # f-string\n",
        "\n",
        "print('Hello', name, 'nice to meet you!') #not f-string\n",
        "\n",
        "print(f'Hello {name}, I would like to read the book \"Hamlet\"') # f-string"
      ],
      "metadata": {
        "colab": {
          "base_uri": "https://localhost:8080/"
        },
        "id": "kyKOIVkVTcbZ",
        "outputId": "e8c5205f-36f9-4fec-c4a2-b9daece8ea16"
      },
      "execution_count": null,
      "outputs": [
        {
          "output_type": "stream",
          "name": "stdout",
          "text": [
            "Enter your name: Girta\n",
            "Hello Girta, nice to meet you!\n",
            "Hello Girta nice to meet you!\n",
            "Hello Girta, I would like to read the book \"Hamlet\"\n"
          ]
        }
      ]
    },
    {
      "cell_type": "code",
      "source": [
        "print(\"Anna\", \"Jonh\")\n",
        "name = \"Anna\"\n",
        "surname = \"John\"\n",
        "print (name, surname)\n",
        "print('Hello', name)\n",
        "print(\"Anna\", \"Jonh\")\n",
        "print(f'Hello, {name} {surname}!')\n"
      ],
      "metadata": {
        "colab": {
          "base_uri": "https://localhost:8080/"
        },
        "id": "r1jJQ2Zt9zw_",
        "outputId": "73f7ee5d-da51-4d1b-a175-26fb93847aa3"
      },
      "execution_count": null,
      "outputs": [
        {
          "output_type": "stream",
          "name": "stdout",
          "text": [
            "Anna Jonh\n",
            "Anna John\n",
            "Hello Anna\n",
            "Anna Jonh\n",
            "Hello, Anna John!\n"
          ]
        }
      ]
    },
    {
      "cell_type": "code",
      "source": [
        "# TEAMWORK\n",
        "# data types\n",
        "# f-strings\n",
        "    # string – sequence of elements\n",
        "    # f – formatted string\n",
        "# define a person (same what we did in Java)\n"
      ],
      "metadata": {
        "id": "jt2vlEyoaF-J"
      },
      "execution_count": null,
      "outputs": []
    },
    {
      "cell_type": "markdown",
      "source": [
        "**f-strings**, officially known as formatted string literals, were introduced in Python 3.6 and later versions as a way to make string formatting more straightforward and readable. **They allow for embedding expressions inside string literals, using curly braces {} to include variables, expressions, and even function calls directly within a string**. The expressions inside the curly braces are evaluated at runtime, and then formatted using the surrounding string.\n",
        "\n",
        "To use an f-string, prefix the string with the letter f or F before the opening quotation mark. The Python interpreter will recognize it as an f-string and replace the expressions within {} with their values.\n",
        "\n",
        "* f-string is used when you want to combine, or glue together text with values, or many values together. If you have one value to print out, there is no need to use f-string"
      ],
      "metadata": {
        "id": "0pwNHFZz_8uS"
      }
    },
    {
      "cell_type": "code",
      "source": [
        "# 1.\n",
        "name = \"John\"\n",
        "surname = \"Door\"\n",
        "gender = \"male\"\n",
        "age = 30\n",
        "marital_status = \"single\"\n",
        "number_of_children = 0\n",
        "is_student = True\n",
        "major = \"Developer\"\n",
        "bank_name = \"Coop Pank\"\n",
        "bank_account_number = \"123456789\"\n",
        "print(f\"Full name: {name} {surname}\\nGender: {gender}\\nAge: {age}\\nMarital status: {marital_status}\\nNumber of children: {number_of_children}\")\n",
        "print(f\"Student: {is_student}\\nMajor: {major}\\nBank name: {bank_name:}\\nBank account number: {bank_account_number}\")\n"
      ],
      "metadata": {
        "colab": {
          "base_uri": "https://localhost:8080/"
        },
        "id": "yrIqikwp-VNX",
        "outputId": "aae00541-0ac2-4f71-ea36-4fd308f103d2"
      },
      "execution_count": null,
      "outputs": [
        {
          "output_type": "stream",
          "name": "stdout",
          "text": [
            "Full name: John Door\n",
            "Gender: male\n",
            "Age: 30\n",
            "Marital status: single\n",
            "Number of children: 0\n",
            "Student: True\n",
            "Major: Developer\n",
            "Bank name: Coop Pank\n",
            "Bank account number: 123456789\n"
          ]
        }
      ]
    },
    {
      "cell_type": "code",
      "source": [
        "# 2.\n",
        "name = \"John\"\n",
        "surname = \"Door\"\n",
        "gender = \"male\"\n",
        "age = 30\n",
        "marital_status = \"single\"\n",
        "number_of_children = \"no\"\n",
        "is_student = True\n",
        "major = \"Developer\"\n",
        "bank_name = \"Coop Pank\"\n",
        "bank_account_number = \"123456789\"\n",
        "print(f\"Hi! My name is {name} {surname}({gender}) and I am {age} years old. I am {marital_status} and I have {number_of_children} children.\")\n",
        "print(f\"I am a student {is_student}, my major is {major}. I have an account in {bank_name:}, the account number is {bank_account_number}.\")\n"
      ],
      "metadata": {
        "colab": {
          "base_uri": "https://localhost:8080/"
        },
        "id": "RDi9PAE1_VoM",
        "outputId": "943cc82e-ec53-47d0-8141-c092b94c95e1"
      },
      "execution_count": null,
      "outputs": [
        {
          "output_type": "stream",
          "name": "stdout",
          "text": [
            "Hi! My name is John Door(male) and I am 30 years old. I am single and I have no children.\n",
            "I am a student True, my major is Developer. I have an account in Coop Pank, the account number is 123456789.\n"
          ]
        }
      ]
    },
    {
      "cell_type": "markdown",
      "source": [
        "**Lesson 2.**\n",
        "\n",
        "**Topic: Arithmetic and variables**\n",
        "\n",
        "1. Manipulating variables\n",
        "2. Arithmetic operations with variables\n",
        "3. Variable type changes\n",
        "4. Writing programs with input, f-string and arithmetic operations\n",
        "5. Team work: create a program for Body Mass Calculation (BMI)"
      ],
      "metadata": {
        "id": "mb0gFgZPPF3x"
      }
    },
    {
      "cell_type": "code",
      "source": [
        "# LESSON 2 (30.3.24)\n",
        "\n",
        "# BASIC DATA TYPES\n",
        "\n",
        "# int (integer): represents whole numbers, e.g., 5, -3, 42\n",
        "# float: represents real numbers (floating-point numbers), e.g., 3.14, -0.001, 2.0\n",
        "# str (string): represents text, e.g., \"Hello, World!\"\n",
        "# bool (boolean): represents logical values, can be either True or False\n",
        "\n",
        "# Integer\n",
        "\n",
        "x = 14\n",
        "print(x)\n",
        "print(type(x))"
      ],
      "metadata": {
        "colab": {
          "base_uri": "https://localhost:8080/"
        },
        "id": "NXX12oEeKpEL",
        "outputId": "b270976f-277a-4c01-984d-778fad3c7bdb"
      },
      "execution_count": null,
      "outputs": [
        {
          "output_type": "stream",
          "name": "stdout",
          "text": [
            "14\n",
            "<class 'int'>\n"
          ]
        }
      ]
    },
    {
      "cell_type": "code",
      "execution_count": null,
      "metadata": {
        "colab": {
          "base_uri": "https://localhost:8080/"
        },
        "id": "VQ4qDM5uasEe",
        "outputId": "e0756d54-83b8-4e4e-c9a4-32ca2fe23aca"
      },
      "outputs": [
        {
          "output_type": "stream",
          "name": "stdout",
          "text": [
            "<class 'int'>\n"
          ]
        }
      ],
      "source": [
        "x1 = -1\n",
        "print(type(x1))"
      ]
    },
    {
      "cell_type": "code",
      "execution_count": null,
      "metadata": {
        "colab": {
          "base_uri": "https://localhost:8080/"
        },
        "id": "ulSKnSFpbTsy",
        "outputId": "80a55cdf-4c2c-4ca5-fa4e-7562538aa7a3"
      },
      "outputs": [
        {
          "output_type": "stream",
          "name": "stdout",
          "text": [
            "3.14\n",
            "<class 'float'>\n"
          ]
        }
      ],
      "source": [
        "# Floats\n",
        "\n",
        "nearly_pi = 3.14\n",
        "print(nearly_pi)\n",
        "print(type(nearly_pi))\n"
      ]
    },
    {
      "cell_type": "code",
      "execution_count": null,
      "metadata": {
        "colab": {
          "base_uri": "https://localhost:8080/"
        },
        "id": "xKEdU_tfbrpU",
        "outputId": "97b9d144-2264-4526-818f-fd594a1e548d"
      },
      "outputs": [
        {
          "output_type": "stream",
          "name": "stdout",
          "text": [
            "3.142857142857143\n",
            "<class 'float'>\n"
          ]
        }
      ],
      "source": [
        "nearly_pi1 = 22/7 # variable names must be unique within their scope\n",
        "print(nearly_pi1)\n",
        "print(type(nearly_pi1))"
      ]
    },
    {
      "cell_type": "code",
      "execution_count": null,
      "metadata": {
        "colab": {
          "base_uri": "https://localhost:8080/"
        },
        "id": "Z8VhghIhb-dx",
        "outputId": "f81126a5-359a-4347-d18c-781cf3516335"
      },
      "outputs": [
        {
          "name": "stdout",
          "output_type": "stream",
          "text": [
            "3\n",
            "<class 'int'>\n"
          ]
        }
      ],
      "source": [
        "# Rounding float\n",
        "\n",
        "rounded_nearly_pi1 = round(3.142857142857143)\n",
        "print(rounded_nearly_pi1)\n",
        "print(type(rounded_nearly_pi1))"
      ]
    },
    {
      "cell_type": "code",
      "execution_count": null,
      "metadata": {
        "colab": {
          "base_uri": "https://localhost:8080/"
        },
        "id": "lcWq-Tq-duNo",
        "outputId": "4368a3e4-782d-4bc7-eec5-a0fa0b40ce0a"
      },
      "outputs": [
        {
          "name": "stdout",
          "output_type": "stream",
          "text": [
            "3.14\n",
            "<class 'float'>\n"
          ]
        }
      ],
      "source": [
        "rounded_nearly_pi1 = round(3.142857142857143, 2)\n",
        "print(rounded_nearly_pi1)\n",
        "print(type(rounded_nearly_pi1))"
      ]
    },
    {
      "cell_type": "code",
      "execution_count": null,
      "metadata": {
        "colab": {
          "base_uri": "https://localhost:8080/"
        },
        "id": "KplBS_pwdzkh",
        "outputId": "0d629b06-78c3-4d3e-ac11-a7f349a865e1"
      },
      "outputs": [
        {
          "name": "stdout",
          "output_type": "stream",
          "text": [
            "3.14\n",
            "<class 'float'>\n"
          ]
        }
      ],
      "source": [
        "rounded_nearly_pi1 = round(nearly_pi1, 2)\n",
        "print(rounded_nearly_pi1)\n",
        "print(type(rounded_nearly_pi1))"
      ]
    },
    {
      "cell_type": "code",
      "execution_count": null,
      "metadata": {
        "colab": {
          "base_uri": "https://localhost:8080/"
        },
        "id": "RBYCIdPqeQ3x",
        "outputId": "43a52fce-87ac-4616-c77a-3345b51d4ff3"
      },
      "outputs": [
        {
          "output_type": "execute_result",
          "data": {
            "text/plain": [
              "int"
            ]
          },
          "metadata": {},
          "execution_count": 66
        }
      ],
      "source": [
        "round(nearly_pi1)\n",
        "type(round(nearly_pi1))\n"
      ]
    },
    {
      "cell_type": "markdown",
      "source": [
        "**!** Using an interactive environment like a **Python REPL** (Read-Eval-Print Loop), **Jupyter notebook**, or certain integrated development environments (IDEs) that execute Python code interactively, these environments automatically display the result of the last expression in each input cell or console line. In such cases, simply typing an **expression like type(round(nearly_pi1)) will cause the type to be displayed without explicitly calling print()**. **This is a feature of the interactive environment and not of the Python language itself**. For scripts intended to run outside of these environments, you'll need to use print() to see outputs"
      ],
      "metadata": {
        "id": "mobkDhAhmYcQ"
      }
    },
    {
      "cell_type": "code",
      "execution_count": null,
      "metadata": {
        "colab": {
          "base_uri": "https://localhost:8080/"
        },
        "id": "ZgMIk3aCe4TV",
        "outputId": "f23a757f-d733-44c7-e667-ed40dc1fac04"
      },
      "outputs": [
        {
          "output_type": "stream",
          "name": "stdout",
          "text": [
            "3.0\n"
          ]
        },
        {
          "output_type": "execute_result",
          "data": {
            "text/plain": [
              "int"
            ]
          },
          "metadata": {},
          "execution_count": 69
        }
      ],
      "source": [
        "print(round(nearly_pi1, 0))\n",
        "\n",
        "# 0 means that nearly_pi1 is rounded to the nearest whole number.\n",
        "# if nearly_pi1 is 3.14, it would be rounded to 3.0\n",
        "\n",
        "type(round(nearly_pi1))"
      ]
    },
    {
      "cell_type": "code",
      "execution_count": null,
      "metadata": {
        "colab": {
          "base_uri": "https://localhost:8080/"
        },
        "id": "R7GGHtkvfSKj",
        "outputId": "da670e34-b5a5-4129-8d0a-c03f8472c2a1"
      },
      "outputs": [
        {
          "output_type": "stream",
          "name": "stdout",
          "text": [
            "False\n",
            "<class 'bool'>\n"
          ]
        }
      ],
      "source": [
        "#Booleans\n",
        "\n",
        "boolean1 = False\n",
        "print(boolean1)\n",
        "print(type(boolean1))\n"
      ]
    },
    {
      "cell_type": "code",
      "execution_count": null,
      "metadata": {
        "colab": {
          "base_uri": "https://localhost:8080/"
        },
        "id": "b4ODEQv8fqsZ",
        "outputId": "d8b61ac1-cdb4-4402-ea9a-e9b60967ab4c"
      },
      "outputs": [
        {
          "name": "stdout",
          "output_type": "stream",
          "text": [
            "false\n",
            "<class 'str'>\n"
          ]
        }
      ],
      "source": [
        "boolean1 = \"false\"\n",
        "print(boolean1)\n",
        "print(type(boolean1))"
      ]
    },
    {
      "cell_type": "code",
      "execution_count": null,
      "metadata": {
        "colab": {
          "base_uri": "https://localhost:8080/"
        },
        "id": "7Ccgvd2Wf8j4",
        "outputId": "1eba4a2e-4727-44fd-ccf9-6d4d8ea15fdb"
      },
      "outputs": [
        {
          "output_type": "stream",
          "name": "stdout",
          "text": [
            "False\n",
            "<class 'bool'>\n"
          ]
        }
      ],
      "source": [
        "boolean2 = (7 > 9)\n",
        "print(boolean2)\n",
        "print(type(boolean2))\n"
      ]
    },
    {
      "cell_type": "code",
      "execution_count": null,
      "metadata": {
        "colab": {
          "base_uri": "https://localhost:8080/"
        },
        "id": "t9bJvKIQgejh",
        "outputId": "4fb83910-9d13-42c0-ff3e-83a2a3802c3e"
      },
      "outputs": [
        {
          "output_type": "stream",
          "name": "stdout",
          "text": [
            "True\n",
            "<class 'bool'>\n"
          ]
        }
      ],
      "source": [
        "boolean3 = (2 > 1)\n",
        "print(boolean3)\n",
        "print(type(boolean3))"
      ]
    },
    {
      "cell_type": "code",
      "execution_count": null,
      "metadata": {
        "colab": {
          "base_uri": "https://localhost:8080/"
        },
        "id": "W49msJHvgh1M",
        "outputId": "c40178ad-a728-44a9-aac1-29093fba6637"
      },
      "outputs": [
        {
          "output_type": "stream",
          "name": "stdout",
          "text": [
            "True\n",
            "<class 'bool'>\n"
          ]
        }
      ],
      "source": [
        "boolean4 = not boolean1\n",
        "print(boolean4)\n",
        "print(type(boolean4))"
      ]
    },
    {
      "cell_type": "code",
      "execution_count": null,
      "metadata": {
        "colab": {
          "base_uri": "https://localhost:8080/"
        },
        "id": "UEOrRshIg1Rl",
        "outputId": "adb2c0dd-4473-4327-a358-2bf5bbf16827"
      },
      "outputs": [
        {
          "name": "stdout",
          "output_type": "stream",
          "text": [
            "1\n"
          ]
        }
      ],
      "source": [
        "# TRUE == 1\n",
        "# FALSE == 0\n",
        "\n",
        "boolean5 = True + False\n",
        "print(boolean5)\n"
      ]
    },
    {
      "cell_type": "markdown",
      "source": [
        "![Screenshot 2024-04-06 at 16.01.37.png](data:image/png;base64,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)"
      ],
      "metadata": {
        "id": "V4DklHOvfFoR"
      }
    },
    {
      "cell_type": "code",
      "execution_count": null,
      "metadata": {
        "colab": {
          "base_uri": "https://localhost:8080/"
        },
        "id": "eRAQhAB5hKn7",
        "outputId": "85c39b4f-dc45-4faa-a7dd-271be0371c2d"
      },
      "outputs": [
        {
          "name": "stdout",
          "output_type": "stream",
          "text": [
            "2\n"
          ]
        }
      ],
      "source": [
        "boolean5 = True + False + True\n",
        "print(boolean5)"
      ]
    },
    {
      "cell_type": "code",
      "execution_count": null,
      "metadata": {
        "colab": {
          "base_uri": "https://localhost:8080/"
        },
        "id": "fSzxbO5nhoF7",
        "outputId": "04c313ff-10fb-47d4-dd59-f96f376c84dc"
      },
      "outputs": [
        {
          "name": "stdout",
          "output_type": "stream",
          "text": [
            "3\n",
            "<class 'int'>\n"
          ]
        }
      ],
      "source": [
        "boolean6 = True + False + False + True + False + True\n",
        "print(boolean6)\n",
        "print(type(boolean6))\n"
      ]
    },
    {
      "cell_type": "code",
      "execution_count": null,
      "metadata": {
        "colab": {
          "base_uri": "https://localhost:8080/"
        },
        "id": "nbEyKRO6h_eM",
        "outputId": "a6afeae3-e033-4c6c-e3ed-b43ad325ab67"
      },
      "outputs": [
        {
          "output_type": "stream",
          "name": "stdout",
          "text": [
            "Hello Girta!\n"
          ]
        },
        {
          "output_type": "execute_result",
          "data": {
            "text/plain": [
              "str"
            ]
          },
          "metadata": {},
          "execution_count": 4
        }
      ],
      "source": [
        "string1 = \"Hello Girta!\"\n",
        "print(string1)\n",
        "type(string1)\n"
      ]
    },
    {
      "cell_type": "code",
      "execution_count": null,
      "metadata": {
        "colab": {
          "base_uri": "https://localhost:8080/"
        },
        "id": "9tMn50CriuWE",
        "outputId": "f7748875-1eb5-4cb7-debe-9c00c7943c01"
      },
      "outputs": [
        {
          "output_type": "execute_result",
          "data": {
            "text/plain": [
              "12"
            ]
          },
          "metadata": {},
          "execution_count": 5
        }
      ],
      "source": [
        "len(string1)"
      ]
    },
    {
      "cell_type": "code",
      "execution_count": null,
      "metadata": {
        "colab": {
          "base_uri": "https://localhost:8080/"
        },
        "id": "j-oRL8LYi_v0",
        "outputId": "86a8abe6-9119-416a-a2cf-dcfcaa45c834"
      },
      "outputs": [
        {
          "data": {
            "text/plain": [
              "str"
            ]
          },
          "execution_count": 34,
          "metadata": {},
          "output_type": "execute_result"
        }
      ],
      "source": [
        "nearly_pi_string = \"3.14\"\n",
        "type(nearly_pi_string)"
      ]
    },
    {
      "cell_type": "code",
      "execution_count": null,
      "metadata": {
        "colab": {
          "base_uri": "https://localhost:8080/"
        },
        "id": "IoNq3L-YjNe9",
        "outputId": "3f3a47f0-dfc3-40ef-d73f-6df7c71b34e7"
      },
      "outputs": [
        {
          "data": {
            "text/plain": [
              "float"
            ]
          },
          "execution_count": 35,
          "metadata": {},
          "output_type": "execute_result"
        }
      ],
      "source": [
        "nearly_pi_converted = float(nearly_pi_string)\n",
        "type(nearly_pi_converted)"
      ]
    },
    {
      "cell_type": "code",
      "execution_count": null,
      "metadata": {
        "colab": {
          "base_uri": "https://localhost:8080/"
        },
        "id": "iQCdCNHij1Dw",
        "outputId": "9e142d61-02d3-4f95-e91b-e86631f2182c"
      },
      "outputs": [
        {
          "name": "stdout",
          "output_type": "stream",
          "text": [
            "abc def\n"
          ]
        }
      ],
      "source": [
        "new_string = \"abc\" + \" def\"\n",
        "print(new_string)\n"
      ]
    },
    {
      "cell_type": "code",
      "execution_count": null,
      "metadata": {
        "colab": {
          "base_uri": "https://localhost:8080/"
        },
        "id": "NNdDwTFKkO_J",
        "outputId": "c983d50a-2531-4bf3-9a78-d796bec540e7"
      },
      "outputs": [
        {
          "name": "stdout",
          "output_type": "stream",
          "text": [
            "SUM: 8\n"
          ]
        },
        {
          "data": {
            "text/plain": [
              "int"
            ]
          },
          "execution_count": 41,
          "metadata": {},
          "output_type": "execute_result"
        }
      ],
      "source": [
        "# Arithmetic calculations\n",
        "# Addition\n",
        "\n",
        "a = 5\n",
        "b = 3\n",
        "sum = a + b\n",
        "print(f'SUM: {sum}')\n",
        "type(sum)"
      ]
    },
    {
      "cell_type": "code",
      "execution_count": null,
      "metadata": {
        "colab": {
          "base_uri": "https://localhost:8080/"
        },
        "id": "m0SjV0rpk33F",
        "outputId": "175b7915-8a35-4220-ab2d-c627fa72202f"
      },
      "outputs": [
        {
          "name": "stdout",
          "output_type": "stream",
          "text": [
            "Difference: 2\n"
          ]
        }
      ],
      "source": [
        "# Substraction\n",
        "\n",
        "difference = a - b\n",
        "print(f'Difference: {difference}')\n"
      ]
    },
    {
      "cell_type": "code",
      "execution_count": null,
      "metadata": {
        "colab": {
          "base_uri": "https://localhost:8080/"
        },
        "id": "WDPVxfX_myFl",
        "outputId": "f246840f-4146-4936-e10c-219fac6f89c4"
      },
      "outputs": [
        {
          "name": "stdout",
          "output_type": "stream",
          "text": [
            "Multoplication: 15\n"
          ]
        }
      ],
      "source": [
        "# Multiplication\n",
        "\n",
        "multip = a * b\n",
        "print(f'Multoplication: {multip}')"
      ]
    },
    {
      "cell_type": "code",
      "execution_count": null,
      "metadata": {
        "colab": {
          "base_uri": "https://localhost:8080/"
        },
        "id": "4chBJipVnF1b",
        "outputId": "64288549-6700-434b-f365-6855b34a2a2b"
      },
      "outputs": [
        {
          "name": "stdout",
          "output_type": "stream",
          "text": [
            "Division: 1.6666666666666667\n"
          ]
        }
      ],
      "source": [
        "# Division\n",
        "\n",
        "div = a / b\n",
        "print(f'Division: {div}')"
      ]
    },
    {
      "cell_type": "code",
      "execution_count": null,
      "metadata": {
        "colab": {
          "base_uri": "https://localhost:8080/"
        },
        "id": "k7JW6-XwnaJQ",
        "outputId": "8d54287b-a65f-4551-dc18-515aa6ef35b3"
      },
      "outputs": [
        {
          "name": "stdout",
          "output_type": "stream",
          "text": [
            "125\n"
          ]
        }
      ],
      "source": [
        "# Exponentiation\n",
        "power = a ** b\n",
        "print(power)"
      ]
    },
    {
      "cell_type": "code",
      "execution_count": null,
      "metadata": {
        "colab": {
          "base_uri": "https://localhost:8080/"
        },
        "id": "EcqdfqutonC_",
        "outputId": "62e278f5-faba-46a2-c2f5-0f0798a461b8"
      },
      "outputs": [
        {
          "name": "stdout",
          "output_type": "stream",
          "text": [
            "How old are you?45\n",
            "45\n",
            "<class 'str'>\n"
          ]
        }
      ],
      "source": [
        "input1 = input('How old are you?') # String value!!!\n",
        "\n",
        "print(input1)\n",
        "print(type(input1))\n"
      ]
    },
    {
      "cell_type": "code",
      "execution_count": null,
      "metadata": {
        "colab": {
          "base_uri": "https://localhost:8080/"
        },
        "id": "K5NDeljUqZ8d",
        "outputId": "6f1d03c8-05e6-47fa-99a1-39d4a7cfc4a4"
      },
      "outputs": [
        {
          "name": "stdout",
          "output_type": "stream",
          "text": [
            "How old are you?10\n",
            "How old am I?20\n",
            "1020\n",
            "10\n",
            "<class 'str'>\n"
          ]
        }
      ],
      "source": [
        "input1 = input('How old are you?') # String value!!!\n",
        "input2 = input('How old am I?') # String value!!!\n",
        "sum = input1 + input2\n",
        "print(sum)\n",
        "\n",
        "print(input1)\n",
        "print(type(input1))"
      ]
    },
    {
      "cell_type": "markdown",
      "source": [
        "# **Converting**"
      ],
      "metadata": {
        "id": "bEbg92Rcm9SO"
      }
    },
    {
      "cell_type": "code",
      "execution_count": null,
      "metadata": {
        "colab": {
          "base_uri": "https://localhost:8080/"
        },
        "id": "v7I95aXQrBps",
        "outputId": "9ee96895-ae3c-4776-877a-14e7029ef58e"
      },
      "outputs": [
        {
          "name": "stdout",
          "output_type": "stream",
          "text": [
            "How old are you?45\n",
            "How old am I?10\n",
            "55\n"
          ]
        }
      ],
      "source": [
        "input1 = input('How old are you?') # String value!!!\n",
        "input2 = input('How old am I?') # String value!!!\n",
        "\n",
        "input1_int = int(input1)  # converting to integar\n",
        "input2_int = int(input2)\n",
        "\n",
        "sum = input1_int + input2_int\n",
        "print(sum)\n",
        "\n"
      ]
    },
    {
      "cell_type": "code",
      "execution_count": null,
      "metadata": {
        "colab": {
          "base_uri": "https://localhost:8080/"
        },
        "id": "UoO8I4GDsDDc",
        "outputId": "40f99270-0c10-4020-feb0-7ac7b6330c96"
      },
      "outputs": [
        {
          "name": "stdout",
          "output_type": "stream",
          "text": [
            "Enter area: 100000\n",
            "Enter population: 5000\n",
            "Average density is: 0.05)\n"
          ]
        }
      ],
      "source": [
        "# Density of an area\n",
        "\n",
        "area = input(\"Enter area: \") # m2\n",
        "population = input(\"Enter population: \")\n",
        "\n",
        "area_int = int(area)\n",
        "population_int = int(population)\n",
        "\n",
        "density = population_int / area_int\n",
        "\n",
        "print(f'Average density is: {density})')"
      ]
    },
    {
      "cell_type": "code",
      "source": [
        "\n",
        "\n",
        "\n",
        "\n",
        "\n"
      ],
      "metadata": {
        "id": "m3rxQCSnnQ-l"
      },
      "execution_count": null,
      "outputs": []
    },
    {
      "cell_type": "code",
      "execution_count": null,
      "metadata": {
        "colab": {
          "background_save": true
        },
        "id": "fyreSrU0tFsG",
        "outputId": "30b59780-3c79-4a27-b0cd-68f52d10d41d"
      },
      "outputs": [
        {
          "name": "stdout",
          "output_type": "stream",
          "text": [
            "Weight in pounds was: 10 , weight in kilograms is: 4.53592\n"
          ]
        }
      ],
      "source": [
        "# Converting pounds to kilograms\n",
        "\n",
        "# 1 pound = 0.453592 kilograms\n",
        "\n",
        "pounds = input(\"Enter the weight in pounds: \")\n",
        "\n",
        "pounds_float =float(pounds)\n",
        "\n",
        "CONVERSION_FACTOR = 0.453592 # constant variable, capital letters\n",
        "\n",
        "kilograms = round(pounds_float * CONVERSION_FACTOR, 2)\n",
        "\n",
        "print(f\"Weight in pounds was: {pounds} lb, weight in kilograms is: {kilograms} kg\")\n"
      ]
    },
    {
      "cell_type": "markdown",
      "source": [
        "**TEAMWORK:** Body Mass Index (BMI) is a measure of body fat based on height and weight. It is calculated by dividing a person's weight in kilograms by the square of their height in meters. The formula for BMI is:\n",
        "\n",
        "[BMI = \\frac{weight (kg)}{height (m)^2}]\n",
        "\n",
        "Write a Python program that prompts the user to enter their weight in kilograms and their height in meters, then calculates and displays their BMI.\n",
        "\n",
        "Example Output:\n",
        "Enter your weight in kilograms: 70\n",
        "Enter your height in meters: 1.75\n",
        "Your BMI is: 22.86\n",
        "\n",
        "Your task is to write Python code to achieve the above functionality."
      ],
      "metadata": {
        "id": "-rLDrecQj0Rg"
      }
    },
    {
      "cell_type": "code",
      "source": [],
      "metadata": {
        "id": "TDT8vKqcgI_5"
      },
      "execution_count": null,
      "outputs": []
    },
    {
      "cell_type": "code",
      "source": [],
      "metadata": {
        "id": "4nwcFNeAgJRi"
      },
      "execution_count": null,
      "outputs": []
    },
    {
      "cell_type": "markdown",
      "source": [
        "# TEST\n",
        "Started on\tSunday, 7 April 2024, 11:16 AM\n",
        "\n",
        "Completed on\tSunday, 7 April 2024, 11:19 AM\n",
        "\n",
        "Time taken\t3 mins 35 secs\n",
        "\n",
        "Grade\t10.00 out of 10.00 (100%)\n",
        "\n",
        "**Question 1:**\n",
        "What is the main advantage of using f-strings over traditional string formatting or concatenation with the print() statement in Python?\n",
        "\n",
        "a.\n",
        "**f-strings are more readable and concise than other methods.**\n",
        "\n",
        "\n",
        "b.\n",
        "f-strings allow for easier manipulation of variables\n",
        "\n",
        "c.\n",
        "f-strings provide better performance compared to other methods.\n",
        "\n",
        "d.\n",
        "f-strings are the only way to print variables in Python\n",
        "\n",
        "**Question 2:** Which function in Python is used to take user input?\n",
        "\n",
        "a.\n",
        "take_input()\n",
        "\n",
        "b.\n",
        "user_input()\n",
        "\n",
        "c.\n",
        "get_input()\n",
        "\n",
        "d.\n",
        "**input()**\n",
        "\n",
        "**Question 3:** Which of the following correctly assigns a text value to a variable in Python?\n",
        "\n",
        "a.\n",
        "text = (Hello, world!)\n",
        "\n",
        "b.\n",
        "**text = 'Hello, world!'**\n",
        "\n",
        "c.\n",
        "'Hello, world!'\n",
        "\n",
        "d.\n",
        "text: 'Hello, world!'\n",
        "\n",
        "e.\n",
        "text = \\\"Hello, world!\\\"\n",
        "\n",
        "**Question 4:** Python uses curly braces {} to define blocks of code.\n",
        "\n",
        "Select one: True **False**\n",
        "\n",
        "**Question 5**: Python allows both single-line and multi-line comments using // and /* */ respectively.\n",
        "\n",
        "Select one: True **False**\n",
        "\n",
        "**Question 6:** Python is a dynamically typed language, meaning you don't need to declare the type of a variable before using it.\n",
        "\n",
        "Select one: **True** False\n"
      ],
      "metadata": {
        "id": "BaibfXLRpnyg"
      }
    },
    {
      "cell_type": "markdown",
      "source": [
        "**Lesson 3.**\n",
        "\n",
        "**Topic: Conditional execution**\n",
        "\n",
        "\n",
        "1. Python reserved words\n",
        "2. Indentation\n",
        "3. Comparison operations\n",
        "4. Two-way decisions with if and else\n",
        "5. Team work: Create a Python program for temperature conversion between Celsius and Fahrenheit scales. The program should prompt users to select the direction of conversion, accept input for the temperature value, and accurately perform the conversion (use IF and/or ELSE). Output should be displayed with formatted strings showing both the original and converted temperatures."
      ],
      "metadata": {
        "id": "N9MARtePPo3d"
      }
    },
    {
      "cell_type": "code",
      "source": [
        "# LESSON 3 (6.4.24)"
      ],
      "metadata": {
        "id": "u8n3yqXyAmKl"
      },
      "execution_count": null,
      "outputs": []
    },
    {
      "cell_type": "markdown",
      "source": [
        "\n",
        "![Operators](https://private-user-images.githubusercontent.com/136323645/320209073-62beb971-ad6d-48d8-8b1b-10cc20c76aec.png?jwt=eyJhbGciOiJIUzI1NiIsInR5cCI6IkpXVCJ9.eyJpc3MiOiJnaXRodWIuY29tIiwiYXVkIjoicmF3LmdpdGh1YnVzZXJjb250ZW50LmNvbSIsImtleSI6ImtleTUiLCJleHAiOjE3MTI0MTA2NzUsIm5iZiI6MTcxMjQxMDM3NSwicGF0aCI6Ii8xMzYzMjM2NDUvMzIwMjA5MDczLTYyYmViOTcxLWFkNmQtNDhkOC04YjFiLTEwY2MyMGM3NmFlYy5wbmc_WC1BbXotQWxnb3JpdGhtPUFXUzQtSE1BQy1TSEEyNTYmWC1BbXotQ3JlZGVudGlhbD1BS0lBVkNPRFlMU0E1M1BRSzRaQSUyRjIwMjQwNDA2JTJGdXMtZWFzdC0xJTJGczMlMkZhd3M0X3JlcXVlc3QmWC1BbXotRGF0ZT0yMDI0MDQwNlQxMzMyNTVaJlgtQW16LUV4cGlyZXM9MzAwJlgtQW16LVNpZ25hdHVyZT1jYmFlZTYyNmYxZDMzNTcyMDUzZDcyZGE3YWU3YTQ4YzNhM2NlNWVmMGFkY2RjMjQ4YjFlYzVkZTY4ZjgxZTAxJlgtQW16LVNpZ25lZEhlYWRlcnM9aG9zdCZhY3Rvcl9pZD0wJmtleV9pZD0wJnJlcG9faWQ9MCJ9.TtcV8OwE2OFfa8eaJFiI34mMKwDMMvFm0e_cqmkaNiI)"
      ],
      "metadata": {
        "id": "2kz3DM2JggrA"
      }
    },
    {
      "cell_type": "code",
      "source": [
        "#EQUAL TO (==)\n",
        "x = 5 #assign a variable\n",
        "y = 5\n",
        "\n",
        "print(x == y)\n",
        "print(\"a\" == 5)\n"
      ],
      "metadata": {
        "colab": {
          "base_uri": "https://localhost:8080/"
        },
        "id": "h8yv9dAxQBih",
        "outputId": "58e21322-a7d2-4505-d42a-eb26951a7d83"
      },
      "execution_count": null,
      "outputs": [
        {
          "output_type": "stream",
          "name": "stdout",
          "text": [
            "True\n",
            "False\n"
          ]
        }
      ]
    },
    {
      "cell_type": "code",
      "source": [
        "# NOT EQUAL (!=)\n",
        "\n",
        "print(x !=y)"
      ],
      "metadata": {
        "colab": {
          "base_uri": "https://localhost:8080/"
        },
        "id": "YZcg9flP2do3",
        "outputId": "8bfe8079-c351-41ad-87ad-bc34e3ef1e29"
      },
      "execution_count": null,
      "outputs": [
        {
          "output_type": "stream",
          "name": "stdout",
          "text": [
            "False\n"
          ]
        }
      ]
    },
    {
      "cell_type": "code",
      "source": [
        "# GREATER THAN (>)\n",
        "\n",
        "print(x > 10)\n"
      ],
      "metadata": {
        "colab": {
          "base_uri": "https://localhost:8080/"
        },
        "id": "1zvgmHQgQlbF",
        "outputId": "913ed0fc-3b9a-4df4-81fa-30025617a88f"
      },
      "execution_count": null,
      "outputs": [
        {
          "output_type": "stream",
          "name": "stdout",
          "text": [
            "False\n"
          ]
        }
      ]
    },
    {
      "cell_type": "code",
      "source": [
        "# LESS THAN (<)\n",
        "\n",
        "print(x < 10)"
      ],
      "metadata": {
        "colab": {
          "base_uri": "https://localhost:8080/"
        },
        "id": "GoGZLgk2Req_",
        "outputId": "4748ad2f-eb5b-4dfe-842e-30391a266b47"
      },
      "execution_count": null,
      "outputs": [
        {
          "output_type": "stream",
          "name": "stdout",
          "text": [
            "True\n"
          ]
        }
      ]
    },
    {
      "cell_type": "code",
      "source": [
        "# GREATER THAN OR EQUAL TO (>=)\n",
        "\n",
        "print(x >= 5)"
      ],
      "metadata": {
        "colab": {
          "base_uri": "https://localhost:8080/"
        },
        "id": "Dufv54UMRJ0W",
        "outputId": "d74f5cba-b437-4832-a0b7-a3308accabf2"
      },
      "execution_count": null,
      "outputs": [
        {
          "output_type": "stream",
          "name": "stdout",
          "text": [
            "True\n"
          ]
        }
      ]
    },
    {
      "cell_type": "code",
      "source": [
        "# IF ELSE statements\n",
        "\n",
        "x = 100\n",
        "\n",
        "if x < 50:\n",
        "  print(\"less than 50\")\n",
        "else:\n",
        "  print(\"more than 50\")\n"
      ],
      "metadata": {
        "colab": {
          "base_uri": "https://localhost:8080/"
        },
        "id": "hhXLKkL7SNpq",
        "outputId": "37e09fff-b8d0-4372-e58b-a687fa0660cb"
      },
      "execution_count": null,
      "outputs": [
        {
          "output_type": "stream",
          "name": "stdout",
          "text": [
            "more than 50\n"
          ]
        }
      ]
    },
    {
      "cell_type": "code",
      "source": [
        "x = 100\n",
        "\n",
        "if x < 50:\n",
        " print(\"less than 50\") # indentation! - block of code\n",
        "else:\n",
        " print(\"more than or equal to 50\")\n",
        "\n",
        "print(\"Finish\") # this is not a must\n"
      ],
      "metadata": {
        "colab": {
          "base_uri": "https://localhost:8080/"
        },
        "id": "HRZblca4THPo",
        "outputId": "e46e2c79-c2c7-4710-9297-cd918273a1e5"
      },
      "execution_count": null,
      "outputs": [
        {
          "output_type": "stream",
          "name": "stdout",
          "text": [
            "more than or equal to 50\n",
            "Finish\n"
          ]
        }
      ]
    },
    {
      "cell_type": "code",
      "source": [
        "a = 20\n",
        "\n",
        "if a > 10:\n",
        "  print(\"a is above 10\")\n",
        "  print(\"this is still in the block\")\n",
        "print(\"this is outside the block\")\n"
      ],
      "metadata": {
        "colab": {
          "base_uri": "https://localhost:8080/"
        },
        "id": "Che5gSdEUbcj",
        "outputId": "ad319513-ac74-405d-c0cc-ffdf02a1a64b"
      },
      "execution_count": null,
      "outputs": [
        {
          "output_type": "stream",
          "name": "stdout",
          "text": [
            "a is above 10\n",
            "this is still in the block\n",
            "this is outside the block\n"
          ]
        }
      ]
    },
    {
      "cell_type": "code",
      "source": [
        "age = int(input(\"How old are You?: \"))\n",
        "\n",
        "if age >= 18:\n",
        "  print(\"You are eliglibe to vote\")\n",
        "  print(\"Please proceed to the voting booth\")\n",
        "else:\n",
        "  print(\"You are not old enougt to vote\")\n",
        "print(\"Thank you for participating!\")"
      ],
      "metadata": {
        "colab": {
          "base_uri": "https://localhost:8080/"
        },
        "id": "d5gzUcmxV1qg",
        "outputId": "3f50b442-b721-4d15-c1aa-c0c97b1f5b0f"
      },
      "execution_count": null,
      "outputs": [
        {
          "output_type": "stream",
          "name": "stdout",
          "text": [
            "How old are You?: 28\n",
            "You are eliglibe to vote\n",
            "Please proceed to the voting booth\n",
            "Thank you for participating!\n"
          ]
        }
      ]
    },
    {
      "cell_type": "code",
      "source": [
        "number = int(input(\"Enter a number: \"))\n",
        "\n",
        "# %\n",
        "# check if the number is even or odd\n",
        "\n",
        "if number % 2 == 0:  # MODULUS OPERATIONS (the number is divisible by 2)\n",
        "  print(f\"The number {number} is even!\")\n",
        "else:\n",
        "  print(f\"The number {number} is odd!\")"
      ],
      "metadata": {
        "colab": {
          "base_uri": "https://localhost:8080/"
        },
        "id": "cc4kyOb5XNFx",
        "outputId": "6cb182b2-800e-435e-b3c0-3d9053c21b12"
      },
      "execution_count": null,
      "outputs": [
        {
          "output_type": "stream",
          "name": "stdout",
          "text": [
            "Enter a number: 12\n",
            "The number 12 is even!\n"
          ]
        }
      ]
    },
    {
      "cell_type": "markdown",
      "source": [
        "In the line if number % 2 == 0:, there's a few key parts to understand:\n",
        "1.\t**% Operator**: This is the modulus operator in Python (and many other programming languages). It calculates the remainder of dividing the first operand by the second. So, number % 2 calculates the remainder of number divided by 2.\n",
        "2.\t**== 0 Comparison**: After calculating the remainder of number divided by 2, the expression checks if the result is equal to 0 using ==, which is the equality comparison operator.\n",
        "3.\t**Combining Both**: Putting it all together, if number % 2 == 0: checks if the remainder of number when divided by 2 is 0. If this condition is true, it means the number is evenly divisible by 2, indicating that it's an even number. If the condition is false (the remainder is not 0), then the number is not evenly divisible by 2, indicating it's an odd number.\n",
        "So, this line is the crucial check that determines whether number is even or odd by checking if it divides by 2 with no remainder. If there's no remainder, number is even, and the code prints that the number is even. If there is a remainder, the code falls to the else clause, printing that the number is odd.\n"
      ],
      "metadata": {
        "id": "0lzjWjoejCyP"
      }
    },
    {
      "cell_type": "code",
      "source": [
        "# If the transaction can be done based on the account balance\n",
        "\n",
        "account_balance = float(input(\"Enter you account balance: \"))\n",
        "transaction_amount = float(input(\"Enter you transaction_amount: \"))\n",
        "\n",
        "if account_balance >= transaction_amount:\n",
        "    print(\"The transaction can be done.\")\n",
        "else:\n",
        "    print(\"Insufficient balance for the transaction.\")\n",
        "\n"
      ],
      "metadata": {
        "colab": {
          "base_uri": "https://localhost:8080/"
        },
        "id": "BH434ENaZcVz",
        "outputId": "3abfef8c-9718-4934-a771-db443dd1d69a"
      },
      "execution_count": null,
      "outputs": [
        {
          "output_type": "stream",
          "name": "stdout",
          "text": [
            "Enter you account balance: 2000\n",
            "Enter you transaction_amount: 300\n",
            "The transaction can be done.\n"
          ]
        }
      ]
    },
    {
      "cell_type": "code",
      "source": [
        "# Access management system\n",
        "\n",
        "# username\n",
        "# password\n",
        "\n",
        "STORED_USERNAME = \"user123\"\n",
        "STORED_PASSWORD = \"pass123\"\n",
        "\n",
        "# AND OR\n",
        "\n",
        "username = input(\"Enter your username: \")\n",
        "password = input(\"Enter your password: \")\n",
        "\n",
        "if username == STORED_USERNAME and password == STORED_PASSWORD:\n",
        "    print(\"Access granted.\")\n",
        "else:\n",
        "    print(\"Access denied.\")"
      ],
      "metadata": {
        "colab": {
          "base_uri": "https://localhost:8080/"
        },
        "id": "ObXBzYc6bK6W",
        "outputId": "7b229903-1365-45f6-9e05-4aad0ef30f41"
      },
      "execution_count": null,
      "outputs": [
        {
          "output_type": "stream",
          "name": "stdout",
          "text": [
            "Enter your username: user123\n",
            "Enter your password: pass123\n",
            "Access granted.\n"
          ]
        }
      ]
    },
    {
      "cell_type": "code",
      "source": [
        "# Multi Way decisions\n",
        "\n",
        "x = 10\n",
        "\n",
        "if x < 5:\n",
        "  print(\"Small\")\n",
        "\n",
        "elif x < 15:\n",
        "  print(\"Medium\")\n",
        "\n",
        "else:\n",
        "  print(Large)\n",
        "\n",
        "print(\"All done\")"
      ],
      "metadata": {
        "colab": {
          "base_uri": "https://localhost:8080/"
        },
        "id": "8cYUOoMmhQf-",
        "outputId": "945840e1-09a1-4e87-aedd-88b3a51a0e79"
      },
      "execution_count": null,
      "outputs": [
        {
          "output_type": "stream",
          "name": "stdout",
          "text": [
            "Medium\n",
            "All done\n"
          ]
        }
      ]
    },
    {
      "cell_type": "code",
      "source": [
        "# Grading in scale 100, convert 100 to ABCDEF\n",
        "\n",
        "score = int(input(\"Enter you score: \"))\n",
        "\n",
        "if score >= 90:\n",
        "  print(\"Your grade is A\")\n",
        "elif score >= 80:\n",
        "  print(\"Your grade is B\")\n",
        "elif score >= 70:\n",
        "  print(\"Your grade is C\")\n",
        "elif score >= 60:\n",
        "  print(\"Your grade is D\")\n",
        "elif score >= 50 and score < 60:\n",
        "  print(\"Your grade is E\")\n",
        "else:\n",
        "  print(\"Your grade is F\")\n",
        "\n"
      ],
      "metadata": {
        "colab": {
          "base_uri": "https://localhost:8080/"
        },
        "id": "DmLKNvatiTeb",
        "outputId": "c1e684e6-2de3-4963-c87e-7d4f5c59f2f5"
      },
      "execution_count": null,
      "outputs": [
        {
          "output_type": "stream",
          "name": "stdout",
          "text": [
            "Enter you score: 98\n",
            "Your grade is A\n"
          ]
        }
      ]
    },
    {
      "cell_type": "code",
      "source": [
        "# Python Reserved Keywords - you can not use them in variable names"
      ],
      "metadata": {
        "id": "uuyirCAwksQA"
      },
      "execution_count": null,
      "outputs": []
    },
    {
      "cell_type": "markdown",
      "source": [
        "![Python Reserved Keywords](https://private-user-images.githubusercontent.com/136323645/320225242-dab6a4ae-8c07-4816-a86d-3c4a982f26c7.png?jwt=eyJhbGciOiJIUzI1NiIsInR5cCI6IkpXVCJ9.eyJpc3MiOiJnaXRodWIuY29tIiwiYXVkIjoicmF3LmdpdGh1YnVzZXJjb250ZW50LmNvbSIsImtleSI6ImtleTUiLCJleHAiOjE3MTI0MjYyMTYsIm5iZiI6MTcxMjQyNTkxNiwicGF0aCI6Ii8xMzYzMjM2NDUvMzIwMjI1MjQyLWRhYjZhNGFlLThjMDctNDgxNi1hODZkLTNjNGE5ODJmMjZjNy5wbmc_WC1BbXotQWxnb3JpdGhtPUFXUzQtSE1BQy1TSEEyNTYmWC1BbXotQ3JlZGVudGlhbD1BS0lBVkNPRFlMU0E1M1BRSzRaQSUyRjIwMjQwNDA2JTJGdXMtZWFzdC0xJTJGczMlMkZhd3M0X3JlcXVlc3QmWC1BbXotRGF0ZT0yMDI0MDQwNlQxNzUxNTZaJlgtQW16LUV4cGlyZXM9MzAwJlgtQW16LVNpZ25hdHVyZT1mMjkxYzkxMDc0MTdlZWMxNzUyMDZhODRlMTdlZGYzNWZkZWJiOGUxMWE1ODE0OGYxN2Q4OTdiMWJkZWMzZTM0JlgtQW16LVNpZ25lZEhlYWRlcnM9aG9zdCZhY3Rvcl9pZD0wJmtleV9pZD0wJnJlcG9faWQ9MCJ9.n_A2I-9LBX3UYtUhaOUuCWQfJxovq2iDDzYqz6Ipt_4)"
      ],
      "metadata": {
        "id": "ZP5uWKbwhfkA"
      }
    },
    {
      "cell_type": "code",
      "source": [
        "# try\n",
        "# except\n",
        "# else\n",
        "# finally (optional)\n",
        "\n",
        "try:\n",
        "  score = int(input(\"Enter you score: \"))\n",
        "\n",
        "  if score >= 90:\n",
        "    print(\"Your grade is A\")\n",
        "  elif score >= 80:\n",
        "    print(\"Your grade is B\")\n",
        "  elif score >= 70:\n",
        "    print(\"Your grade is C\")\n",
        "  elif score >= 60:\n",
        "    print(\"Your grade is D\")\n",
        "  elif score >= 50 and score < 60:\n",
        "    print(\"Your grade is E\")\n",
        "  else:\n",
        "    print(\"Your grade is F\")\n",
        "\n",
        "#except:\n",
        "  #print(\"Wrong input\")\n",
        "\n",
        "except Exception as e:\n",
        "  print(f\"Wrong input, exception: {e}\")"
      ],
      "metadata": {
        "colab": {
          "base_uri": "https://localhost:8080/"
        },
        "id": "yknrTJ4wlTYt",
        "outputId": "f72c78fe-c941-4235-de0a-9508d919cc61"
      },
      "execution_count": null,
      "outputs": [
        {
          "output_type": "stream",
          "name": "stdout",
          "text": [
            "Enter you score: girta\n",
            "Wrong input, exception: invalid literal for int() with base 10: 'girta'\n"
          ]
        }
      ]
    },
    {
      "cell_type": "code",
      "source": [
        "try:\n",
        "  account_balance = float(input(\"Enter you account balance: \"))\n",
        "  transaction_amount = float(input(\"Enter you transaction_amount: \"))\n",
        "\n",
        "  if account_balance >= transaction_amount:\n",
        "      print(\"The transaction can be done.\")\n",
        "  else:\n",
        "      print(\"Insufficient balance for the transaction.\")\n",
        "\n",
        "except Exception as m:\n",
        "  print(f\"Wrong input, exception: {m} \")"
      ],
      "metadata": {
        "colab": {
          "base_uri": "https://localhost:8080/"
        },
        "id": "JcyHfA5WnxlV",
        "outputId": "43c0c409-3151-46b5-e173-9aa664f6f6bd"
      },
      "execution_count": null,
      "outputs": [
        {
          "output_type": "stream",
          "name": "stdout",
          "text": [
            "Enter you account balance: jshoah\n",
            "Wrong input, exception: could not convert string to float: 'jshoah' \n"
          ]
        }
      ]
    },
    {
      "cell_type": "markdown",
      "source": [
        "**TEAMWORK**: Create a Python program for temperature conversion between Celsius and Fahrenheit scales.The program\n",
        "should prompt users to select the direction of conversion, accept input for the temperature value, and accurately\n",
        "perform the conversion (use IF and/or ELSE). Output should be displayed with formatted strings showing both the\n",
        "original and converted temperature"
      ],
      "metadata": {
        "id": "7FYLnInOjTXc"
      }
    },
    {
      "cell_type": "code",
      "source": [
        "#1\n",
        "print(\"Temperature conversion choices:\")\n",
        "print(\"1: Celsius to Fahrenheit\")\n",
        "print(\"2: Fahrenheit to Celsius\")\n",
        "choice = input(\"Please select 1 or 2: \")\n",
        "\n",
        "if choice == '1':\n",
        "    celsius = float(input(\"Enter temperature in Celsius: \"))\n",
        "    fahrenheit = (celsius * 9/5) + 32\n",
        "    print(f\"{celsius}°C is equal to {fahrenheit:.2f}°F.\")\n",
        "elif choice == '2':\n",
        "    fahrenheit = float(input(\"Enter temperature in Fahrenheit: \"))\n",
        "    celsius = (fahrenheit - 32) * 5/9\n",
        "    print(f\"{fahrenheit}°F is equal to {celsius:.2f}°C.\")\n",
        "else:\n",
        "    print(\"Invalid selection. Please run the program again and select either 1 or 2.\")"
      ],
      "metadata": {
        "colab": {
          "base_uri": "https://localhost:8080/"
        },
        "id": "B4xnFLM3ossG",
        "outputId": "3bd9b596-f75a-4e44-d289-a19b697f38d3"
      },
      "execution_count": null,
      "outputs": [
        {
          "output_type": "stream",
          "name": "stdout",
          "text": [
            "Temperature conversion choices:\n",
            "1: Celsius to Fahrenheit\n",
            "2: Fahrenheit to Celsius\n",
            "Please select 1 or 2: 1\n",
            "Enter temperature in Celsius: 23\n",
            "23.0°C is equal to 73.40°F.\n"
          ]
        }
      ]
    },
    {
      "cell_type": "code",
      "source": [],
      "metadata": {
        "id": "xsOw3Kv2tMNe"
      },
      "execution_count": null,
      "outputs": []
    },
    {
      "cell_type": "code",
      "source": [
        "#2\n"
      ],
      "metadata": {
        "id": "n0wun7azhQZI"
      },
      "execution_count": null,
      "outputs": []
    },
    {
      "cell_type": "markdown",
      "source": [
        "**Lesson 4**\n",
        "\n",
        "**Topic:** Conditional execution || and list objects\n",
        "\n",
        "1. Error handling Try/Except\n",
        "2. Multi way and nested decisions with if and else and elif\n",
        "3. Introduction to list objects\n",
        "4. Team work: List operations\n",
        "\n",
        "   1.Define a list of numbers [10, 20, 30, 40, 50]\n",
        "\n",
        "   2.Print the length of the list\n",
        "\n",
        "   3.Print the first element of the list\n",
        "\n",
        "   4.Print the last element of the list\n",
        "\n",
        "   5.Append a new number (e.g., 60) to the list\n",
        "\n",
        "   6.Print the updated list\n",
        "\n",
        "   7.Remove the second element from the list\n",
        "\n",
        "   8.Print the list after removal\n",
        "\n",
        "   9.Check if a specific number (e.g., 30) exists in the list and print the result\n"
      ],
      "metadata": {
        "id": "fDFjoGkezUPg"
      }
    },
    {
      "cell_type": "code",
      "source": [
        "# LESSON 4 (13.4.24)\n",
        "\n",
        "# COMPARE TWO NUMBERS IN NESTED DECISION\n",
        "\n",
        "num1 = int(input('Write number 1:'))\n",
        "num2 = int(input('Write number 2:'))\n",
        "\n",
        "if num1 >= num2:\n",
        "  if num1 == num2:\n",
        "    print(f'{num1} is equal to {num2}')\n",
        "  else:\n",
        "    print(f'{num1} is greater than {num2}')\n",
        "else:\n",
        "  print(f'{num1} is smaller than {num2}')"
      ],
      "metadata": {
        "id": "NV83ZPavt5Mt",
        "colab": {
          "base_uri": "https://localhost:8080/"
        },
        "outputId": "44d19478-c63a-4a8f-81e3-ebaa9f4c680e"
      },
      "execution_count": null,
      "outputs": [
        {
          "output_type": "stream",
          "name": "stdout",
          "text": [
            "Write number 1:5\n",
            "Write number 2:6\n",
            "5 is smaller than 6\n"
          ]
        }
      ]
    },
    {
      "cell_type": "code",
      "source": [
        "# TRY, EXCEPT AND ELSE\n",
        "# PUT THIS IN WHILE LOOP\n",
        "\n",
        "stock = input('Stock: ')\n",
        "try:\n",
        "  product_stock = int(stock)\n",
        "except:\n",
        "  print('Wrong input!')\n",
        "else:\n",
        "  if product_stock > 10:\n",
        "    print('Stock level sufficient')\n",
        "  else:\n",
        "    print('Low stock!')"
      ],
      "metadata": {
        "colab": {
          "base_uri": "https://localhost:8080/"
        },
        "id": "DYBHqT-qoWcN",
        "outputId": "1e70d2c4-f27d-4779-f37e-98b253348ec6"
      },
      "execution_count": null,
      "outputs": [
        {
          "output_type": "stream",
          "name": "stdout",
          "text": [
            "Stock: 9\n",
            "Low stock!\n"
          ]
        }
      ]
    },
    {
      "cell_type": "code",
      "source": [
        "stock = input('Input stock: ')\n",
        "\n",
        "try:\n",
        "    product_stock = int(stock)\n",
        "except:\n",
        "    print('Wrong input!')\n",
        "\n",
        "if product_stock > 10:\n",
        "    print('Stock level is sufficient!')\n",
        "else:\n",
        "    print('Low stock!')"
      ],
      "metadata": {
        "colab": {
          "base_uri": "https://localhost:8080/"
        },
        "id": "qSgLhiXDoWiY",
        "outputId": "9e831361-4242-4faa-b88e-5f39eba54a83"
      },
      "execution_count": null,
      "outputs": [
        {
          "output_type": "stream",
          "name": "stdout",
          "text": [
            "Input stock: 9\n",
            "Low stock!\n"
          ]
        }
      ]
    },
    {
      "cell_type": "markdown",
      "source": [
        "# TASK\n",
        "\n",
        "- Calculate the difference between the actual speed and the speed limit, and then calculate the fine based on the difference (3 euros per km/h over the limit).\n",
        "\n",
        "- If the actual speed does not exceed the speed limit, print \"Speed limit is not exceeded. No fine applied.\"\n",
        "- If the actual speed exceeds the speed limit, check if the fine is less than or equal to 190 euros. If so, print \"{name}, your fine for speeding is {fine} euros.\" - Otherwise, print \"{name}, your fine for speeding is 190 euros.\""
      ],
      "metadata": {
        "id": "FBR5Oufjo7_1"
      }
    },
    {
      "cell_type": "code",
      "source": [
        "name = input('Please write your name: ')\n",
        "speed_limit = input('Please input the speed limit: ')\n",
        "actual_speed = input('Please input your actual speed: ')\n",
        "\n",
        "try:\n",
        "  speed_limit = int(speed_limit)\n",
        "  actual_speed = int(actual_speed)\n",
        "except:\n",
        "  print(\"Wrong speed values entered. Please enter km/h.\")\n",
        "else:\n",
        "  difference = actual_speed - speed_limit\n",
        "  fine = difference * 3\n",
        "\n",
        "  if speed_limit >= actual_speed: #difference < 0\n",
        "    print(\"Speed limit is not exceeded. No fine applied.\")\n",
        "  else:\n",
        "    if fine > 190:\n",
        "      print(f\"{name}, your fine for speeding is 190 euros.\")\n",
        "    else:\n",
        "      print(f\"{name}, your fine for speeding is {fine} euros.\")"
      ],
      "metadata": {
        "colab": {
          "base_uri": "https://localhost:8080/"
        },
        "id": "UslZye9coWoQ",
        "outputId": "6e1a2ca2-fe11-4772-b09e-c4adf32608c9"
      },
      "execution_count": null,
      "outputs": [
        {
          "output_type": "stream",
          "name": "stdout",
          "text": [
            "Please write your name: Girta\n",
            "Please input the speed limit: 50\n",
            "Please input your actual speed: 60\n",
            "Girta, your fine for speeding is 30 euros.\n"
          ]
        }
      ]
    },
    {
      "cell_type": "code",
      "source": [
        "name = input('Please write your name: ')\n",
        "speed_limit = input('Please input the speed limit: ')\n",
        "actual_speed = input('Please input your actual speed: ')\n",
        "\n",
        "try:\n",
        "  speed_limit = int(speed_limit)\n",
        "  actual_speed = int(actual_speed)\n",
        "except:\n",
        "  print(\"Wrong speed values entered. Please enter km/h.\")\n",
        "else:\n",
        "  difference = actual_speed - speed_limit\n",
        "  fine = difference * 3\n",
        "  if speed_limit < 0 or actual_speed < 0:\n",
        "    print('Speed limit MUST be positive')\n",
        "  elif speed_limit >= actual_speed: #difference < 0\n",
        "    print(\"Speed limit is not exceeded. No fine applied.\")\n",
        "  else:\n",
        "    fine = min(190, difference * 3)\n",
        "    print(f'{name}, your fine for speeding is {fine} euros.')"
      ],
      "metadata": {
        "colab": {
          "base_uri": "https://localhost:8080/"
        },
        "id": "NCjwVbdhoWrP",
        "outputId": "dbfbf009-3dae-4091-f87b-fd027f466fac"
      },
      "execution_count": null,
      "outputs": [
        {
          "output_type": "stream",
          "name": "stdout",
          "text": [
            "Please write your name: Rob\n",
            "Please input the speed limit: 50\n",
            "Please input your actual speed: 70\n",
            "Rob, your fine for speeding is 60 euros.\n"
          ]
        }
      ]
    },
    {
      "cell_type": "markdown",
      "source": [
        "LISTS"
      ],
      "metadata": {
        "id": "84w211URpZmt"
      }
    },
    {
      "cell_type": "code",
      "source": [
        "flowers = \"pink primrose,hard-leaved pocket orchid,canterbury bells,sweet pea,english marigold,tiger lily,moon orchid,bird of paradise,monkshood,globe thistle\"\n",
        "\n",
        "print(type(flowers))"
      ],
      "metadata": {
        "colab": {
          "base_uri": "https://localhost:8080/"
        },
        "id": "ciu7zWMBoWuG",
        "outputId": "ed7a1c5b-d95e-4b33-f765-76dcd9a2bd0a"
      },
      "execution_count": null,
      "outputs": [
        {
          "output_type": "stream",
          "name": "stdout",
          "text": [
            "<class 'str'>\n"
          ]
        }
      ]
    },
    {
      "cell_type": "code",
      "source": [
        "# HOW MANY ITEMS IN THE LIST?\n",
        "\n",
        "print(len(flowers))\n",
        "\n",
        "# 10"
      ],
      "metadata": {
        "colab": {
          "base_uri": "https://localhost:8080/"
        },
        "id": "AGfQ4yxqoWw9",
        "outputId": "00c1bcd2-ee00-4700-8bfa-76732aa89128"
      },
      "execution_count": null,
      "outputs": [
        {
          "output_type": "stream",
          "name": "stdout",
          "text": [
            "147\n"
          ]
        }
      ]
    },
    {
      "cell_type": "code",
      "source": [
        "print('First entry:', flowers[0])\n",
        "print(flowers[1])\n",
        "\n",
        "print(\"Last entry is:\", flowers[-1])\n",
        "\n",
        "# First entry: pink primrose\n",
        "# hard-leaved pocket orchid\n",
        "# Last entry is: globe thistle"
      ],
      "metadata": {
        "colab": {
          "base_uri": "https://localhost:8080/"
        },
        "id": "jfUy6RiYoWzl",
        "outputId": "1efa5de8-9053-43ae-d007-3a6c4f89b81b"
      },
      "execution_count": null,
      "outputs": [
        {
          "output_type": "stream",
          "name": "stdout",
          "text": [
            "First entry: p\n",
            "i\n",
            "Last entry is: e\n"
          ]
        }
      ]
    },
    {
      "cell_type": "markdown",
      "source": [
        "flowers = [\"pink primrose\", \"hard-leaved pocket orchid\",\"canterbury bells\",\"sweet pea\",\"english marigold\",\"tiger lily\",\"moon orchid\",\"bird of paradise\",\"monkshood\",\"globe thistle\"]"
      ],
      "metadata": {
        "id": "n4kLHBb6qDOY"
      }
    },
    {
      "cell_type": "code",
      "source": [
        "print('Every other item:', flowers[::2]) #every second item\n",
        "\n",
        "# Every other item: ['pink primrose', 'canterbury bells', 'english marigold', 'moon orchid', 'monkshood']"
      ],
      "metadata": {
        "id": "6lP2HdqWO9pI",
        "colab": {
          "base_uri": "https://localhost:8080/"
        },
        "outputId": "1fc30aa7-a8b5-4b76-a560-cde2501d19d1"
      },
      "execution_count": null,
      "outputs": [
        {
          "output_type": "stream",
          "name": "stdout",
          "text": [
            "Every other item: pn rmoehr-evdpce rhdcnebr el,we e,nls aiodtgrll,onoci,ido aaiemnsodgoetite\n"
          ]
        }
      ]
    },
    {
      "cell_type": "code",
      "source": [
        "for item in flowers[::2]:\n",
        "    print(item)\n",
        "\n",
        "# pink primrose\n",
        "canterbury bells\n",
        "english marigold\n",
        "moon orchid\n",
        "monkshood"
      ],
      "metadata": {
        "id": "SlzGMiX0qFLB"
      },
      "execution_count": null,
      "outputs": []
    },
    {
      "cell_type": "code",
      "source": [
        "my_list = ['one', 'two', 'three', 4, 5]"
      ],
      "metadata": {
        "id": "CJCmh-yjqFf7"
      },
      "execution_count": null,
      "outputs": []
    },
    {
      "cell_type": "code",
      "source": [
        "print(my_list[1])"
      ],
      "metadata": {
        "id": "p_fbyirlqFi6"
      },
      "execution_count": null,
      "outputs": []
    },
    {
      "cell_type": "code",
      "source": [
        "print(my_list[-2])\n",
        "print(my_list[3])\n",
        "\n",
        "# 4\n",
        "# 4"
      ],
      "metadata": {
        "id": "Uu8najroqFpn"
      },
      "execution_count": null,
      "outputs": []
    },
    {
      "cell_type": "code",
      "source": [
        "my_list = my_list + ['new item'] #ADDING NEW ITEM"
      ],
      "metadata": {
        "id": "hNFHOcyVsA8m"
      },
      "execution_count": null,
      "outputs": []
    },
    {
      "cell_type": "code",
      "source": [
        "my_list\n",
        "\n",
        "# ['one', 'two', 'three', 4, 5, 'new item']"
      ],
      "metadata": {
        "id": "V83Ymdj_sHCp"
      },
      "execution_count": null,
      "outputs": []
    },
    {
      "cell_type": "code",
      "source": [
        "my_list[1] = 2"
      ],
      "metadata": {
        "id": "t6o2mea1sHE-"
      },
      "execution_count": null,
      "outputs": []
    },
    {
      "cell_type": "code",
      "source": [
        "my_list\n",
        "\n",
        "# ['one', 2, 'three', 4, 5, 'new item']"
      ],
      "metadata": {
        "id": "hZUk7pnzsHHz"
      },
      "execution_count": null,
      "outputs": []
    },
    {
      "cell_type": "code",
      "source": [
        "my_list.append('append me')"
      ],
      "metadata": {
        "id": "ha1PoiPKsHKY"
      },
      "execution_count": null,
      "outputs": []
    },
    {
      "cell_type": "code",
      "source": [
        "my_list.pop(3)\n",
        "\n",
        "# 4"
      ],
      "metadata": {
        "id": "DDb5PE2EsHNG"
      },
      "execution_count": null,
      "outputs": []
    },
    {
      "cell_type": "code",
      "source": [
        "my_list\n",
        "\n",
        "# ['one', 2, 'three', 5, 'new item', 'append me']"
      ],
      "metadata": {
        "id": "vGjhyaFusHP6"
      },
      "execution_count": null,
      "outputs": []
    },
    {
      "cell_type": "code",
      "source": [
        "# TEAMWORK\n",
        "\n",
        "# 1. Define a list of numbers\n",
        "numbers = [10, 20, 30, 40, 50]\n",
        "\n",
        "# 2. Print the length of the list\n",
        "print(\"Length of the list:\", len(numbers))\n",
        "\n",
        "# 3. Print the first element of the list\n",
        "print(\"First element of the list:\", numbers[0])\n",
        "\n",
        "# 4. Print the last element of the list\n",
        "print(\"Last element of the list:\", numbers[-1])\n",
        "\n",
        "# 5. Append a new number (e.g., 60) to the list\n",
        "numbers.append(60)\n",
        "\n",
        "# 6. Print the updated list\n",
        "print(\"Updated list:\", numbers)\n",
        "\n",
        "# 7. Remove the second element from the list\n",
        "numbers.pop(1)\n",
        "\n",
        "# 8. Print the list after removal\n",
        "print(\"List after removing the second element:\", numbers)\n",
        "\n",
        "# 9. Check if a specific number (e.g., 30) exists in the list and print the result\n",
        "if 30 in numbers:\n",
        "    print(\"30 is in the list\")\n",
        "else:\n",
        "    print(\"30 is not in the list\")\n"
      ],
      "metadata": {
        "colab": {
          "base_uri": "https://localhost:8080/"
        },
        "id": "OQGbfhi_sBkf",
        "outputId": "7d987d2d-5e56-44b4-d068-d13e683effe8"
      },
      "execution_count": null,
      "outputs": [
        {
          "output_type": "stream",
          "name": "stdout",
          "text": [
            "Length of the list: 5\n",
            "First element of the list: 10\n",
            "Last element of the list: 50\n",
            "Updated list: [10, 20, 30, 40, 50, 60]\n",
            "List after removing the second element: [10, 30, 40, 50, 60]\n",
            "30 is in the list\n"
          ]
        }
      ]
    },
    {
      "cell_type": "markdown",
      "source": [
        "**TEST**\n",
        "\n",
        "Started on\tFriday, 19 April 2024, 5:15 PM\n",
        "\n",
        "Completed on\tFriday, 19 April 2024, 5:23 PM\n",
        "\n",
        "Time taken\t8 mins 21 secs\n",
        "\n",
        "Marks\t4.00/5.00\n",
        "\n",
        "Grade\t8.00 out of 10.00 (80%)\n",
        "\n",
        "**Question 1**\n",
        "\n",
        "How satisfied are you with the WoTech program in general? (1 being the worst and 5 the best)\n",
        "\n",
        "1 - very bad\n",
        "2 - poor\n",
        "3 - medium\n",
        "4 - good\n",
        "5 - excellent\n",
        "\n",
        "5 - excellent\n",
        "\n",
        "**Question 2**\n",
        "\n",
        "If you said 1 or 2, please let us know what could be improved?\n",
        "\n",
        "**Question 3**\n",
        "\n",
        "How satisfied are you with the IT training?\n",
        "\n",
        "1 - very bad\n",
        "2 - poor\n",
        "3 - medium\n",
        "4 - good\n",
        "5 - excellent\n",
        "\n",
        "5 - excellent\n",
        "\n",
        "**Question 4**\n",
        "\n",
        "If you said 1 or 2, please let us know what could be improved?\n",
        "\n",
        "**Question 5**\n",
        "\n",
        "How satisfied are you with the communication (clarity, channels, frequency)?\n",
        "\n",
        "1 - very bad\n",
        "2 - poor\n",
        "3 - medium\n",
        "4 - good\n",
        "5 - excellent\n",
        "\n",
        "5 - excellent\n",
        "\n",
        "**Question 6**\n",
        "\n",
        "If you said 1 or 2, please let us know what could be improved?\n",
        "\n",
        "**Question 7**\n",
        "\n",
        "Name the top three things that you like about the whole program (including IT training, organizers, etc)?\n",
        "\n",
        "very good teachers, good schedule, I like our group\n",
        "\n",
        "**Question 8**\n",
        "\n",
        "Have your thoughts about IT field and/or programming changed and if yes then in what way?\n",
        "\n",
        "**Question 9**\n",
        "\n",
        "Do you still consider changing your career to IT?\n",
        "\n",
        "Yes\n",
        "\n",
        "**Question 10**\n",
        "\n",
        "What does the == operator do in Python?\n",
        "\n",
        "a.\n",
        "Assigns a value to a variable.\n",
        "\n",
        "b.\n",
        "Compares two values and returns True if they are equal.\n",
        "\n",
        "c.\n",
        "Checks if two values are not equal.\n",
        "\n",
        "d.\n",
        "Checks if two values are identical in both value and data type and returns 1, if they are.\n",
        "\n",
        "Your answer is correct.\n",
        "The correct answer is: Compares two values and returns True if they are equal.\n",
        "\n",
        "**Question 11**\n",
        "\n",
        "Why is indentation important in Python? (Only one answer is correct!)\n",
        "\n",
        "a.\n",
        "It is a strict requirement enforced by the Python interpreter to define code blocks and control flow.\n",
        "\n",
        "b.\n",
        "It allows Python to execute code faster by optimizing the parsing process.\n",
        "\n",
        "c.\n",
        "It helps to make the code visually appealing and easier to read.\n",
        "\n",
        "d.\n",
        "It ensures consistency in code formatting, making it easier for teams to collaborate\n",
        "\n",
        "Your answer is correct.\n",
        "The correct answer is: It is a strict requirement enforced by the Python interpreter to define code blocks and control flow.\n",
        "\n",
        "**Question 12**\n",
        "\n",
        "What does the following line of code do in Python?\n",
        "transaction_amount = float(input(\"Enter the transaction amount: \"))\n",
        "\n",
        "a.\n",
        "It prompts the user to enter a transaction amount and converts the input to a floating-point number.\n",
        "\n",
        "b.\n",
        "It assigns the string \"Enter the transaction amount: \" to the variable transaction_amount.\n",
        "\n",
        "c.\n",
        "It checks if the transaction amount is valid and raises an error if it's not\n",
        "\n",
        "d.\n",
        "It converts the transaction amount to a string and prompts the user to enter it.\n",
        "\n",
        "Your answer is correct.\n",
        "The correct answer is: It prompts the user to enter a transaction amount and converts the input to a floating-point number.\n",
        "\n",
        "**Question 13**\n",
        "\n",
        "After running the below code, will it result in an error?\n",
        "True - there will be an error\n",
        "False - the code will run without error\n",
        "\n",
        "age = input(\"Enter your age: \")\n",
        "\n",
        "if age >= 18:\n",
        "    print(\"You are eligible to vote.\")\n",
        "else:\n",
        "    print(\"You are not old enough\n",
        "\n",
        "Your answer is correct.\n",
        "The correct answer is 'True'.\n",
        "\n",
        "**Question 14**\n",
        "\n",
        "The int() function in Python can convert a string containing a decimal number into an integer?\n",
        "\n",
        "Select one:\n",
        "True\n",
        "False\n",
        "\n",
        "Your answer is incorrect.\n",
        "The correct answer is 'True'."
      ],
      "metadata": {
        "id": "1ghu28_uv8oO"
      }
    },
    {
      "cell_type": "markdown",
      "source": [
        "------------------------------------------------------\n",
        "\n",
        "**Lesson 5**\n",
        "\n",
        "**Topic: Loops in Python**\n",
        "\n",
        "1. For loops in Python\n",
        "2. Iterating through lists\n",
        "3. Mathematical calculations with for-loops\n",
        "4. Searching and appending with for-loops\n",
        "5. Team work: Analyzing Numbers - Iterate through a list of 10 random numbers and determine whether each number is higher or lower than 5.\n",
        "\n",
        "Hints:\n",
        "Use a for loop to iterate through the list of numbers.\n",
        "Use if, elif, and else statements to check each number against 5.\n",
        "\n",
        "Example Output:\n",
        "3 is lower than 5\n",
        "8 is higher than 5\n",
        "1 is lower than 5\n",
        "6 is higher than 5 ......."
      ],
      "metadata": {
        "id": "ph-9vB0WkNsF"
      }
    },
    {
      "cell_type": "code",
      "source": [
        "# LESSON 5 (20.4.24)"
      ],
      "metadata": {
        "id": "krZ3QHvuO-Eq"
      },
      "execution_count": null,
      "outputs": []
    },
    {
      "cell_type": "markdown",
      "source": [
        "The user is prompted to enter a fruit name using the input() function. We use an if-else statement to check if the entered fruit is present in the fruits list. If the entered fruit is in the list, it prints a confirmation message. Otherwise, it prints a message indicating that the fruit is not in the list."
      ],
      "metadata": {
        "id": "Lx8U1D-YbF_3"
      }
    },
    {
      "cell_type": "code",
      "source": [
        "# Define a list of fruits\n",
        "fruit = ['apple', 'orange', 'banana', 'grape', 'kiwi']\n",
        "\n",
        "# Prompt the user to input a fruit name\n",
        "user_input = input('Please input a fruit: ')\n",
        "\n",
        "# Check if the user input is in the fruit list\n",
        "if user_input in fruit:\n",
        "    print(f'{user_input} is in the list')  # Corrected to display the user's input\n",
        "else:\n",
        "    print(f'{user_input} is not in the list')  # Also corrected to display the user's input\n"
      ],
      "metadata": {
        "colab": {
          "base_uri": "https://localhost:8080/"
        },
        "id": "F7xBIZZ9XGYz",
        "outputId": "6b41fd35-990e-4b3d-8175-9fd4a998f979"
      },
      "execution_count": null,
      "outputs": [
        {
          "output_type": "stream",
          "name": "stdout",
          "text": [
            "Please input a fruit: apple\n",
            "apple is in the list\n"
          ]
        }
      ]
    },
    {
      "cell_type": "markdown",
      "source": [
        "The user is prompted to enter a number using the input() function, and the input is converted to an integer using int(). We first check if the entered number is in the numbers list using an if statement. If the number is in the list, we further check if it's even or odd using another if-else statement nested inside the first one. Depending on the result, it prints a message indicating whether the number is even or odd and whether it's in the list or not."
      ],
      "metadata": {
        "id": "lwcDx4xxasJC"
      }
    },
    {
      "cell_type": "code",
      "source": [
        "# Define a tuple of numbers\n",
        "numbers = [1, 20, 35, 400, 5]\n",
        "\n",
        "# Prompt the user to enter a number and convert the input to an integer\n",
        "user_number = int(input(\"Enter a number: \"))\n",
        "\n",
        "# Check if the entered number is in the numbers tuple\n",
        "if user_number in numbers:\n",
        "\n",
        "    # Check if the number is even or odd\n",
        "    if user_number % 2 == 0:\n",
        "        print(f\"The number {user_number} is in the list and is even\")\n",
        "    else:\n",
        "        print(f\"The number {user_number} is in the list and is odd\")\n",
        "else:\n",
        "    print(f\"The number {user_number} is not in the list\")"
      ],
      "metadata": {
        "colab": {
          "base_uri": "https://localhost:8080/"
        },
        "id": "ua8slWwgXGbg",
        "outputId": "7a1cf74c-fb01-4684-c2b4-b67fecead9cd"
      },
      "execution_count": null,
      "outputs": [
        {
          "output_type": "stream",
          "name": "stdout",
          "text": [
            "Enter a number: 400\n",
            "The number 400 is in the list and is even\n"
          ]
        }
      ]
    },
    {
      "cell_type": "code",
      "source": [
        "# Roberta:\n",
        "user_number = int(input(\"Please enter a number: \"))\n",
        "\n",
        "if user_number in numbers:\n",
        "  if user_number %2 == 0:\n",
        "    print('Your even number is on the list')\n",
        "  else:\n",
        "    print('Your odd number is on the list')\n",
        "else:\n",
        "  print('Your number is not on the list')"
      ],
      "metadata": {
        "colab": {
          "base_uri": "https://localhost:8080/"
        },
        "id": "b3XHRoGUXGeE",
        "outputId": "8ea64c3e-7c20-4b6f-f4f0-2eedf4037303"
      },
      "execution_count": null,
      "outputs": [
        {
          "output_type": "stream",
          "name": "stdout",
          "text": [
            "Please enter a number: 5\n",
            "Your odd number is on the list\n"
          ]
        }
      ]
    },
    {
      "cell_type": "code",
      "source": [
        "# APPEND\n",
        "\n",
        "items = [\"apple\", \"kiwi\"]\n",
        "print(f\"original items {items}\")\n",
        "my_value = \"banana\"\n",
        "items.append(my_value)\n",
        "print(f\"changed items {items}\")"
      ],
      "metadata": {
        "colab": {
          "base_uri": "https://localhost:8080/"
        },
        "id": "bC2IcUjUXGg0",
        "outputId": "52751394-b7a6-4c5a-8132-d51e67fb28dc"
      },
      "execution_count": null,
      "outputs": [
        {
          "output_type": "stream",
          "name": "stdout",
          "text": [
            "original items ['apple', 'kiwi']\n",
            "changed items ['apple', 'kiwi', 'banana']\n"
          ]
        }
      ]
    },
    {
      "cell_type": "code",
      "source": [
        "# COPY\n",
        "\n",
        "original_list = [1, 20, 35, 400, 5]\n",
        "copied_list = original_list.copy()\n",
        "original_list.append(6)\n",
        "print(original_list)\n",
        "print(copied_list)\n"
      ],
      "metadata": {
        "colab": {
          "base_uri": "https://localhost:8080/"
        },
        "id": "Zu3kF6QXXGjW",
        "outputId": "2b814a7b-a763-4c51-d5a0-eb6ac0a599b0"
      },
      "execution_count": null,
      "outputs": [
        {
          "output_type": "stream",
          "name": "stdout",
          "text": [
            "[1, 20, 35, 400, 5, 6]\n",
            "[1, 20, 35, 400, 5]\n"
          ]
        }
      ]
    },
    {
      "cell_type": "code",
      "source": [
        "# COUNT\n",
        "\n",
        "numbers = [7, 77, 45, 45, 2]\n",
        "target_number = 45\n",
        "count = numbers.count(target_number)\n",
        "print(f\"The number {target_number} appears {count} times in the list\")\n",
        "\n"
      ],
      "metadata": {
        "id": "CI0tDyBMPR5q",
        "colab": {
          "base_uri": "https://localhost:8080/"
        },
        "outputId": "bc455477-b7bc-482a-bb18-4b8149acd2a7"
      },
      "execution_count": null,
      "outputs": [
        {
          "output_type": "stream",
          "name": "stdout",
          "text": [
            "The number 45 appears 2 times in the list\n"
          ]
        }
      ]
    },
    {
      "cell_type": "code",
      "source": [
        "# INDEX\n",
        "\n",
        "fruits = ['apple', 'orange', 'banana', 'grape', 'kiwi']\n",
        "fruits_index = fruits.index(\"banana\")\n",
        "print(f'Index of \"banana\" is: {fruits_index}')"
      ],
      "metadata": {
        "colab": {
          "base_uri": "https://localhost:8080/"
        },
        "id": "qqsdYeJad_MW",
        "outputId": "6cf3a758-6068-4996-dc13-468cdd60bf76"
      },
      "execution_count": null,
      "outputs": [
        {
          "output_type": "stream",
          "name": "stdout",
          "text": [
            "Index of \"banana\" is: 2\n"
          ]
        }
      ]
    },
    {
      "cell_type": "code",
      "source": [
        "# INSERT\n",
        "\n",
        "numbers = [1, 2, 3, 4, 5]\n",
        "numbers.insert(2, 10)\n",
        "print(numbers)\n",
        "\n"
      ],
      "metadata": {
        "colab": {
          "base_uri": "https://localhost:8080/"
        },
        "id": "10uWYTaDd_O9",
        "outputId": "a8893057-51af-42a6-95d5-76d8c6aec207"
      },
      "execution_count": null,
      "outputs": [
        {
          "output_type": "stream",
          "name": "stdout",
          "text": [
            "[1, 2, 10, 3, 4, 5]\n"
          ]
        }
      ]
    },
    {
      "cell_type": "code",
      "source": [
        "# POP\n",
        "\n",
        "numbers.pop(2)\n",
        "print(numbers)"
      ],
      "metadata": {
        "colab": {
          "base_uri": "https://localhost:8080/"
        },
        "id": "NfcMwvYKd_Rf",
        "outputId": "ad5da35d-a38e-40d8-ebaf-9b3bfa5b8ef3"
      },
      "execution_count": null,
      "outputs": [
        {
          "output_type": "stream",
          "name": "stdout",
          "text": [
            "[1, 2, 3, 4, 5]\n"
          ]
        }
      ]
    },
    {
      "cell_type": "code",
      "source": [
        "# SORT\n",
        "\n",
        "numbers = [6, 9, 10, 3, 5]\n",
        "numbers.sort()\n",
        "# numbers.reverse()\n",
        "print(numbers)"
      ],
      "metadata": {
        "colab": {
          "base_uri": "https://localhost:8080/"
        },
        "id": "lBhl-lesh4r2",
        "outputId": "6bb767e3-e8b5-42e9-9b47-b568adb91340"
      },
      "execution_count": null,
      "outputs": [
        {
          "output_type": "stream",
          "name": "stdout",
          "text": [
            "[3, 5, 6, 9, 10]\n"
          ]
        }
      ]
    },
    {
      "cell_type": "code",
      "source": [
        "# Define a list of numbers (5)\n",
        "numbers = [7, 8, 11, 35, 58]\n",
        "\n",
        "# Calculate maximum and minimum values\n",
        "max_value = max(numbers)\n",
        "min_value = min(numbers)\n",
        "\n",
        "# Calculate total and count for average\n",
        "total = sum(numbers)\n",
        "count = len(numbers)\n",
        "average = total / count\n",
        "\n",
        "# Check if all numbers are greater than 3\n",
        "all_higher_than_three = all(number > 3 for number in numbers)\n",
        "\n",
        "# Print if average is greater than 3\n",
        "if average > 3:\n",
        "    print(\"Average is greater than 3\")\n",
        "else:\n",
        "    print(\"Average is not greater than 3\")\n",
        "\n",
        "# Sorting numbers and modifying the list\n",
        "numbers.sort()\n",
        "numbers.pop(0)  # Remove the first element after sorting\n",
        "numbers.append('Girta')  # Append 'Girta' to the list\n",
        "\n",
        "# Get the index of 'Girta'\n",
        "index_name = numbers.index('Girta')\n",
        "\n",
        "# Print the index of 'Girta'\n",
        "print(f\"The index of 'Girta' in the list is: {index_name}\")\n",
        "\n",
        "\n"
      ],
      "metadata": {
        "colab": {
          "base_uri": "https://localhost:8080/"
        },
        "id": "hwgccmxgh4uT",
        "outputId": "40adba6f-2db6-473a-d0d7-9b9e3cc96649"
      },
      "execution_count": null,
      "outputs": [
        {
          "output_type": "stream",
          "name": "stdout",
          "text": [
            "Average is greater than 3\n",
            "The index of 'Girta' in the list is: 4\n"
          ]
        }
      ]
    },
    {
      "cell_type": "code",
      "source": [
        "# Roberta:\n",
        "\n",
        "# Create a list of 5 number elements\n",
        "numbers = [1, 6, 13, 2, 5]\n",
        "\n",
        "# # Calculate maximum value of the numbers\n",
        "max_value = max(numbers)\n",
        "print(f\"The maximum value in the list is: {max_value}\")\n",
        "\n",
        "# Calculate minimum value of the numbers\n",
        "min_value = min(numbers)\n",
        "print(f\"The minimum value in the list is: {min_value}\")\n",
        "\n",
        "# Calculate average value of numbers\n",
        "average_value = sum(numbers) / len(numbers)\n",
        "print(f\"The average value in the list is: {average_value}\")\n",
        "\n",
        "# Check if the average value of the list if higher than 3 If the average is greater than 3,\n",
        "# print \"Average is greater than 3\", otherwise print \"Average is not greater than 3\".\n",
        "if average_value > 3:\n",
        "  print(\"The average value of numbers in the list is higher than 3\")\n",
        "else:\n",
        "  print(\"The average value of numbers on the list is lower than 3\")\n",
        "\n",
        "# Sort the list\n",
        "\n",
        "numbers.sort()\n",
        "\n",
        "# Remove first number of the list\n",
        "\n",
        "numbers.pop(0)\n",
        "\n",
        "# Add your name to the list\n",
        "numbers.append(\"Elina\")\n",
        "\n",
        "# Calculate at what index is your name\n",
        "numbers.index(\"Elina\")\n",
        "\n"
      ],
      "metadata": {
        "id": "tzmCdqD3h4w2"
      },
      "execution_count": null,
      "outputs": []
    },
    {
      "cell_type": "code",
      "source": [
        "# RANGE  range(start, stop, step)\n",
        "\n",
        "list(range(10, 100, 10)) # the last element is not included\n",
        "\n",
        "\n"
      ],
      "metadata": {
        "colab": {
          "base_uri": "https://localhost:8080/"
        },
        "id": "lsoiKesyh4zc",
        "outputId": "1203c2a8-e5b4-46be-a871-f259e6ecbd42"
      },
      "execution_count": null,
      "outputs": [
        {
          "output_type": "execute_result",
          "data": {
            "text/plain": [
              "[10, 20, 30, 40, 50, 60, 70, 80, 90]"
            ]
          },
          "metadata": {},
          "execution_count": 44
        }
      ]
    },
    {
      "cell_type": "code",
      "source": [
        "numbers_with_range = range(1,7) # iterable object (1, 2, 3, 4, 5, 6)"
      ],
      "metadata": {
        "id": "JhF04zmad_UB"
      },
      "execution_count": null,
      "outputs": []
    },
    {
      "cell_type": "code",
      "source": [
        "for number in numbers_with_range:\n",
        "  print(number)\n",
        "\n"
      ],
      "metadata": {
        "colab": {
          "base_uri": "https://localhost:8080/"
        },
        "id": "HEp0M4_zsFc3",
        "outputId": "84af36f1-52cf-454c-80b1-c2b33a598fc7"
      },
      "execution_count": null,
      "outputs": [
        {
          "output_type": "stream",
          "name": "stdout",
          "text": [
            "1\n",
            "2\n",
            "3\n",
            "4\n",
            "5\n",
            "6\n"
          ]
        }
      ]
    },
    {
      "cell_type": "code",
      "source": [
        "for number in numbers_with_range:\n",
        "  number = number*2\n",
        "  print(number)"
      ],
      "metadata": {
        "colab": {
          "base_uri": "https://localhost:8080/"
        },
        "id": "FMHV6be8tqqc",
        "outputId": "1d2bbce5-3e1f-47c7-9ef1-f8fdfb2d4334"
      },
      "execution_count": null,
      "outputs": [
        {
          "output_type": "stream",
          "name": "stdout",
          "text": [
            "2\n",
            "4\n",
            "6\n",
            "8\n",
            "10\n",
            "12\n"
          ]
        }
      ]
    },
    {
      "cell_type": "code",
      "source": [],
      "metadata": {
        "id": "Qyac8xUct4c9"
      },
      "execution_count": null,
      "outputs": []
    },
    {
      "cell_type": "code",
      "source": [],
      "metadata": {
        "id": "YULfJqa3t4gE"
      },
      "execution_count": null,
      "outputs": []
    },
    {
      "cell_type": "markdown",
      "source": [
        "Analyzing Numbers - Iterate through a list of 10 random numbers and determine whether each number is higher or lower than 5.\n",
        "\n",
        "Hints: Use a for loop to iterate through the list of numbers. Use if, elif, and else statements to check each number against 5.\n",
        "Example Output: 3 is lower than 5 8 is higher than 5 1 is lower than 5 6 is higher than 5 ......."
      ],
      "metadata": {
        "id": "VekJ2Bx9vFfE"
      }
    },
    {
      "cell_type": "code",
      "source": [
        "# TEAMWORK\n",
        "\n",
        "numbers_list = (1, 3, 5, 67, 89, 34, 23, 12, 10, 6)\n",
        "\n",
        "for number in numbers_list:\n",
        "    if number > 5:\n",
        "        print(f\"{number} is higher than 5\")\n",
        "    elif number == 5:\n",
        "        print(f\"{number} is equal to 5\")\n",
        "    else:\n",
        "        print(f\"{number} is lower than 5\")\n",
        "\n",
        "\n"
      ],
      "metadata": {
        "colab": {
          "base_uri": "https://localhost:8080/"
        },
        "id": "lfYDrLszt4iB",
        "outputId": "5047cd21-77b5-46da-8047-add09edb0dee"
      },
      "execution_count": null,
      "outputs": [
        {
          "output_type": "stream",
          "name": "stdout",
          "text": [
            "1 is lower than 5\n",
            "3 is lower than 5\n",
            "5 is equal to 5\n",
            "67 is higher than 5\n",
            "89 is higher than 5\n",
            "34 is higher than 5\n",
            "23 is higher than 5\n",
            "12 is higher than 5\n",
            "10 is higher than 5\n",
            "6 is higher than 5\n"
          ]
        }
      ]
    },
    {
      "cell_type": "markdown",
      "source": [
        "**Lesson 6.**\n",
        "\n",
        "Topic: For-Loops in Python\n",
        "\n",
        "1. For loops in Python\n",
        "2. Iterating through lists and nested lists\n",
        "3. Nested loops with nested lists\n",
        "4. range() - iterative object\n",
        "5. Team work: Review what different methods are built in for STRING objects. Write a program with for loop and list where user needs to input a STRING value, and program needs to check if the value is in the list. Use string methods to standardize the user input"
      ],
      "metadata": {
        "id": "7R_GfFrg1Fuv"
      }
    },
    {
      "cell_type": "code",
      "source": [
        "# LESSON 6 (27.4.24)"
      ],
      "metadata": {
        "id": "oxKmsG0x1RvT"
      },
      "execution_count": null,
      "outputs": []
    },
    {
      "cell_type": "code",
      "source": [
        "for letter in \"I LOVE PYTHON\": #STRING ITERABLE OBJECT\n",
        "  print(letter)"
      ],
      "metadata": {
        "colab": {
          "base_uri": "https://localhost:8080/"
        },
        "id": "XNJnySuAa0lY",
        "outputId": "abe32156-4cd7-4422-f6de-6bb6bf8abf26"
      },
      "execution_count": null,
      "outputs": [
        {
          "output_type": "stream",
          "name": "stdout",
          "text": [
            "I\n",
            " \n",
            "L\n",
            "O\n",
            "V\n",
            "E\n",
            " \n",
            "P\n",
            "Y\n",
            "T\n",
            "H\n",
            "O\n",
            "N\n"
          ]
        }
      ]
    },
    {
      "cell_type": "code",
      "source": [
        "for x in \"I LOVE PYTHON\": #STRING ITERABLE OBJECT\n",
        "  print(x, end = '') #\\n NEW LINE CHARACTER"
      ],
      "metadata": {
        "colab": {
          "base_uri": "https://localhost:8080/"
        },
        "id": "jcvqGkadaJVZ",
        "outputId": "2c52d70a-f141-438f-fe72-f485eb3c2aed"
      },
      "execution_count": null,
      "outputs": [
        {
          "output_type": "stream",
          "name": "stdout",
          "text": [
            "I LOVE PYTHON"
          ]
        }
      ]
    },
    {
      "cell_type": "code",
      "source": [
        "cities_i_have_been_to = ['Tallin', 'Riga', 'Tartu', 'Aluksne', 'Viru', 'Ventspils']"
      ],
      "metadata": {
        "id": "rkCp7Y2MaJ9l"
      },
      "execution_count": null,
      "outputs": []
    },
    {
      "cell_type": "code",
      "source": [
        "#FOR LOOP LIST\n",
        "\n",
        "for city in cities_i_have_been_to:\n",
        "    print(f\"I have been to {city}\")"
      ],
      "metadata": {
        "colab": {
          "base_uri": "https://localhost:8080/"
        },
        "id": "VoblE8CyaKAJ",
        "outputId": "f19adab3-2f85-4962-92d2-854a7766accd"
      },
      "execution_count": null,
      "outputs": [
        {
          "output_type": "stream",
          "name": "stdout",
          "text": [
            "I have been to Tallin\n",
            "I have been to Riga\n",
            "I have been to Tartu\n",
            "I have been to Aluksne\n",
            "I have been to Viru\n",
            "I have been to Ventspils\n"
          ]
        }
      ]
    },
    {
      "cell_type": "code",
      "source": [
        "cities_i_have_been_to = ['Tallinn', 'Riga', 'Tartu', 'Aluksne', 'Viru', 'Ventspils']\n",
        "\n",
        "# Initialize the counter\n",
        "counter = 1\n",
        "\n",
        "# Loop through each city in the list\n",
        "for city in cities_i_have_been_to:\n",
        "    print(f\"{counter}. I have been to {city}\")\n"
      ],
      "metadata": {
        "colab": {
          "base_uri": "https://localhost:8080/"
        },
        "id": "uQYZvUKRaKCr",
        "outputId": "097077ec-62d5-4bae-829b-b7c02892ff0c"
      },
      "execution_count": null,
      "outputs": [
        {
          "output_type": "stream",
          "name": "stdout",
          "text": [
            "1. I have been to Tallinn\n",
            "1. I have been to Riga\n",
            "1. I have been to Tartu\n",
            "1. I have been to Aluksne\n",
            "1. I have been to Viru\n",
            "1. I have been to Ventspils\n"
          ]
        }
      ]
    },
    {
      "cell_type": "code",
      "source": [
        "counter = 0 #INITIALIZE THE COUNTER\n",
        "\n",
        "for city in cities_i_have_been_to:\n",
        "  counter = counter + 1\n",
        "  print(f'{counter}. I have been to {city}')"
      ],
      "metadata": {
        "colab": {
          "base_uri": "https://localhost:8080/"
        },
        "id": "0Et-1n4YaKFM",
        "outputId": "efdb4d5f-cf12-4251-e61e-49fe5478f8a7"
      },
      "execution_count": null,
      "outputs": [
        {
          "output_type": "stream",
          "name": "stdout",
          "text": [
            "1. I have been to Tallin\n",
            "2. I have been to Riga\n",
            "3. I have been to Tartu\n",
            "4. I have been to Aluksne\n",
            "5. I have been to Viru\n",
            "6. I have been to Ventspils\n"
          ]
        }
      ]
    },
    {
      "cell_type": "code",
      "source": [
        "# ADD PREVIOUS CITY IN THE FORLOOP\n",
        "\n",
        "cities_i_have_been_to = ['Tallin', 'Riga', 'Tartu', 'Aluksne', 'Viru', 'Ventspils']\n",
        "counter = 0 #INITIALIZE THE COUNTER\n",
        "previous_city = None\n",
        "\n",
        "for city in cities_i_have_been_to:\n",
        "  counter = counter + 1\n",
        "  print(f'{counter}. I have been to {city}. The previous city I visited was {previous_city}')\n",
        "  previous_city = city\n"
      ],
      "metadata": {
        "colab": {
          "base_uri": "https://localhost:8080/"
        },
        "id": "wGuLWdHBbrAw",
        "outputId": "06e0dd76-e3cb-40e5-b945-c784b1ed8e78"
      },
      "execution_count": null,
      "outputs": [
        {
          "output_type": "stream",
          "name": "stdout",
          "text": [
            "1. I have been to Tallin. The previous city I visited was None\n",
            "2. I have been to Riga. The previous city I visited was Tallin\n",
            "3. I have been to Tartu. The previous city I visited was Riga\n",
            "4. I have been to Aluksne. The previous city I visited was Tartu\n",
            "5. I have been to Viru. The previous city I visited was Aluksne\n",
            "6. I have been to Ventspils. The previous city I visited was Viru\n"
          ]
        }
      ]
    },
    {
      "cell_type": "code",
      "source": [
        "cities_i_have_been_to = ['Tallin', 'Riga', 'Tartu', 'Aluksne', 'Viru', 'Ventspils']\n",
        "counter = 0  # INITIALIZE THE COUNTER\n",
        "previous_city = None\n",
        "\n",
        "for city in cities_i_have_been_to:\n",
        "    counter = counter + 1\n",
        "    if previous_city == None:\n",
        "        print(f'{counter}. I have been to {city}.')\n",
        "    else:\n",
        "        print(f'{counter}. I have been to {city}. The previous city I visited was {previous_city}')\n",
        "    previous_city = city\n"
      ],
      "metadata": {
        "colab": {
          "base_uri": "https://localhost:8080/"
        },
        "id": "xz9AkSQabrDS",
        "outputId": "46ea7781-6f12-44d9-979c-7d849bc94e79"
      },
      "execution_count": null,
      "outputs": [
        {
          "output_type": "stream",
          "name": "stdout",
          "text": [
            "1. I have been to Tallin.\n",
            "2. I have been to Riga. The previous city I visited was Tallin\n",
            "3. I have been to Tartu. The previous city I visited was Riga\n",
            "4. I have been to Aluksne. The previous city I visited was Tartu\n",
            "5. I have been to Viru. The previous city I visited was Aluksne\n",
            "6. I have been to Ventspils. The previous city I visited was Viru\n"
          ]
        }
      ]
    },
    {
      "cell_type": "code",
      "source": [
        "# Triin's example:\n",
        "import random\n",
        "\n",
        "cities_i_have_been_to = ['Tallinn', 'Riga', 'Tartu', 'Aluksne', 'Viru', 'Ventspils']\n",
        "\n",
        "counter = 0\n",
        "previous_city = None\n",
        "adjectives = [\"fun\", \"awful\", \"crazy\", \"scary\", \"lovely\", \"sunny\"]\n",
        "\n",
        "for city in cities_i_have_been_to:\n",
        "  counter = counter + 1\n",
        "  impression = random.choice(adjectives)\n",
        "  if counter > 1:\n",
        "    print(f\"{counter}. I have been to {city} and it was {impression}. The previous city I visited was {previous_city}.\")\n",
        "  else:\n",
        "    print(f\"{counter}. I have been to {city} and it was {impression}.\")\n",
        "  previous_city = city\n"
      ],
      "metadata": {
        "colab": {
          "base_uri": "https://localhost:8080/"
        },
        "id": "LPciKGfdbrFz",
        "outputId": "f6b01b26-f726-4a52-c4d4-f6480bf548db"
      },
      "execution_count": null,
      "outputs": [
        {
          "output_type": "stream",
          "name": "stdout",
          "text": [
            "1. I have been to Tallinn and it was lovely.\n",
            "2. I have been to Riga and it was crazy. The previous city I visited was Tallinn.\n",
            "3. I have been to Tartu and it was sunny. The previous city I visited was Riga.\n",
            "4. I have been to Aluksne and it was awful. The previous city I visited was Tartu.\n",
            "5. I have been to Viru and it was sunny. The previous city I visited was Aluksne.\n",
            "6. I have been to Ventspils and it was lovely. The previous city I visited was Viru.\n"
          ]
        }
      ]
    },
    {
      "cell_type": "code",
      "source": [
        "# For loops with indexes\n",
        "\n",
        "cities_i_have_been_to = ['Tallin', 'Riga', 'Tartu', 'Aluksne', 'Viru', 'Ventspils']\n",
        "which_year_I_visited = [2020, 2024, 2020, 2021, 2024, 2022]\n",
        "\n"
      ],
      "metadata": {
        "id": "1ck7ikgNbrJr"
      },
      "execution_count": null,
      "outputs": []
    },
    {
      "cell_type": "code",
      "source": [
        "len(cities_i_have_been_to) # how many elements\n"
      ],
      "metadata": {
        "colab": {
          "base_uri": "https://localhost:8080/"
        },
        "id": "aSZduyT-brMc",
        "outputId": "3b586ccd-df92-47a4-cc59-58cc9744f912"
      },
      "execution_count": null,
      "outputs": [
        {
          "output_type": "execute_result",
          "data": {
            "text/plain": [
              "6"
            ]
          },
          "metadata": {},
          "execution_count": 26
        }
      ]
    },
    {
      "cell_type": "code",
      "source": [
        "range(len(cities_i_have_been_to)) # elements containing the values\n"
      ],
      "metadata": {
        "colab": {
          "base_uri": "https://localhost:8080/"
        },
        "id": "nasc7skHbrPE",
        "outputId": "9f82e104-f772-4d3e-b433-ff0192488fba"
      },
      "execution_count": null,
      "outputs": [
        {
          "output_type": "execute_result",
          "data": {
            "text/plain": [
              "range(0, 6)"
            ]
          },
          "metadata": {},
          "execution_count": 27
        }
      ]
    },
    {
      "cell_type": "code",
      "source": [
        "range(len(cities_i_have_been_to))\n",
        "list(range(len(cities_i_have_been_to))) # list of indexes\n"
      ],
      "metadata": {
        "colab": {
          "base_uri": "https://localhost:8080/"
        },
        "id": "rI0pD-CIbrRm",
        "outputId": "b15497c3-8e27-464b-845a-eae89d30760e"
      },
      "execution_count": null,
      "outputs": [
        {
          "output_type": "execute_result",
          "data": {
            "text/plain": [
              "[0, 1, 2, 3, 4, 5]"
            ]
          },
          "metadata": {},
          "execution_count": 28
        }
      ]
    },
    {
      "cell_type": "code",
      "source": [
        "range(len(cities_i_have_been_to)) #elements\n",
        "for i in range(len(cities_i_have_been_to)):\n",
        "  print(f'This is the index {i}')"
      ],
      "metadata": {
        "colab": {
          "base_uri": "https://localhost:8080/"
        },
        "id": "1q4n2t11brUN",
        "outputId": "5adcec46-d703-4c16-d94a-32b55b944397"
      },
      "execution_count": null,
      "outputs": [
        {
          "output_type": "stream",
          "name": "stdout",
          "text": [
            "This is the index 0\n",
            "This is the index 1\n",
            "This is the index 2\n",
            "This is the index 3\n",
            "This is the index 4\n",
            "This is the index 5\n"
          ]
        }
      ]
    },
    {
      "cell_type": "code",
      "source": [
        "# Elchin: enumeration optional: no need to knew now\n",
        "\n",
        "cities_i_have_been_to = ['Tallinn', 'Riga', 'Tartu', 'Aluksne', 'Viru', 'Ventspils']\n",
        "\n",
        "for i, city in enumerate(cities_i_have_been_to, start=1):\n",
        "    if i == 1:\n",
        "        print(f'{i}. I have been to {city}.')\n",
        "    else:\n",
        "        print(f'{i}. I have been to {city}. The previous city I visited was {cities_i_have_been_to[i-2]}.')"
      ],
      "metadata": {
        "colab": {
          "base_uri": "https://localhost:8080/"
        },
        "id": "CD8ur0dlbrW_",
        "outputId": "077684ec-246e-4391-df89-19c9e82b65fe"
      },
      "execution_count": null,
      "outputs": [
        {
          "output_type": "stream",
          "name": "stdout",
          "text": [
            "1. I have been to Tallinn.\n",
            "2. I have been to Riga. The previous city I visited was Tallinn.\n",
            "3. I have been to Tartu. The previous city I visited was Riga.\n",
            "4. I have been to Aluksne. The previous city I visited was Tartu.\n",
            "5. I have been to Viru. The previous city I visited was Aluksne.\n",
            "6. I have been to Ventspils. The previous city I visited was Viru.\n"
          ]
        }
      ]
    },
    {
      "cell_type": "code",
      "source": [
        "which_year_I_visited= ['2020', '2023', '2019', '2018', '2024', '2020']"
      ],
      "metadata": {
        "id": "MY7jAwuHjDkF"
      },
      "execution_count": null,
      "outputs": []
    },
    {
      "cell_type": "code",
      "source": [
        "range(len(cities_i_have_been_to)) #elements  [0, 1, 2, 3, 4, 5]\n",
        "for i in range(len(cities_i_have_been_to)):\n",
        "  print(cities_i_have_been_to[i])\n",
        "  print(which_year_I_visited[i])\n",
        "  print(f'This is the index {i}')\n"
      ],
      "metadata": {
        "colab": {
          "base_uri": "https://localhost:8080/"
        },
        "id": "Y2kVADEvbrZu",
        "outputId": "406d620b-9159-4082-cbdc-ef9e8a68f9ab"
      },
      "execution_count": null,
      "outputs": [
        {
          "output_type": "stream",
          "name": "stdout",
          "text": [
            "Tallinn\n",
            "2020\n",
            "This is the index 0\n",
            "Riga\n",
            "2023\n",
            "This is the index 1\n",
            "Tartu\n",
            "2019\n",
            "This is the index 2\n",
            "Aluksne\n",
            "2018\n",
            "This is the index 3\n",
            "Viru\n",
            "2024\n",
            "This is the index 4\n",
            "Ventspils\n",
            "2020\n",
            "This is the index 5\n"
          ]
        }
      ]
    },
    {
      "cell_type": "code",
      "source": [
        "range(len(cities_i_have_been_to)) #elements  [0, 1, 2, 3, 4, 5]\n",
        "for i in range(len(cities_i_have_been_to)):\n",
        "  print(f'I have been to {cities_i_have_been_to[i]}. I visited that city in {which_year_I_visited[i]}')"
      ],
      "metadata": {
        "colab": {
          "base_uri": "https://localhost:8080/"
        },
        "id": "FycgSOvmbrcX",
        "outputId": "c293ceca-0784-4a2c-8a84-63a5798481d8"
      },
      "execution_count": null,
      "outputs": [
        {
          "output_type": "stream",
          "name": "stdout",
          "text": [
            "I have been to Tallinn. I visited that city in 2020\n",
            "I have been to Riga. I visited that city in 2023\n",
            "I have been to Tartu. I visited that city in 2019\n",
            "I have been to Aluksne. I visited that city in 2018\n",
            "I have been to Viru. I visited that city in 2024\n",
            "I have been to Ventspils. I visited that city in 2020\n"
          ]
        }
      ]
    },
    {
      "cell_type": "code",
      "source": [
        "#############################################"
      ],
      "metadata": {
        "id": "mqWpEPOgtGr5"
      },
      "execution_count": null,
      "outputs": []
    },
    {
      "cell_type": "markdown",
      "source": [
        "In Python, different types of brackets (**{ }, [ ], ( )**) are used for various purposes. Each type of bracket has its specific usage and syntactic significance. Here's an overview of what each is used for:\n",
        "\n",
        "# 1. **Curly Braces { }**\n",
        "\n",
        "Curly braces {} are versatile in Python and are associated with the following uses:\n",
        "\n",
        "\n",
        "\n",
        "**Dictionaries:**\n",
        "\n",
        "Dictionaries are collections of key-value pairs defined using curly braces. Each key is unique and is associated with a value. Here’s an example:"
      ],
      "metadata": {
        "id": "XXGGm89RlQ7k"
      }
    },
    {
      "cell_type": "code",
      "source": [
        "my_dict = {\"name\": \"John\", \"age\": 30}"
      ],
      "metadata": {
        "id": "OlJEz4_ajmQW"
      },
      "execution_count": null,
      "outputs": []
    },
    {
      "cell_type": "markdown",
      "source": [
        "**Sets:**\n",
        "\n",
        "Curly braces are also used to define sets, which are collections of unique elements. For instance:"
      ],
      "metadata": {
        "id": "mXOJr67zlm8_"
      }
    },
    {
      "cell_type": "code",
      "source": [
        "my_set = {1, 2, 3}"
      ],
      "metadata": {
        "id": "OUUBSrpTl531"
      },
      "execution_count": null,
      "outputs": []
    },
    {
      "cell_type": "markdown",
      "source": [
        "**String Formatting:**\n",
        "\n",
        "Curly braces are used in string formatting to embed variables or expressions within a string. This is often done with f-strings or the str.format() method:"
      ],
      "metadata": {
        "id": "UKWxZK2OmJ1l"
      }
    },
    {
      "cell_type": "code",
      "source": [
        "name = \"Alice\"\n",
        "greeting = f\"Hello, {name}\""
      ],
      "metadata": {
        "id": "F6yxjwAXjmK-"
      },
      "execution_count": null,
      "outputs": []
    },
    {
      "cell_type": "markdown",
      "source": [
        "# **2. Square Brackets [  ]**\n",
        "\n",
        "Square brackets are primarily used for:\n",
        "\n",
        "**Lists:**\n",
        "\n",
        "Lists are ordered collections of items and are defined using square brackets. Items in a list can be accessed, added, or removed. Here's a simple list:"
      ],
      "metadata": {
        "id": "-YQoWWeAmi9R"
      }
    },
    {
      "cell_type": "code",
      "source": [
        "my_list = [10, 20, 30]"
      ],
      "metadata": {
        "id": "Wk3BE8wImeTs"
      },
      "execution_count": null,
      "outputs": []
    },
    {
      "cell_type": "markdown",
      "source": [
        "**Indexing and Slicing:**\n",
        "\n",
        "Square brackets are used to access elements of a list, tuple, string, or any other subscriptable object. You can also slice these objects to get a range of elements:"
      ],
      "metadata": {
        "id": "K8fYSyMqnN-o"
      }
    },
    {
      "cell_type": "code",
      "source": [
        "my_list = [10, 20, 30, 40, 50]\n",
        "first_item = my_list[0]  # Indexing\n",
        "sublist = my_list[1:3]   # Slicing"
      ],
      "metadata": {
        "id": "C3iPsJqRl56f"
      },
      "execution_count": null,
      "outputs": []
    },
    {
      "cell_type": "markdown",
      "source": [
        "# **3. Parentheses (  )**\n",
        "\n",
        "Parentheses are used for:\n",
        "\n",
        "**Tuples:**\n",
        "\n",
        "A tuple is similar to a list but is immutable. Tuples are defined using parentheses:"
      ],
      "metadata": {
        "id": "5mpc-lmGn05m"
      }
    },
    {
      "cell_type": "code",
      "source": [
        "my_tuple = (1, 2, 3)"
      ],
      "metadata": {
        "id": "cPS9QYegl59O"
      },
      "execution_count": null,
      "outputs": []
    },
    {
      "cell_type": "markdown",
      "source": [
        "**Function Calls and Definitions:**\n",
        "\n",
        "Parentheses are used in defining and calling functions. They enclose the parameters and arguments of functions:"
      ],
      "metadata": {
        "id": "roQvc4jJoHn-"
      }
    },
    {
      "cell_type": "code",
      "source": [
        "def my_function(x, y):\n",
        "    return x + y\n",
        "\n",
        "result = my_function(5, 3)"
      ],
      "metadata": {
        "id": "G0tkDi62l6AB"
      },
      "execution_count": null,
      "outputs": []
    },
    {
      "cell_type": "markdown",
      "source": [
        "**Order of Operations in Expressions:**\n",
        "\n",
        "Parentheses can be used to explicitly specify the order of operations in complex expressions:\n"
      ],
      "metadata": {
        "id": "fyXgtsyXoPaq"
      }
    },
    {
      "cell_type": "code",
      "source": [
        "result = (5 + 3) * 2\n"
      ],
      "metadata": {
        "id": "54VqhrCWl6Cw"
      },
      "execution_count": null,
      "outputs": []
    },
    {
      "cell_type": "markdown",
      "source": [
        "**Generator Expressions:**\n",
        "\n",
        "Parentheses are used around generator expressions, which are similar to list comprehensions but produce items on the fly:\n",
        "\n"
      ],
      "metadata": {
        "id": "rSsUD2beooTk"
      }
    },
    {
      "cell_type": "code",
      "source": [
        "my_generator = (x * 2 for x in range(10))"
      ],
      "metadata": {
        "id": "drtvD7s6l6Fp"
      },
      "execution_count": null,
      "outputs": []
    },
    {
      "cell_type": "code",
      "source": [
        "#############################################"
      ],
      "metadata": {
        "id": "b_cqMnGlonXv"
      },
      "execution_count": null,
      "outputs": []
    },
    {
      "cell_type": "code",
      "source": [
        "# NESTED LIST\n",
        "\n",
        "matrix_2d = [\n",
        "    [1, 2, 3],\n",
        "    [4, 5, 6],\n",
        "    [7, 8, 9]]\n"
      ],
      "metadata": {
        "id": "94IpXGbconaQ"
      },
      "execution_count": null,
      "outputs": []
    },
    {
      "cell_type": "code",
      "source": [
        "\n",
        "for i in matrix_2d:\n",
        "  print(f'THIS IS THE SUB-LIST: {i}')\n",
        "  for j in i:\n",
        "    print(f'THESE ARE THE ELEMENTS OF THE SUB-LIST {j}')\n",
        "\n",
        "# SAME AS\n",
        "\n",
        "for element1 in matrix_2d:\n",
        "  print(f'THIS IS THE SUB-LIST: {element1}')\n",
        "  for element2 in i:\n",
        "    print(f'THESE ARE THE ELEMENTS OF THE SUB-LIST {element2}')\n"
      ],
      "metadata": {
        "colab": {
          "base_uri": "https://localhost:8080/"
        },
        "id": "gdbGwHEBondC",
        "outputId": "7d46721d-7371-459a-fbf3-2d0b51224460"
      },
      "execution_count": null,
      "outputs": [
        {
          "output_type": "stream",
          "name": "stdout",
          "text": [
            "THIS IS THE SUB-LIST: [1, 2, 3]\n",
            "THESE ARE THE ELEMENTS OF THE SUB-LIST 1\n",
            "THESE ARE THE ELEMENTS OF THE SUB-LIST 2\n",
            "THESE ARE THE ELEMENTS OF THE SUB-LIST 3\n",
            "THIS IS THE SUB-LIST: [4, 5, 6]\n",
            "THESE ARE THE ELEMENTS OF THE SUB-LIST 4\n",
            "THESE ARE THE ELEMENTS OF THE SUB-LIST 5\n",
            "THESE ARE THE ELEMENTS OF THE SUB-LIST 6\n",
            "THIS IS THE SUB-LIST: [7, 8, 9]\n",
            "THESE ARE THE ELEMENTS OF THE SUB-LIST 7\n",
            "THESE ARE THE ELEMENTS OF THE SUB-LIST 8\n",
            "THESE ARE THE ELEMENTS OF THE SUB-LIST 9\n",
            "THIS IS THE SUB-LIST: [1, 2, 3]\n",
            "THESE ARE THE ELEMENTS OF THE SUB-LIST 7\n",
            "THESE ARE THE ELEMENTS OF THE SUB-LIST 8\n",
            "THESE ARE THE ELEMENTS OF THE SUB-LIST 9\n",
            "THIS IS THE SUB-LIST: [4, 5, 6]\n",
            "THESE ARE THE ELEMENTS OF THE SUB-LIST 7\n",
            "THESE ARE THE ELEMENTS OF THE SUB-LIST 8\n",
            "THESE ARE THE ELEMENTS OF THE SUB-LIST 9\n",
            "THIS IS THE SUB-LIST: [7, 8, 9]\n",
            "THESE ARE THE ELEMENTS OF THE SUB-LIST 7\n",
            "THESE ARE THE ELEMENTS OF THE SUB-LIST 8\n",
            "THESE ARE THE ELEMENTS OF THE SUB-LIST 9\n"
          ]
        }
      ]
    },
    {
      "cell_type": "code",
      "source": [
        "# Grade mapping exercise\n",
        "\n",
        "grade_mapping = [[90, 'A'], [80, 'B'], [70, 'C'], [60, 'D'], [0, 'F']] # nested list\n",
        "\n",
        "#grade_mapping[0] # [90, A]\n",
        "grade_mapping[0][1] # A\n",
        "#grade_mapping[3][1] #D"
      ],
      "metadata": {
        "colab": {
          "base_uri": "https://localhost:8080/",
          "height": 35
        },
        "id": "ibN9oT0Donfp",
        "outputId": "2074f02e-4474-4fe5-f957-0adb5e4f949c"
      },
      "execution_count": null,
      "outputs": [
        {
          "output_type": "execute_result",
          "data": {
            "text/plain": [
              "'A'"
            ],
            "application/vnd.google.colaboratory.intrinsic+json": {
              "type": "string"
            }
          },
          "metadata": {},
          "execution_count": 47
        }
      ]
    },
    {
      "cell_type": "code",
      "source": [
        "for threshold, letter_grade in grade_mapping:\n",
        "  print(letter_grade)"
      ],
      "metadata": {
        "colab": {
          "base_uri": "https://localhost:8080/"
        },
        "id": "hzkovTsHoniS",
        "outputId": "8797c081-717d-4fc4-90a2-6174fe8a76a6"
      },
      "execution_count": null,
      "outputs": [
        {
          "output_type": "stream",
          "name": "stdout",
          "text": [
            "A\n",
            "B\n",
            "C\n",
            "D\n",
            "F\n"
          ]
        }
      ]
    },
    {
      "cell_type": "code",
      "source": [
        "student_names = [\"Alice\", \"Bob\", \"Charlie\", \"David\", \"Eva\"]\n",
        "student_scores = [85, 72, 93, 60, 77]\n",
        "grade_mapping = [[90, 'A'], [80, 'B'], [70, 'C'], [60, 'D'], [0, 'F']] # nested list\n",
        "\n",
        "# write a for loop with range and print out student score\n",
        "\n",
        "for i in range(len(student_names)):\n",
        "    print(f\"{student_names[i]}, you scored {student_scores[i]} points\")"
      ],
      "metadata": {
        "colab": {
          "base_uri": "https://localhost:8080/"
        },
        "id": "YDh9XR1Xonk1",
        "outputId": "da76ca12-a34f-4f24-947d-3738311f627e"
      },
      "execution_count": null,
      "outputs": [
        {
          "output_type": "stream",
          "name": "stdout",
          "text": [
            "Alice, you scored 85 points\n",
            "Bob, you scored 72 points\n",
            "Charlie, you scored 93 points\n",
            "David, you scored 60 points\n",
            "Eva, you scored 77 points\n"
          ]
        }
      ]
    },
    {
      "cell_type": "code",
      "source": [
        "for i in range(len(student_scores)):\n",
        "  print(student_scores[i])\n",
        "  print(student_names[i])\n",
        "  score = student_scores[i] # THIS IS THE SCORE OF EACH STUDENT SEPARATELY\n",
        "\n",
        "  for number_grade, letter_grade in grade_mapping:\n",
        "\n",
        "    if score >= number_grade:\n",
        "      print(f'Hi, {student_names[i]}, your letter grade is {letter_grade}')\n",
        "      break"
      ],
      "metadata": {
        "colab": {
          "base_uri": "https://localhost:8080/"
        },
        "id": "MBUcd9LVonne",
        "outputId": "83d9b19a-7b01-4322-aced-9e525a4a6d84"
      },
      "execution_count": null,
      "outputs": [
        {
          "output_type": "stream",
          "name": "stdout",
          "text": [
            "85\n",
            "Alice\n",
            "Hi, Alice, your letter grade is B\n",
            "72\n",
            "Bob\n",
            "Hi, Bob, your letter grade is C\n",
            "93\n",
            "Charlie\n",
            "Hi, Charlie, your letter grade is A\n",
            "60\n",
            "David\n",
            "Hi, David, your letter grade is D\n",
            "77\n",
            "Eva\n",
            "Hi, Eva, your letter grade is C\n"
          ]
        }
      ]
    },
    {
      "cell_type": "code",
      "source": [
        "for i in range(len(student_names)):\n",
        "  for threshold, letter_grade in grade_mapping:\n",
        "    if student_scores[i] >= threshold:\n",
        "      print(f\"Hi {student_names[i]}. Your score is {student_scores[i]}. Your grade is {letter_grade}.\")\n",
        "      break"
      ],
      "metadata": {
        "colab": {
          "base_uri": "https://localhost:8080/"
        },
        "id": "diDr26oetAKT",
        "outputId": "dc694aa2-84c5-460c-f4d9-4a57706c2671"
      },
      "execution_count": null,
      "outputs": [
        {
          "output_type": "stream",
          "name": "stdout",
          "text": [
            "Hi Alice. Your score is 85. Your grade is B.\n",
            "Hi Bob. Your score is 72. Your grade is C.\n",
            "Hi Charlie. Your score is 93. Your grade is A.\n",
            "Hi David. Your score is 60. Your grade is D.\n",
            "Hi Eva. Your score is 77. Your grade is C.\n"
          ]
        }
      ]
    },
    {
      "cell_type": "code",
      "source": [
        "# ENUMERATE\n",
        "\n",
        "student_names = [\"Alice\", \"Bob\", \"Charlie\", \"David\", \"Eva\"]\n",
        "\n",
        "for index, student in enumerate(student_names, start = 1):\n",
        "  print(f\"Student {index}: {student}\")\n"
      ],
      "metadata": {
        "colab": {
          "base_uri": "https://localhost:8080/"
        },
        "id": "aGW3CIQCtAM7",
        "outputId": "88d39467-690b-404d-f44f-16686073b193"
      },
      "execution_count": null,
      "outputs": [
        {
          "output_type": "stream",
          "name": "stdout",
          "text": [
            "Student 1: Alice\n",
            "Student 2: Bob\n",
            "Student 3: Charlie\n",
            "Student 4: David\n",
            "Student 5: Eva\n"
          ]
        }
      ]
    },
    {
      "cell_type": "code",
      "source": [
        "student_names = [\"Alice\", \"Bob\", \"Charlie\", \"David\", \"Eva\"]\n",
        "\n",
        "#ENUMERATE\n",
        "for index, student in enumerate(student_names):\n",
        "  print(f'Student {index}: {student}')\n",
        "\n",
        "#COUNTER\n",
        "counter = 0 #INITIALIZE THE COUNTER\n",
        "for student in student_names:\n",
        "  print(f'Student {counter}: {student}')\n",
        "  counter = counter + 1\n",
        "\n",
        "#RANGE\n",
        "for i in range(len(student_names)):\n",
        "  print(f'Student {i}: {student_names[i]}')"
      ],
      "metadata": {
        "colab": {
          "base_uri": "https://localhost:8080/"
        },
        "id": "UOhl9lNstAP5",
        "outputId": "9789d5a5-fbc2-4d16-b9b6-62cecc2e9a4d"
      },
      "execution_count": null,
      "outputs": [
        {
          "output_type": "stream",
          "name": "stdout",
          "text": [
            "Student 0: Alice\n",
            "Student 1: Bob\n",
            "Student 2: Charlie\n",
            "Student 3: David\n",
            "Student 4: Eva\n",
            "Student 0: Alice\n",
            "Student 1: Bob\n",
            "Student 2: Charlie\n",
            "Student 3: David\n",
            "Student 4: Eva\n",
            "Student 0: Alice\n",
            "Student 1: Bob\n",
            "Student 2: Charlie\n",
            "Student 3: David\n",
            "Student 4: Eva\n"
          ]
        }
      ]
    },
    {
      "cell_type": "code",
      "source": [
        "# TEAMWORK\n",
        "# Review what different methods are built in for STRING objects. Write a program with for loop and list where user needs\n",
        "# to input a STRING value, and program needs to check if the value is in the list. Use string methods to standardize the user input\n",
        "\n"
      ],
      "metadata": {
        "id": "XeXknapwzopy"
      },
      "execution_count": null,
      "outputs": []
    },
    {
      "cell_type": "markdown",
      "source": [
        "# Python str (string) type built-in methods:\n",
        "\n",
        "**capitalize()** - capitalizes the first character of the string;\n",
        "\n",
        "**casefold()** - converts the entire string to lowercase in an optimized manner;\n",
        "\n",
        "**center(width, [fillchar])** - returns a centered string, with the desired width and filler;\n",
        "\n",
        "**count(sub, [start, [end]])** - counts how many times a substring occurs within the string;\n",
        "\n",
        "**encode(encoding='utf-8', errors='strict')** - returns a byte-encoded version of the string;\n",
        "\n",
        "**endswith(suffix, [start, [end]])** - checks if the string ends with a specified suffix;\n",
        "\n",
        "**expandtabs(tabsize=8)** - replaces tabs in the string with spaces;\n",
        "\n",
        "**find(sub, [start, [end]])** - searches for the substring and returns its first index;\n",
        "\n",
        "**format(*args, **kwargs)** - formats the string by replacing marked locations with arguments;\n",
        "\n",
        "**index(sub, [start, [end]])** - similar to find() but throws an error if the substring is not found;\n",
        "\n",
        "**isalnum()** - checks if all characters are alphanumeric;\n",
        "\n",
        "**isalpha()** - checks if all characters are alphabetic;\n",
        "\n",
        "**isdecimal()** - checks if all characters are decimal characters;\n",
        "\n",
        "**isdigit()** - checks if all characters are digits;\n",
        "\n",
        "**isidentifier()** - checks if the string is a valid identifier;\n",
        "\n",
        "**islower()** - checks if all characters are lowercase;\n",
        "\n",
        "**isnumeric()** - checks if all characters are numeric;\n",
        "\n",
        "**isspace()** - checks if the string contains only whitespace;\n",
        "\n",
        "**istitle()** - checks if each word starts with an upper case letter;\n",
        "\n",
        "**isupper()** - checks if all characters are uppercase;\n",
        "\n",
        "**join(iterable)** - joins elements from an iterable into a string;\n",
        "\n",
        "**lower()** - converts all characters to lowercase;\n",
        "\n",
        "**lstrip([chars])** - removes specified characters from the left side of the string;\n",
        "\n",
        "**replace(old, new, [count])** - replaces parts of the string with another;\n",
        "\n",
        "**rfind(sub, [start, [end]])** - searches for the substring from the right side;\n",
        "\n",
        "**rindex(sub, [start, [end]])** - similar to rfind() but throws an error if the substring is not found;\n",
        "\n",
        "**rstrip([chars])** - removes specified characters from the right side of the string;\n",
        "\n",
        "**split(sep=None, maxsplit=-1)** - splits the string into parts;\n",
        "\n",
        "**splitlines([keepends])** - splits the string into lines;\n",
        "\n",
        "**startswith(prefix, [start, [end]])** - checks if the string starts with a specified prefix;\n",
        "\n",
        "**strip([chars])** - removes specified characters from both sides of the string;\n",
        "\n",
        "**swapcase()** - swaps the case of characters;\n",
        "\n",
        "**title()** - converts the first character of each word to upper case;\n",
        "\n",
        "**upper()** - converts all characters to uppercase;\n",
        "\n",
        "**zfill(width)** - fills the front of the string with zeros to achieve the specified width;\n",
        "\n"
      ],
      "metadata": {
        "id": "hYIMUGLb7g3g"
      }
    },
    {
      "cell_type": "code",
      "source": [
        "# list of expected names\n",
        "names = [\"Tina\", \"Alice\", \"Rob\", \"Tom\", \"Dina\"]\n",
        "\n",
        "input_string = input(\"Enter a name: \")\n",
        "\n",
        "# remove spaces and convert all letters to lowercase\n",
        "clean_input = input_string.strip().lower()\n",
        "\n",
        "# check if the input is in the list\n",
        "found = False\n",
        "for name in names:\n",
        "    if name.lower() == clean_input:\n",
        "        found = True\n",
        "        break\n",
        "\n",
        "if found:\n",
        "    print(f\"The name {input_string} is in the list\")\n",
        "else:\n",
        "    print(f\"The name {input_string} is not in the list\")"
      ],
      "metadata": {
        "colab": {
          "base_uri": "https://localhost:8080/"
        },
        "id": "Uxcf3c1C_ZZh",
        "outputId": "b6217ad2-8908-44cb-ffef-a94cd8c03038"
      },
      "execution_count": null,
      "outputs": [
        {
          "output_type": "stream",
          "name": "stdout",
          "text": [
            "Enter a name: ALICE\n",
            "The name ALICE is in the list\n"
          ]
        }
      ]
    },
    {
      "cell_type": "code",
      "source": [
        "def main():\n",
        "    # list of string values\n",
        "    my_list = [\"Apple\", \"Banana\", \"Cherry\", \"Date\", \"Elderberry\"]\n",
        "\n",
        "    # standardizing the list to lower case for comparison\n",
        "    standard_list = [item.lower() for item in my_list]\n",
        "\n",
        "\n",
        "    user_input = input(\"Please enter a fruit name: \")\n",
        "\n",
        "    # remove spaces and convert to lower case\n",
        "    standardized_input = user_input.strip().lower()\n",
        "\n",
        "    # for loop to check if the standardized user input is in the standard list\n",
        "    if standardized_input in standard_list:\n",
        "        print(f\"{user_input.strip().capitalize()} is in the list\")\n",
        "    else:\n",
        "        print(f\"{user_input.strip().capitalize()} is not in the list\")\n",
        "\n",
        "# call the main function to run the program\n",
        "if __name__ == \"__main__\":\n",
        "    main()"
      ],
      "metadata": {
        "id": "IWcm7VFz3k3H",
        "colab": {
          "base_uri": "https://localhost:8080/"
        },
        "outputId": "a1d4717e-897a-46d0-9204-eb3926ca6e91"
      },
      "execution_count": null,
      "outputs": [
        {
          "output_type": "stream",
          "name": "stdout",
          "text": [
            "Please enter a fruit name: cherRY\n",
            "Cherry is in the list\n"
          ]
        }
      ]
    },
    {
      "cell_type": "markdown",
      "source": [
        "**Explanation:**\n",
        "\n",
        "\n",
        "1. **List Definition:** A list predefined_list contains some fruit names. This is the list against which the user's input will be checked.\n",
        "2. **Standardizing the List:** To ensure that the comparison between the user's input and the list is case-insensitive, we convert all items in the list to lowercase using a list comprehension.\n",
        "3. **User Input:** The program prompts the user to input a fruit name.\n",
        "4. **Input Standardization:**\n",
        "*  **.strip()** is used to remove any leading or trailing whitespace from the\n",
        "\n",
        "user's input, which helps to prevent errors in comparison due to extra spaces.\n",
        "*  **.lower()** converts the user's input to lowercase, ensuring that the comparison is case-insensitive.\n",
        "5. **Comparison:**\n",
        "*  The program checks if the standardized user input exists in the **standardized_list**.\n",
        "*  If the input is found, it prints that the input is in the list; otherwise, it indicates that the input is not in the list.\n",
        "6. **String Methods Used:**\n",
        "*  **.strip():** Removes any leading and trailing whitespace from the string.\n",
        "*  **.lower():** Converts all characters in the string to lowercase.\n",
        "*  **.capitalize(): **Converts the first character of the string to uppercase and the rest to lowercase, which is used for nicer output formatting."
      ],
      "metadata": {
        "id": "O73K-ShN3XpM"
      }
    },
    {
      "cell_type": "markdown",
      "source": [
        "**TEST**\n",
        "Started on\tWednesday, 1 May 2024, 12:30 PM\n",
        "State\tFinished\n",
        "Time taken\t3 mins 40 secs\n",
        "Marks\t4.00/5.00\n",
        "\n",
        "Grade\t8.00 out of 10.00 (80%)\n",
        "\n",
        "**Question 1.**\n",
        "What type of object is represented by the following code?\n",
        "my_list1 =  \"pink, yellow, green, red\"\n",
        "\n",
        "a.\n",
        "Integer\n",
        "\n",
        "b.\n",
        "NoneType\n",
        "\n",
        "c.\n",
        "List\n",
        "\n",
        "d.\n",
        "String\n",
        "\n",
        "Your answer is correct.\n",
        "The correct answer is:\n",
        "String\n",
        "\n",
        "\n",
        "\n",
        "**Question 2.**\n",
        "Which of the following statements accurately describes list indexes in Python?\n",
        "\n",
        "a.\n",
        "List indexes in Python allow both positive and negative values, where negative indexes count backward from the end of the list.\n",
        "\n",
        "\n",
        "b.\n",
        "List indexes in Python are immutable and cannot be changed once assigned to an element.\n",
        "\n",
        "c.\n",
        "List indexes in Python start from 1 and increment by 1 for each element in the list.\n",
        "\n",
        "d.\n",
        "List indexes in Python ONLY allow positive values\n",
        "\n",
        "Your answer is correct.\n",
        "The correct answer is:\n",
        "List indexes in Python allow both positive and negative values, where negative indexes count backward from the end of the list.\n",
        "\n",
        "\n",
        "\n",
        "**Question 3.**\n",
        "\n",
        "Which statement accurately describes the behavior of the provided code?\n",
        "original_list = [1, 2, 3, 4, 5]\n",
        "copied_list = original_list.copy()\n",
        "original_list.append(6)\n",
        "\n",
        "a.\n",
        "Both original_list and copied_list have 6 numbers\n",
        "\n",
        "b.\n",
        "original_list has 6 numbers, while copied_list remains with 5 numbers\n",
        "\n",
        "\n",
        "c.\n",
        "Only copied_list has 6 numbers, while original_list remains with 5 numbers\n",
        "\n",
        "d.\n",
        "Both original_list and copied_list remain with 5 numbers\n",
        "\n",
        "Your answer is correct.\n",
        "The correct answer is:\n",
        "original_list has 6 numbers, while copied_list remains with 5 numbers\n",
        "\n",
        "\n",
        "\n",
        "**Question 4.**\n",
        "What will be the output after running this code?\n",
        "\n",
        "numbers = [1, 2, 3, 4, 1, 2, 1, 1]\n",
        "target_number = 3\n",
        "count = numbers.count(target_number)\n",
        "print(count)\n",
        "\n",
        "The correct answer is: 1\n",
        "(I put misleadingly 3, knew it was 1)\n",
        "\n",
        "\n",
        "\n",
        "**Question 5.**\n",
        "The result of running the below code will be: SyntaxError: invalid syntax.\n",
        "\n",
        "except = [1,2,3]\n",
        "\n",
        "print(except)\n",
        "\n",
        "Select one:\n",
        "True\n",
        "False\n",
        "\n",
        "The correct answer is 'True'."
      ],
      "metadata": {
        "id": "3cs9Z-cMITXC"
      }
    },
    {
      "cell_type": "markdown",
      "source": [
        "\n",
        "\n",
        "\n",
        "\n",
        "**EXTRA HOMEWORK:**\n",
        "Even though we do not have a Python lecture this week, I want to share with you some youtube playlists you can check out during the week.\n",
        "1. Gentle introduction to Machine Learning: https://www.youtube.com/watch?v=Gv9_4yMHFhI&list=PLblh5JKOoLUICTaGLRoHQDuF_7q2GfuJF&index=1 (This gives an introduction about machine learning and algorithms. First video may be relevant to you. )\n",
        "2. Python Programming Tutorials (Computer Science): https://www.youtube.com/playlist?list=PLi01XoE8jYohWFPpC17Z-wWhPOSuh8Er- (Here the lecturer in an interesting way explains different concepts in Python. Some of them we have already looked at, some will be brand new for you.)\n",
        "3. Crash course in Computer Science: https://www.youtube.com/playlist?list=PL8dPuuaLjXtNlUrzyH5r6jN9ulIgZBpdo (This is an interesting playlist about computer science, how computing and computers were created)\n",
        "\n",
        "These are quite long playlists, watching videos is not mandatory. Feel free to pick and choose and maybe try to see, what you like the best in this world of programming and IT! ☀️"
      ],
      "metadata": {
        "id": "L-0u0A3Waoq_"
      }
    },
    {
      "cell_type": "markdown",
      "source": [
        "**Lesson 7.**\n",
        "\n",
        "**Topic: While-Loops in Python**\n",
        "\n",
        "\n",
        "1. What it means to import an external library?\n",
        "\n",
        "2. Importing our first \"random\" library\n",
        "3. Break, continue, pass in while loops\n",
        "4. Incrementing a variable in while loop\n",
        "5. Guess the number game with while loop\n",
        "6. Team work: Create a coin toss game.\n",
        "\n",
        "\n",
        "Steps (for simplifying the code logic):\n",
        "\n",
        "**Step 1:** Print a welcoming message to the player.\n",
        "\n",
        "**Step 2:** Initialize variables to keep track of the number of correct guesses and the total number of guesses.\n",
        "\n",
        "**Step 3:** Use a while loop to keep the game running until the player decides to quit.\n",
        "\n",
        "**Step 4:** If the player enters 'quit', exit the game loop.\n",
        "\n",
        "**Step 5:** Ask the player to guess the outcome of the coin toss (heads or tails).\n",
        "\n",
        "**Step 6:** Generate a random number (0 or 1) to represent the outcome of the coin toss. (If the number is 0, the outcome is heads. If it's 1, the outcome is tails.)\n",
        "\n",
        "**Step 7:** Compare the player's guess with the generated outcome.\n",
        "\n",
        "**Step 8:** Increment the correct and total number of guesses"
      ],
      "metadata": {
        "id": "Z0KGdnn0e4x5"
      }
    },
    {
      "cell_type": "code",
      "source": [
        "# LESSON 7 (11.5.24)"
      ],
      "metadata": {
        "id": "gSrbE16W6i-W"
      },
      "execution_count": null,
      "outputs": []
    },
    {
      "cell_type": "code",
      "source": [
        "# write a for-loop and iterate through this list and print() each name separatelly\n",
        "\n",
        "student_names = [\"Alice\", \"Bob\", \"Charlie\", \"David\", \"Eva\"]\n",
        "for name in student_names:\n",
        "  print(f'Student name: {name}')"
      ],
      "metadata": {
        "id": "n4NPoXEJ6jGp",
        "colab": {
          "base_uri": "https://localhost:8080/"
        },
        "outputId": "78a51d51-dc2d-416d-dd0f-7910073e200b"
      },
      "execution_count": null,
      "outputs": [
        {
          "output_type": "stream",
          "name": "stdout",
          "text": [
            "Student name: Alice\n",
            "Student name: Bob\n",
            "Student name: Charlie\n",
            "Student name: David\n",
            "Student name: Eva\n"
          ]
        }
      ]
    },
    {
      "cell_type": "code",
      "source": [
        "# WHILE LOOP\n",
        "\n",
        "counter = 0 #initialize the var\n",
        "while True: # will run until we break\n",
        "  counter = counter +1\n",
        "  print (counter)"
      ],
      "metadata": {
        "id": "GRvzqRyphjkX"
      },
      "execution_count": null,
      "outputs": []
    },
    {
      "cell_type": "code",
      "source": [
        "counter = 0 # initialize the variable\n",
        "while counter < 10: # we break when we reach the logical expression to be false\n",
        "    counter = counter + 1\n",
        "    print (counter)\n"
      ],
      "metadata": {
        "id": "oP1abPbt6jKL",
        "colab": {
          "base_uri": "https://localhost:8080/"
        },
        "outputId": "6c2ae8a0-819c-4370-d225-3ca9c7a7e20c"
      },
      "execution_count": null,
      "outputs": [
        {
          "output_type": "stream",
          "name": "stdout",
          "text": [
            "1\n",
            "2\n",
            "3\n",
            "4\n",
            "5\n",
            "6\n",
            "7\n",
            "8\n",
            "9\n",
            "10\n"
          ]
        }
      ]
    },
    {
      "cell_type": "code",
      "source": [
        "counter = 0 #initialize the var\n",
        "\n",
        "while True: # will run until we break\n",
        "  counter = counter +1\n",
        "  print (counter)\n",
        "  break # we break out of the while loop here\n"
      ],
      "metadata": {
        "colab": {
          "base_uri": "https://localhost:8080/"
        },
        "id": "w8Y3WGa5hXvm",
        "outputId": "53192127-a42b-4c69-9221-a6de40ac60a7"
      },
      "execution_count": null,
      "outputs": [
        {
          "output_type": "stream",
          "name": "stdout",
          "text": [
            "1\n"
          ]
        }
      ]
    },
    {
      "cell_type": "code",
      "source": [
        "counter = 0 #initialize the var\n",
        "\n",
        "while True: #we break when we reach the logical expression to be false # logical expression == True\n",
        "  counter = counter + 1\n",
        "  print(counter)\n",
        "  if counter <10:\n",
        "    continue #goes up to the loop\n",
        "  else:\n",
        "    break #we stop the loop"
      ],
      "metadata": {
        "id": "U5CGC1nS6jL3",
        "colab": {
          "base_uri": "https://localhost:8080/"
        },
        "outputId": "5034c3fe-8edf-4949-9abd-eab5ee01499f"
      },
      "execution_count": null,
      "outputs": [
        {
          "output_type": "stream",
          "name": "stdout",
          "text": [
            "1\n",
            "2\n",
            "3\n",
            "4\n",
            "5\n",
            "6\n",
            "7\n",
            "8\n",
            "9\n",
            "10\n"
          ]
        }
      ]
    },
    {
      "cell_type": "markdown",
      "source": [
        "\n",
        "\n",
        "**image 11.5 Python**\n",
        "\n"
      ],
      "metadata": {
        "id": "Az47Vtw0lH12"
      }
    },
    {
      "cell_type": "code",
      "source": [
        "# While loop exercise\n",
        "\n",
        "city = input('What cities have you been to in LV or EE? To stop write \"stop\"')\n",
        "\n",
        "if city == 'stop':\n",
        " print('You have written \"stop\"') #run the code until user has written STOP\n",
        "else:\n",
        " print(f'I see you have been to the {city}')"
      ],
      "metadata": {
        "colab": {
          "base_uri": "https://localhost:8080/"
        },
        "id": "CcUhmBgAf5Mu",
        "outputId": "b0eaa0ad-50d3-44f0-85b3-1e88e29049df"
      },
      "execution_count": null,
      "outputs": [
        {
          "output_type": "stream",
          "name": "stdout",
          "text": [
            "What cities have you been to in LV or EE? To stop write \"stop\"stop\n",
            "You have written \"stop\"\n"
          ]
        }
      ]
    },
    {
      "cell_type": "code",
      "source": [
        "while True: #city != \"stop\"\n",
        " city = input('What cities have you been to in LV or EE? To stop write \"stop\"')\n",
        "\n",
        " if city == 'stop':\n",
        "  print('You have written \"stop\"') #run the code until user has written STOP\n",
        "  break\n",
        " else:\n",
        "  print(f'I see you have been to the {city}')"
      ],
      "metadata": {
        "colab": {
          "base_uri": "https://localhost:8080/"
        },
        "id": "ZZ--j6iPouKM",
        "outputId": "d69591e6-36fb-4f60-da2e-681bebbe806c"
      },
      "execution_count": null,
      "outputs": [
        {
          "output_type": "stream",
          "name": "stdout",
          "text": [
            "What cities have you been to in LV or EE? To stop write \"stop\"Tallinn\n",
            "I see you have been to the Tallinn\n",
            "What cities have you been to in LV or EE? To stop write \"stop\"Riga\n",
            "I see you have been to the Riga\n",
            "What cities have you been to in LV or EE? To stop write \"stop\"Tartu\n",
            "I see you have been to the Tartu\n",
            "What cities have you been to in LV or EE? To stop write \"stop\"stop\n",
            "You have written \"stop\"\n"
          ]
        }
      ]
    },
    {
      "cell_type": "code",
      "source": [
        "# Initiate a list, append each city to the list, print how many cities user has been to\n",
        "cities_list = []\n",
        "counter = 0 # initiate the counter\n",
        "while True: #city != \"stop\"\n",
        "  city = input('What cities have you been to in LV or EE? T stop write \"stop\"')\n",
        "\n",
        "  if city == 'stop':\n",
        "    print('You have written \"stop\"') #run the code until user has written STOP\n",
        "    break\n",
        "  else:\n",
        "    counter = counter +1\n",
        "    print(f'{counter}. I se you have to been to the {city}') # counter can be replaced with {len(cities_list)}\n",
        "    cities_list.append(city)\n",
        "\n",
        "print(f'You have been to {len(cities_list)} cities')"
      ],
      "metadata": {
        "colab": {
          "base_uri": "https://localhost:8080/"
        },
        "id": "nps9h6wIf5KC",
        "outputId": "c56a5d5b-42a0-4f06-c56a-a4d53b284af4"
      },
      "execution_count": null,
      "outputs": [
        {
          "output_type": "stream",
          "name": "stdout",
          "text": [
            "What cities have you been to in LV or EE? T stop write \"stop\"Tallinn\n",
            "1. I se you have to been to the Tallinn\n",
            "What cities have you been to in LV or EE? T stop write \"stop\"Tartu\n",
            "2. I se you have to been to the Tartu\n",
            "What cities have you been to in LV or EE? T stop write \"stop\"Riia\n",
            "3. I se you have to been to the Riia\n",
            "What cities have you been to in LV or EE? T stop write \"stop\"Haapsalu\n",
            "4. I se you have to been to the Haapsalu\n",
            "What cities have you been to in LV or EE? T stop write \"stop\"stop\n",
            "You have written \"stop\"\n",
            "You have been to 4 cities\n"
          ]
        }
      ]
    },
    {
      "cell_type": "markdown",
      "source": [
        "# Importing a library\n",
        "\n",
        "documentation:\n",
        "\n",
        "https://docs.python.org/3/library/random.html\n"
      ],
      "metadata": {
        "id": "22rv1Ig2uiSC"
      }
    },
    {
      "cell_type": "code",
      "source": [
        "import random\n"
      ],
      "metadata": {
        "id": "NLnKYSaQs-fU"
      },
      "execution_count": null,
      "outputs": []
    },
    {
      "cell_type": "code",
      "source": [
        "random.randint(1, 101)\n",
        "\n"
      ],
      "metadata": {
        "colab": {
          "base_uri": "https://localhost:8080/"
        },
        "id": "99kBGrMJu2E7",
        "outputId": "8ad685dd-83d3-4097-d2c3-3d3551337f33"
      },
      "execution_count": null,
      "outputs": [
        {
          "output_type": "execute_result",
          "data": {
            "text/plain": [
              "14"
            ]
          },
          "metadata": {},
          "execution_count": 20
        }
      ]
    },
    {
      "cell_type": "code",
      "source": [
        "random_number = random.randint(1, 101)\n",
        "print(random_number)\n"
      ],
      "metadata": {
        "colab": {
          "base_uri": "https://localhost:8080/"
        },
        "id": "O0B8_cBpvb7H",
        "outputId": "84a5d1f1-4f9b-4b38-d38c-bc4834508973"
      },
      "execution_count": null,
      "outputs": [
        {
          "output_type": "stream",
          "name": "stdout",
          "text": [
            "8\n"
          ]
        }
      ]
    },
    {
      "cell_type": "code",
      "source": [
        "# old excample by Maris\n",
        "\n",
        "import random\n",
        "\n",
        "numbers = []\n",
        "n = 10\n",
        "\n",
        "for i in range(n):\n",
        "    numbers.append(random.randint(1, 100))\n",
        "\n",
        "random_number = random.choice(numbers)\n",
        "print(numbers)\n",
        "\n",
        "for number in numbers:\n",
        "    if number > random_number:\n",
        "        print(f'{number} is larger than {random_number}')\n",
        "    elif number == random_number:\n",
        "        print(f'{number} is equal to {random_number}')\n",
        "    else:\n",
        "        print(f'{number} is smaller than {random_number}')\n"
      ],
      "metadata": {
        "colab": {
          "base_uri": "https://localhost:8080/"
        },
        "id": "kUEkPCpSvb9w",
        "outputId": "6419eef4-7eab-4ae9-a096-8a9264578ee8"
      },
      "execution_count": null,
      "outputs": [
        {
          "output_type": "stream",
          "name": "stdout",
          "text": [
            "[64, 65, 82, 63, 48, 36, 76, 57, 47, 97]\n",
            "64 is smaller than 76\n",
            "65 is smaller than 76\n",
            "82 is larger than 76\n",
            "63 is smaller than 76\n",
            "48 is smaller than 76\n",
            "36 is smaller than 76\n",
            "76 is equal to 76\n",
            "57 is smaller than 76\n",
            "47 is smaller than 76\n",
            "97 is larger than 76\n"
          ]
        }
      ]
    },
    {
      "cell_type": "code",
      "source": [
        "while True:\n",
        "  guess = input('Guess the number between 1 and 100, to quite write \"stop\"!')\n",
        "\n",
        "  if guess == 'stop':\n",
        "    print('The game has been stopped')\n",
        "    break\n",
        "  guess = int(guess)\n",
        "\n",
        "  if guess == random_number:\n",
        "    print('Congratulations! You have guessed the correct number')\n",
        "    break\n",
        "  else:\n",
        "    print('Wrong, please try again')"
      ],
      "metadata": {
        "colab": {
          "base_uri": "https://localhost:8080/"
        },
        "id": "m0Dg6vzCvcAo",
        "outputId": "aeb1b357-02ea-4e3e-ad46-7587d6823814"
      },
      "execution_count": null,
      "outputs": [
        {
          "output_type": "stream",
          "name": "stdout",
          "text": [
            "Guess the number between 1 and 10, to quite write \"stop\"!1\n",
            "Wrong, please try again\n",
            "Guess the number between 1 and 10, to quite write \"stop\"!2\n",
            "Wrong, please try again\n",
            "Guess the number between 1 and 10, to quite write \"stop\"!3\n",
            "Wrong, please try again\n",
            "Guess the number between 1 and 10, to quite write \"stop\"!4\n",
            "Wrong, please try again\n",
            "Guess the number between 1 and 10, to quite write \"stop\"!5\n",
            "Wrong, please try again\n",
            "Guess the number between 1 and 10, to quite write \"stop\"!6\n",
            "Wrong, please try again\n",
            "Guess the number between 1 and 10, to quite write \"stop\"!7\n",
            "Wrong, please try again\n",
            "Guess the number between 1 and 10, to quite write \"stop\"!8\n",
            "Wrong, please try again\n",
            "Guess the number between 1 and 10, to quite write \"stop\"!9\n",
            "Wrong, please try again\n",
            "Guess the number between 1 and 10, to quite write \"stop\"!10\n",
            "Wrong, please try again\n",
            "Guess the number between 1 and 10, to quite write \"stop\"!stop\n",
            "The game has been stopped\n"
          ]
        }
      ]
    },
    {
      "cell_type": "code",
      "source": [
        "while True:\n",
        "  guess = input('Guess the number between 1 and 100, to quite write \"stop\"!')\n",
        "\n",
        "  if guess == 'stop':\n",
        "    print('The game has been stopped')\n",
        "    break\n",
        "  guess = int(guess)\n",
        "\n",
        "  if guess == random_number:\n",
        "    print('Congratulations! You have guessed the correct number')\n",
        "    break\n",
        "  else:\n",
        "    # we are makeing the game easier\n",
        "    if guess > random_number:\n",
        "      print(\"Try lower!\")\n",
        "    else:\n",
        "      print(\"Try higher!\")\n",
        "\n",
        "print(f\"Random number was : {random_number}\")"
      ],
      "metadata": {
        "colab": {
          "base_uri": "https://localhost:8080/"
        },
        "id": "qEE6D493vcDY",
        "outputId": "d8bac551-583c-491a-9767-e0b6fa745a62"
      },
      "execution_count": null,
      "outputs": [
        {
          "output_type": "stream",
          "name": "stdout",
          "text": [
            "Guess the number between 1 and 100, to quite write \"stop\"!7\n",
            "Try higher!\n",
            "Guess the number between 1 and 100, to quite write \"stop\"!0\n",
            "Try higher!\n",
            "Guess the number between 1 and 100, to quite write \"stop\"!9\n",
            "Try lower!\n",
            "Guess the number between 1 and 100, to quite write \"stop\"!8\n",
            "Congratulations! You have guessed the correct number\n",
            "Random number was : 8\n"
          ]
        }
      ]
    },
    {
      "cell_type": "code",
      "source": [
        "# Add a list where all the guesses will be saved and in the end of loop print how many guesses were there\n",
        "\n",
        "list = []\n",
        "counter = 0\n",
        "print(random_number) # for cheating\n",
        "\n",
        "while True:\n",
        "  guess = input('Guess the number between 1 and 100, to quit write \"stop\"!\\n')\n",
        "\n",
        "  if guess == 'stop':\n",
        "    print ('The game has been stopped')\n",
        "    break\n",
        "  guess = int(guess)\n",
        "  if guess == random_number:\n",
        "    print('Congrats! You guessed the number!')\n",
        "    break\n",
        "  else:\n",
        "    if guess > random_number:\n",
        "      print('Wrong, try a lower number')\n",
        "    else:\n",
        "      print('Wrong, try a higher number')\n",
        "  counter = counter +1\n",
        "  list.append(guess)\n",
        "\n",
        "print(f'You suggested these numbers: {list}')\n",
        "print(f\"You guessed {counter} times\")\n",
        "\n"
      ],
      "metadata": {
        "colab": {
          "base_uri": "https://localhost:8080/"
        },
        "id": "AcKyF1pNvcGM",
        "outputId": "093dd5c5-d0c4-4043-e811-5bb539a23fac"
      },
      "execution_count": null,
      "outputs": [
        {
          "output_type": "stream",
          "name": "stdout",
          "text": [
            "87\n",
            "Guess the number between 1 and 100, to quit write \"stop\"!\n",
            "77\n",
            "Wrong, try a higher number\n",
            "Guess the number between 1 and 100, to quit write \"stop\"!\n",
            "66\n",
            "Wrong, try a higher number\n",
            "Guess the number between 1 and 100, to quit write \"stop\"!\n",
            "99\n",
            "Wrong, try a lower number\n",
            "Guess the number between 1 and 100, to quit write \"stop\"!\n",
            "8\n",
            "Wrong, try a higher number\n",
            "Guess the number between 1 and 100, to quit write \"stop\"!\n",
            "87\n",
            "Congrats! You guessed the number!\n",
            "You suggested these numbers: [77, 66, 99, 8]\n",
            "You guessed 4 times\n"
          ]
        }
      ]
    },
    {
      "cell_type": "code",
      "source": [
        "import random\n",
        "random.randint(1, 101)\n",
        "\n",
        "list = []\n",
        "print(random_number)\n",
        "\n",
        "while True:\n",
        "  guess = input('Guess the number between 1 and 100, to quit write \"stop\"!')\n",
        "\n",
        "  if guess == 'stop':\n",
        "    print ('The game has been stopped.')\n",
        "    break\n",
        "\n",
        "  try:\n",
        "    guess = int(guess)\n",
        "  except:\n",
        "    print(\"Please enter a valid integer!\")\n",
        "    continue\n",
        "  if guess == random_number:\n",
        "    print('Congrats! You guessed the number!')\n",
        "    break\n",
        "  else:\n",
        "    if guess > random_number:\n",
        "      print('Wrong, try a lower number.')\n",
        "    else:\n",
        "      print('Wrong, try a higher number.')\n",
        "  list.append(guess)\n",
        "print(f'You tried these numbers: {list}')"
      ],
      "metadata": {
        "colab": {
          "base_uri": "https://localhost:8080/"
        },
        "id": "T_A3B7592P5A",
        "outputId": "2956efa2-6d07-46e5-8d9c-494745d975a8"
      },
      "execution_count": null,
      "outputs": [
        {
          "output_type": "stream",
          "name": "stdout",
          "text": [
            "87\n",
            "Guess the number between 1 and 100, to quit write \"stop\"!77\n",
            "Wrong, try a higher number.\n",
            "Guess the number between 1 and 100, to quit write \"stop\"!9\n",
            "Wrong, try a higher number.\n",
            "Guess the number between 1 and 100, to quit write \"stop\"!87\n",
            "Congrats! You guessed the number: {random_number}!\n",
            "You tried these numbers: [77, 9]\n"
          ]
        }
      ]
    },
    {
      "cell_type": "code",
      "source": [
        "random_number = random.randint(1, 100)\n",
        "print(random_number)\n",
        "\n",
        "guesses = [] #initialize the list for integers\n",
        "\n",
        "while True:\n",
        "  guess = input('Guess the number between 1 and 100, sto quite write \"stop\"!')\n",
        "\n",
        "  if guess == 'stop':\n",
        "    print('The game has been stopped.')\n",
        "    break\n",
        "  try:\n",
        "    guess = int(guess)\n",
        "  except:\n",
        "    print('You need to input an integer!')\n",
        "    continue\n",
        "  guesses.append(guess) #append it to the list\n",
        "\n",
        "  if guess == random_number:\n",
        "    print('Congratulations. You have guessed the correct number.')\n",
        "    break\n",
        "  else:\n",
        "    # WE ARE MAKING THE GAME EASIER\n",
        "    if guess > random_number:\n",
        "      print('Try lower!')\n",
        "    else:\n",
        "      print('Try higher!')\n",
        "\n",
        "print(f'You managed to guess the number in {len(guesses)} guesses')"
      ],
      "metadata": {
        "colab": {
          "base_uri": "https://localhost:8080/"
        },
        "id": "6JwAg5DT2P70",
        "outputId": "a2417ac7-f5e9-487b-abeb-3bafbaa3cce4"
      },
      "execution_count": null,
      "outputs": [
        {
          "output_type": "stream",
          "name": "stdout",
          "text": [
            "71\n",
            "Guess the number between 1 and 100, sto quite write \"stop\"!77\n",
            "Try lower!\n",
            "Guess the number between 1 and 100, sto quite write \"stop\"!99\n",
            "Try lower!\n",
            "Guess the number between 1 and 100, sto quite write \"stop\"!33\n",
            "Try higher!\n",
            "Guess the number between 1 and 100, sto quite write \"stop\"!71\n",
            "Congratulations. You have guessed the correct number.\n",
            "You managed to guess the number in 4 guesses\n"
          ]
        }
      ]
    },
    {
      "cell_type": "code",
      "source": [
        "# Team work:\n",
        "# Create a coin toss game:\n",
        "\n",
        "# Step 1: Print a welcoming message to the player.\n",
        "# Step 2: Initialize variables to keep track of the number of correct guesses and the total number of guesses.\n",
        "# Step 3: Use a while loop to keep the game running until the player decides to quit.\n",
        "# Step 4: If the player enters 'quit', exit the game loop.\n",
        "# Step 5: Ask the player to guess the outcome of the coin toss (heads or tails).\n",
        "# Step 6: Generate a random number (0 or 1) to represent the outcome of the coin toss. (If the number is 0, the outcome is heads. If it's 1, the outcome is tails.)\n",
        "# Step 7: Compare the player's guess with the generated outcome.\n",
        "# Step 8: Increment the correct and total number of guesses\n",
        "\n",
        "import random\n",
        "\n",
        "print(\"Welcome to the Coin Toss Game!\")  # step 1.\n",
        "\n",
        "correct_guesses = 0  # step 2.\n",
        "total_guesses = 0    # step 2.\n",
        "\n",
        "while True:  # step 3.\n",
        "    guess = input(\"Guess the outcome ('heads' or 'tails'), or type 'quit' to exit: \")  # step 5.\n",
        "\n",
        "    if guess == 'quit':  # step 4.\n",
        "        print(f\"You guessed correctly {correct_guesses} out of {total_guesses} times\")  # step 8.\n",
        "        break\n",
        "\n",
        "    if guess != 'heads' and guess != 'tails':\n",
        "        print(\"Invalid input. Please enter 'heads' or 'tails'\")\n",
        "        continue\n",
        "\n",
        "    total_guesses += 1  # step 8.\n",
        "\n",
        "    outcome = random.randint(0, 1)  # step 6.\n",
        "\n",
        "    if outcome == 0:\n",
        "        outcome_str = 'heads'\n",
        "    else:\n",
        "        outcome_str = 'tails'\n",
        "\n",
        "    print(f\"The coin toss outcome is: {outcome_str}\")\n",
        "\n",
        "    # step 7.\n",
        "    if guess == outcome_str:\n",
        "        print(\"Congratulations! Your guess was correct!\")\n",
        "        correct_guesses += 1  # step 8.\n",
        "    else:\n",
        "        print(\"Sorry, your guess was incorrect\")\n",
        "\n"
      ],
      "metadata": {
        "colab": {
          "base_uri": "https://localhost:8080/"
        },
        "id": "zFTa1C_H2P-n",
        "outputId": "56e8fe62-e574-406f-8cea-6716b03e3c50"
      },
      "execution_count": null,
      "outputs": [
        {
          "output_type": "stream",
          "name": "stdout",
          "text": [
            "Welcome to the Coin Toss Game!\n",
            "Guess the outcome ('heads' or 'tails'), or type 'quit' to exit: heads\n",
            "The coin toss outcome is: heads\n",
            "Congratulations! Your guess was correct!\n",
            "Guess the outcome ('heads' or 'tails'), or type 'quit' to exit: heads\n",
            "The coin toss outcome is: tails\n",
            "Sorry, your guess was incorrect\n",
            "Guess the outcome ('heads' or 'tails'), or type 'quit' to exit: heads\n",
            "The coin toss outcome is: tails\n",
            "Sorry, your guess was incorrect\n",
            "Guess the outcome ('heads' or 'tails'), or type 'quit' to exit: heads\n",
            "The coin toss outcome is: heads\n",
            "Congratulations! Your guess was correct!\n",
            "Guess the outcome ('heads' or 'tails'), or type 'quit' to exit: quit\n",
            "You guessed correctly 2 out of 4 times\n"
          ]
        }
      ]
    },
    {
      "cell_type": "markdown",
      "source": [
        "**Lesson 8.**\n",
        "\n",
        "Topic: **Dictionaries and defining functions**\n",
        "\n",
        "1. What are tuples?\n",
        "2. What are dictionary objects?\n",
        "3. Selecting/indexing elements in a dictionary\n",
        "4. Modifying, creating and removing elements in a dictionary\n",
        "5. Defining and calling simple functions\n",
        "6. Return statement in a function\n",
        "7. Team work: Write a code example how to iterate through a dictionary with a for-loop."
      ],
      "metadata": {
        "id": "8kHnaUyhjwY5"
      }
    },
    {
      "cell_type": "code",
      "source": [
        "# LESSON 8. (18.5.24)\n"
      ],
      "metadata": {
        "id": "-NV00LRlTZW9"
      },
      "execution_count": null,
      "outputs": []
    },
    {
      "cell_type": "code",
      "source": [
        "my_dict = {} # This is how we define a dictionary.\n",
        "my_list = [] # This is how we define a list. You can append, remove etc.\n",
        "my_tuple = () # This is how we define tuples.\n",
        "\n",
        "my_tuple = (1, 2, 3) # Each value is separated by a comma.\n",
        "print(my_tuple)"
      ],
      "metadata": {
        "colab": {
          "base_uri": "https://localhost:8080/"
        },
        "id": "Kps2lSh6Tm6i",
        "outputId": "19d2123c-e524-4f98-8626-13fc80559778"
      },
      "execution_count": null,
      "outputs": [
        {
          "output_type": "stream",
          "name": "stdout",
          "text": [
            "(1, 2, 3)\n"
          ]
        }
      ]
    },
    {
      "cell_type": "code",
      "source": [
        "new_list = [1, 2, 3, 4]\n",
        "print(new_list)"
      ],
      "metadata": {
        "colab": {
          "base_uri": "https://localhost:8080/"
        },
        "id": "sZMtcEw6Tm_j",
        "outputId": "a4eb0669-ca1b-404e-f0ee-b563b2705c6b"
      },
      "execution_count": null,
      "outputs": [
        {
          "output_type": "stream",
          "name": "stdout",
          "text": [
            "[1, 2, 3, 4]\n"
          ]
        }
      ]
    },
    {
      "cell_type": "code",
      "source": [
        "# Transforming a list into a tuple\n",
        "new_tuple = tuple(new_list)\n",
        "type(new_tuple)"
      ],
      "metadata": {
        "colab": {
          "base_uri": "https://localhost:8080/"
        },
        "id": "-GbC-IBTTnCM",
        "outputId": "b0565994-3750-41b7-dba5-79e53012a54a"
      },
      "execution_count": null,
      "outputs": [
        {
          "output_type": "execute_result",
          "data": {
            "text/plain": [
              "tuple"
            ]
          },
          "metadata": {},
          "execution_count": 4
        }
      ]
    },
    {
      "cell_type": "code",
      "source": [
        "new_tuple[0:3] # you can index into tuples"
      ],
      "metadata": {
        "id": "sk3yUOuNkmaL"
      },
      "execution_count": null,
      "outputs": []
    },
    {
      "cell_type": "code",
      "source": [
        "# Common functions for tuples\n",
        "len(new_tuple) # lenght\n",
        "print(len(new_tuple))\n",
        "min(new_tuple) # min\n",
        "print(min(new_tuple))\n",
        "max(new_tuple) # max\n",
        "print(max(new_tuple))\n",
        "sum(new_tuple) # sum\n",
        "print(sum(new_tuple))"
      ],
      "metadata": {
        "colab": {
          "base_uri": "https://localhost:8080/"
        },
        "id": "APKC_sk8jplR",
        "outputId": "d5afb1a5-0224-4706-e18f-df11294f3d78"
      },
      "execution_count": null,
      "outputs": [
        {
          "output_type": "stream",
          "name": "stdout",
          "text": [
            "4\n",
            "1\n",
            "4\n",
            "10\n"
          ]
        }
      ]
    },
    {
      "cell_type": "code",
      "source": [
        "# tuple == immutable"
      ],
      "metadata": {
        "id": "Pj0J4uWLjpnj"
      },
      "execution_count": null,
      "outputs": []
    },
    {
      "cell_type": "markdown",
      "source": [
        "# Dictionary"
      ],
      "metadata": {
        "id": "S6QuuZqilfVn"
      }
    },
    {
      "cell_type": "code",
      "source": [
        "# Dictionary\n",
        "# Create a dictionary\n",
        "dictionary = {} #curly braces method\n",
        "another_dictionary = dict() #dict method\n",
        "\n",
        "dictionary == another_dictionary\n",
        "dictionary = {} #curly braces method\n",
        "\n",
        "dictionary['key1'] = 'value1' #add an element to the dictionary\n",
        "dictionary['key2'] = 'value2'\n",
        "dictionary['key2'] #use the key to get to the element\n",
        "# storing a list in a dictionary\n",
        "dictionary['datorium_list'] = ['Python', 'Java', 'C#']\n",
        "dictionary\n",
        "dictionary['datorium_list'] = [1,2,3]\n",
        "#we can not have two different values with the same key"
      ],
      "metadata": {
        "id": "cplvILqHjpqY"
      },
      "execution_count": null,
      "outputs": []
    },
    {
      "cell_type": "code",
      "source": [
        "#Python dictionary methods\n",
        "my_friends = {'Alise': 30,\n",
        "              'Johan': 40,\n",
        "              'Linda': 28}\n",
        "my_friends['Linda']\n",
        "# update() - adds new dict to existing one\n",
        "\n",
        "incoming_friends = {'Arta': 28}\n",
        "my_friends.update(incoming_friends)\n",
        "\n",
        "integer_key = {123: 'name'}\n",
        "integer_key\n",
        "# pop() - removing an element\n",
        "my_friends.pop('Alise')\n",
        "my_friends['Linda']\n",
        "# get() - to specify a fallback value when item is not in a dictionary\n",
        "\n",
        "# my_friends['Alise'] -KeyError: 'Alise'\n",
        "\n",
        "my_friends.get('Alise', 'This person does not exist in the dictionary!')\n",
        "# items(), keys(), values()\n",
        "\n",
        "#items() - return all the obj from the dict\n",
        "my_friends.items()\n",
        "\n",
        "#keys() - returns only keys\n",
        "my_friends.keys()\n",
        "\n",
        "#values() - returns only values\n",
        "my_friends.values()"
      ],
      "metadata": {
        "id": "y6Ou2Ca5jps8",
        "colab": {
          "base_uri": "https://localhost:8080/"
        },
        "outputId": "0353d782-c51c-433b-c7bd-c0a1802b26eb"
      },
      "execution_count": null,
      "outputs": [
        {
          "output_type": "execute_result",
          "data": {
            "text/plain": [
              "dict_values([40, 28, 28])"
            ]
          },
          "metadata": {},
          "execution_count": 3
        }
      ]
    },
    {
      "cell_type": "code",
      "source": [
        "my_friends.get('Alise') # no callback value - get nothing\n",
        "my_friends.get('Alise', 'This person does not exist in the dictionary!') # with callback will get the callback/default val"
      ],
      "metadata": {
        "id": "1yxF9yPfjpvp",
        "colab": {
          "base_uri": "https://localhost:8080/",
          "height": 35
        },
        "outputId": "3c3784a7-77be-4e89-8340-bf5ad8be7d44"
      },
      "execution_count": null,
      "outputs": [
        {
          "output_type": "execute_result",
          "data": {
            "text/plain": [
              "'This person does not exist in the dictionary!'"
            ],
            "application/vnd.google.colaboratory.intrinsic+json": {
              "type": "string"
            }
          },
          "metadata": {},
          "execution_count": 4
        }
      ]
    },
    {
      "cell_type": "code",
      "source": [],
      "metadata": {
        "id": "-nAIMzpIjpyd"
      },
      "execution_count": null,
      "outputs": []
    },
    {
      "cell_type": "code",
      "source": [
        "# Team work: Write a code example how to iterate through a dictionary with a for-loop\n",
        "\n",
        "print(\"It's your To-Do List\")\n",
        "\n",
        "# dictionary\n",
        "todo_list = {'Must do today': [], 'Do this week': []}\n",
        "\n",
        "def add_task(todo_list):\n",
        "    task_name = input(\"Enter the task description: \")\n",
        "    priority = input(\"Enter the task priority ('1' for 'Must do today' or '2' for 'Do this week'): \")\n",
        "\n",
        "    # priority maping\n",
        "    if priority == '1':\n",
        "        todo_list['Must do today'].append(task_name)\n",
        "        print(f\"Task added under 'Must do today'\")\n",
        "    elif priority == '2':\n",
        "        todo_list['Do this week'].append(task_name)\n",
        "        print(f\"Task added under 'Do this week'\")\n",
        "    else:\n",
        "        print(\"Invalid input. Please enter '1' for 'Must do today' or '2' for 'Do this week'\")\n",
        "\n",
        "# loop to add tasks until the user stops\n",
        "while True:\n",
        "    user_input = input('Type \"add\" to add a task, or \"done\" to finish: ')\n",
        "    if user_input == 'done':\n",
        "        print(\"Your to-do list:\")\n",
        "        for priority, tasks in todo_list.items():\n",
        "            print(f\"{priority}:\")\n",
        "            for task in tasks:\n",
        "                print(f\"* {task}\")\n",
        "        break\n",
        "    elif user_input == 'add':\n",
        "        add_task(todo_list)\n",
        "    else:\n",
        "        print(\"Invalid input. Please type 'add' or 'done'\")\n",
        "\n"
      ],
      "metadata": {
        "colab": {
          "base_uri": "https://localhost:8080/"
        },
        "id": "MV6VQrFoGk5H",
        "outputId": "11e9013d-2ef5-411f-ead2-51f6f7a7e4fb"
      },
      "execution_count": null,
      "outputs": [
        {
          "output_type": "stream",
          "name": "stdout",
          "text": [
            "It's your To-Do List\n",
            "Type \"add\" to add a task, or \"done\" to finish: add\n",
            "Enter the task description: Java test\n",
            "Enter the task priority ('1' for 'Must do today' or '2' for 'Do this week'): 1\n",
            "Task added under 'Must do today'\n",
            "Type \"add\" to add a task, or \"done\" to finish: add\n",
            "Enter the task description: Python test\n",
            "Enter the task priority ('1' for 'Must do today' or '2' for 'Do this week'): 1\n",
            "Task added under 'Must do today'\n",
            "Type \"add\" to add a task, or \"done\" to finish: add\n",
            "Enter the task description: Python individual work\n",
            "Enter the task priority ('1' for 'Must do today' or '2' for 'Do this week'): 2\n",
            "Task added under 'Do this week'\n",
            "Type \"add\" to add a task, or \"done\" to finish: done\n",
            "Your to-do list:\n",
            "Must do today:\n",
            "* Java test\n",
            "* Python test\n",
            "Do this week:\n",
            "* Python individual work\n"
          ]
        }
      ]
    },
    {
      "cell_type": "code",
      "source": [
        "# Nora´s code:\n",
        "\n",
        "from datetime import date, timedelta\n",
        "\n",
        "print('Welcome to your smart fridge system!')\n",
        "\n",
        "inventory = {}\n",
        "\n",
        "def add_item(inventory):\n",
        "    add_food = input(\"Enter the name of the food item: \")\n",
        "    days_to_expiration = int(input(\"Enter the number of days until the item expires: \"))\n",
        "    expiration_date = date.today() + timedelta(days=days_to_expiration)\n",
        "    inventory[add_food] = expiration_date\n",
        "    print(f\"New food item {add_food} added to the inventory with expiration date {expiration_date}!\")\n",
        "\n",
        "while True:\n",
        "    exit = input('If you want to exit write \"stop\", else press Enter:')\n",
        "    if exit.lower() == 'stop':\n",
        "        print(\"You've stopped entries for today. See you next time!\")\n",
        "        break\n",
        "    add_item(inventory)\n",
        "\n",
        "current_date = date.today()\n",
        "for add_food, expiration_date in inventory.items():\n",
        "    if expiration_date == current_date + timedelta(days=1):\n",
        "        print(f'Warning: {add_food} will go off in 1 day on {expiration_date}')\n",
        "    else:\n",
        "        print(f'{add_food} will go off on {expiration_date}')"
      ],
      "metadata": {
        "colab": {
          "base_uri": "https://localhost:8080/"
        },
        "id": "Vx-hGzDnEBca",
        "outputId": "71eaca88-d9c2-4479-b516-585effdb411c"
      },
      "execution_count": null,
      "outputs": [
        {
          "output_type": "stream",
          "name": "stdout",
          "text": [
            "Welcome to your smart fridge system!\n",
            "If you want to exit write \"stop\", else press Enter:\n",
            "Enter the name of the food item: egg\n",
            "Enter the number of days until the item expires: 9\n",
            "New food item egg added to the inventory with expiration date 2024-05-30!\n",
            "If you want to exit write \"stop\", else press Enter:stop\n",
            "You've stopped entries for today. See you next time!\n",
            "egg will go off on 2024-05-30\n"
          ]
        }
      ]
    },
    {
      "cell_type": "code",
      "source": [],
      "metadata": {
        "id": "CxTU1gy7EBet"
      },
      "execution_count": null,
      "outputs": []
    },
    {
      "cell_type": "markdown",
      "source": [
        "TEST\n",
        "\n",
        "\n",
        "Started on\tWednesday, 22 May 2024, 11:17 AM\n",
        "State\tFinished\n",
        "\n",
        "Time taken\t10 mins 9 secs\n",
        "Grade\t4.00 out of 5.00 (80%)\n",
        "\n",
        "\n",
        "**Question 1.**\n",
        "\n",
        "Find a mistake in the code and move the marker/pointer on the mistake.\n",
        "Background image for dragging markers ontomistake\n",
        "\n",
        "\n",
        "picture\n",
        "\n",
        "\n",
        "\n",
        "\n",
        "Your answer is incorrect.\n",
        "f-string is missing\n",
        "\n",
        "**Question 2.**\n",
        "\n",
        "Match correct explanations with definitions\n",
        "\n",
        "**Answer 1.\n",
        "Iterates over a sequence (such as a list, tuple, or string).\n",
        "\n",
        "**Answer 2.\n",
        "A loop that never terminates on its own because the condition is always True.\n",
        "\n",
        "**Answer 3.\n",
        "Repeats a block of code as long as a condition is True.\n",
        "\n",
        "**Answer 4.\n",
        "A loop inside another loop.\n",
        "\n",
        "The correct answer is:\n",
        "\n",
        "Iterates over a sequence (such as a list, tuple, or string). → for loop,\n",
        "\n",
        "A loop that never terminates on its own because the condition is always True. → Infinite loop,\n",
        "\n",
        "Repeats a block of code as long as a condition is True. → while loop,\n",
        "\n",
        "A loop inside another loop. → Nested loops\n",
        "\n",
        "**Question 3.**\n",
        "\n",
        "How many iterations this while loop will do?\n",
        "while True:\n",
        "    print(\"Study\")\n",
        "\n",
        "\n",
        "a.\n",
        "1\n",
        "\n",
        "b.\n",
        "0\n",
        "\n",
        "c.\n",
        "10\n",
        "\n",
        "d.\n",
        "Infinity\n",
        "\n",
        "The correct answer is:\n",
        "Infinity\n",
        "\n",
        "\n",
        "**Question 4.**\n",
        "\n",
        "Write a word that should be in place of '???'?\n",
        "\n",
        "sentence = input(\"Enter a sentence: \")\n",
        "word = input(\"Enter a word to search for: \")\n",
        "\n",
        "Check if the word is present in the sentence\n",
        "\n",
        "if ??? in sentence:\n",
        "    print(\"The word is present in the sentence.\")\n",
        "else:\n",
        "    print(\"The word is not present in the sentence.\")\n",
        "\n",
        "The correct answer is: word\n",
        "\n",
        "\n",
        "**Question 5.**\n",
        "\n",
        "Is the statement true or false about the code below : The initial value of cumulative_sum is 1.numbers = [1, 2, 3, 4, 5]\n",
        "cumulative_sum = 0\n",
        "\n",
        "\n",
        "\n",
        "picture\n",
        "\n",
        "\n",
        "\n",
        "Select one:\n",
        "True\n",
        "False\n",
        "\n",
        "\n",
        "The correct answer is 'False'."
      ],
      "metadata": {
        "id": "Rk_hWaxEa8UW"
      }
    },
    {
      "cell_type": "code",
      "source": [],
      "metadata": {
        "id": "FJyTiGHREBhc"
      },
      "execution_count": null,
      "outputs": []
    },
    {
      "cell_type": "markdown",
      "source": [
        "**INDIVIDUAL TASK**\n",
        "\n",
        "\n",
        "**Easy level:**\n",
        "\n",
        "Create a program where the user can input deposits into a bank account. The program should use `if-else` statements, `input()`, `int()` and while True loop to keep track of deposits.\n",
        "\n",
        "**Instructions:**\n",
        "1. Welcome the user to the bank\n",
        "2. Initiate balance = 0\n",
        "3. Ask the user to input the amount of money they want to deposit.\n",
        "4. Add the deposit amount to the total balance\n",
        "5. Ask the user if they want to make another deposit or exit the bank.\n",
        "6. If they choose to make another deposit, repeat the process (while True).\n",
        "7. If not, print the total amount deposited and exit the bank.\n",
        "\n",
        "**Medium level:**\n",
        "\n",
        "**Instructions:**\n",
        "1. Use `try` and `except` to handle non-integer inputs for deposits.\n",
        "\n",
        "\n",
        "**Hard level:**\n",
        "**Instructions:**\n",
        "1. Add bank withdrawal (if user wants to withdraw money the balance decreases)\n",
        "2. If the balance becomes negative, withdrawal is not possible.\n",
        "3. Add check balance optionality\n",
        "Example for hard level:\n",
        "   print(\"\\nWhat would you like to do?\")\n",
        "   print(\"1. Deposit money\")\n",
        "   print(\"2. Withdraw money\")\n",
        "   print(\"3. Check balance\")\n",
        "   print(\"4. Exit\")\n",
        "\n",
        "When you submit your program, submit a little description of your experience with developing this task. Which difficulty you chose and whether or not it was too easy/hard."
      ],
      "metadata": {
        "id": "WrKkUbfKw-2A"
      }
    },
    {
      "cell_type": "code",
      "source": [
        "# Easy level:\n",
        "\n",
        "print(\"Welcome to the Bank!\")\n",
        "balance = 0\n",
        "\n",
        "while True:\n",
        "    deposit = input(\"Please enter the amount of money(€) you want to deposit: \")\n",
        "\n",
        "    # add to the balance\n",
        "    balance += int(deposit)\n",
        "\n",
        "    put_deposit = input(\"Do you want to make another deposit? Type 'yes' to continue or 'no' to exit: \")\n",
        "\n",
        "    if put_deposit.lower() != 'yes':\n",
        "        print(f\"Thank you! Your total balance is: {balance}€\")\n",
        "        break\n",
        "\n"
      ],
      "metadata": {
        "id": "zsrPGLSdEBkO",
        "colab": {
          "base_uri": "https://localhost:8080/"
        },
        "outputId": "87b314c3-1b73-4fa4-8e3f-ab02d3df749c"
      },
      "execution_count": null,
      "outputs": [
        {
          "output_type": "stream",
          "name": "stdout",
          "text": [
            "Welcome to the Bank!\n",
            "Please enter the amount of money(€) you want to deposit: 50\n",
            "Do you want to make another deposit? Type 'yes' to continue or 'no' to exit: no\n",
            "Thank you! Your total balance is: 50€\n"
          ]
        }
      ]
    },
    {
      "cell_type": "code",
      "source": [
        "# Medium level:\n",
        "\n",
        "print(\"Welcome to the Bank!\")\n",
        "balance = 0\n",
        "\n",
        "while True:\n",
        "    try:\n",
        "        deposit = input(\"Please enter the amount of money(€) you want to deposit: \")\n",
        "        balance += int(deposit)\n",
        "    except:\n",
        "        print(\"Please enter a valid number/integer\")\n",
        "\n",
        "    put_deposit = input(\"Do you want to make another deposit? Type 'yes' to continue or 'no' to exit: \")\n",
        "\n",
        "    if put_deposit.lower() != 'yes':\n",
        "        print(f\"Thank you! Your total balance is: {balance}€\")\n",
        "        break\n",
        "\n",
        "\n",
        "\n"
      ],
      "metadata": {
        "id": "cK5caYAUyRX6",
        "colab": {
          "base_uri": "https://localhost:8080/"
        },
        "outputId": "cf9f7d50-33af-483b-d98f-38638d04a121"
      },
      "execution_count": null,
      "outputs": [
        {
          "output_type": "stream",
          "name": "stdout",
          "text": [
            "Welcome to the Bank!\n",
            "Please enter the amount of money(€) you want to deposit: 400\n",
            "Do you want to make another deposit? Type 'yes' to continue or 'no' to exit: yes\n",
            "Please enter the amount of money(€) you want to deposit: 500\n",
            "Do you want to make another deposit? Type 'yes' to continue or 'no' to exit: no\n",
            "Thank you! Your total balance is: 900€\n"
          ]
        }
      ]
    },
    {
      "cell_type": "code",
      "source": [
        "# Hard level (AI version):\n",
        "\n",
        "print(\"Welcome to the Bank!\")\n",
        "balance = 0\n",
        "\n",
        "def deposit_money(balance):\n",
        "    try:\n",
        "        deposit = input(\"Please enter the amount of money(€) you want to deposit: \")\n",
        "        balance += int(deposit)\n",
        "        print(f\"Deposit successful! Your new balance is: {balance}€\")\n",
        "\n",
        "    except ValueError:\n",
        "        print(\"Please enter a valid number/integer\")\n",
        "    return balance\n",
        "\n",
        "def withdraw_money(balance):\n",
        "    try:\n",
        "        withdrawal = int(input(\"Please enter the amount of money(€) you want to withdraw: \"))\n",
        "        if balance >= withdrawal:\n",
        "            balance -= withdrawal\n",
        "            print(f\"Withdrawal successful! Your new balance is: {balance}€\")\n",
        "        else:\n",
        "            print(\"Insufficient funds! Withdrawal not possible\")\n",
        "    except ValueError:\n",
        "        print(\"Please enter a valid number/integer\")\n",
        "    return balance\n",
        "\n",
        "def check_balance(balance):\n",
        "    print(f\"Your current balance is: {balance}€\")\n",
        "\n",
        "while True:\n",
        "    print(\"\\nWhat would you like to do?\")\n",
        "    print(\"1. Deposit money\")\n",
        "    print(\"2. Withdraw money\")\n",
        "    print(\"3. Check balance\")\n",
        "    print(\"4. Exit\")\n",
        "\n",
        "    choice = input(\"Please enter the number of your choice: \")\n",
        "\n",
        "    if choice == '1':\n",
        "        balance = deposit_money(balance)\n",
        "    elif choice == '2':\n",
        "        balance = withdraw_money(balance)\n",
        "    elif choice == '3':\n",
        "        check_balance(balance)\n",
        "    elif choice == '4':\n",
        "        print(f\"Thank you! Your final balance is: {balance}€\")\n",
        "        break\n",
        "    else:\n",
        "        print(\"Invalid choice. Please enter a number between 1 and 4\")\n",
        "\n"
      ],
      "metadata": {
        "id": "hBXF-ZYIyRaU",
        "colab": {
          "base_uri": "https://localhost:8080/"
        },
        "outputId": "c9fa497f-3b8d-492d-f4c4-72e08df6fa10"
      },
      "execution_count": null,
      "outputs": [
        {
          "output_type": "stream",
          "name": "stdout",
          "text": [
            "Welcome to the Bank!\n",
            "\n",
            "What would you like to do?\n",
            "1. Deposit money\n",
            "2. Withdraw money\n",
            "3. Check balance\n",
            "4. Exit\n",
            "Please enter the number of your choice: 3\n",
            "Your current balance is: 0€\n",
            "\n",
            "What would you like to do?\n",
            "1. Deposit money\n",
            "2. Withdraw money\n",
            "3. Check balance\n",
            "4. Exit\n",
            "Please enter the number of your choice: 1\n",
            "Please enter the amount of money(€) you want to deposit: 500\n",
            "Deposit successful! Your new balance is: 500€\n",
            "\n",
            "What would you like to do?\n",
            "1. Deposit money\n",
            "2. Withdraw money\n",
            "3. Check balance\n",
            "4. Exit\n",
            "Please enter the number of your choice: 2\n",
            "Please enter the amount of money(€) you want to withdraw: 300\n",
            "Withdrawal successful! Your new balance is: 200€\n",
            "\n",
            "What would you like to do?\n",
            "1. Deposit money\n",
            "2. Withdraw money\n",
            "3. Check balance\n",
            "4. Exit\n",
            "Please enter the number of your choice: 3\n",
            "Your current balance is: 200€\n",
            "\n",
            "What would you like to do?\n",
            "1. Deposit money\n",
            "2. Withdraw money\n",
            "3. Check balance\n",
            "4. Exit\n",
            "Please enter the number of your choice: 4\n",
            "Thank you! Your final balance is: 200€\n"
          ]
        }
      ]
    },
    {
      "cell_type": "code",
      "source": [
        "# Hard level:\n",
        "\n",
        "print(\"Welcome to the Bank!\")\n",
        "balance = 0\n",
        "\n",
        "while True:\n",
        "    print(\"\\nWhat would you like to do?\")\n",
        "    print(\"1. Deposit money\")\n",
        "    print(\"2. Withdraw money\")\n",
        "    print(\"3. Check balance\")\n",
        "    print(\"4. Exit\")\n",
        "\n",
        "    choice = input(\"Please enter a number between 1 and 4: \")\n",
        "\n",
        "    if choice == '1':\n",
        "        try:\n",
        "            deposit = input(\"Please enter the amount of money(€) you want to deposit: \")\n",
        "            balance += int(deposit)\n",
        "            print(f\"Deposit successful! Your new balance is: {balance}€\")\n",
        "        except:\n",
        "            print(\"Please enter a valid number/integer\")\n",
        "\n",
        "    elif choice == '2':\n",
        "        try:\n",
        "            withdrawal = int(input(\"Please enter the amount of money(€) you want to withdraw: \"))\n",
        "            if balance >= withdrawal:\n",
        "                balance -= withdrawal\n",
        "                print(f\"Withdrawal successful! Your new balance is: {balance}€\")\n",
        "            else:\n",
        "                print(\"Insufficient funds! Withdrawal not possible\")\n",
        "        except:\n",
        "            print(\"Please enter a valid number/integer\")\n",
        "\n",
        "    elif choice == '3':\n",
        "        print(f\"Your current balance is: {balance}€\")\n",
        "\n",
        "    elif choice == '4':\n",
        "        print(f\"Thank you! Your total balance is: {balance}€\")\n",
        "        break\n",
        "\n",
        "    else:\n",
        "        print(\"Invalid entry. Please enter a number between 1 and 4\")\n"
      ],
      "metadata": {
        "id": "hCGYfTQpyRdQ",
        "colab": {
          "base_uri": "https://localhost:8080/"
        },
        "outputId": "3cf00bad-5786-4a45-fa3a-be00a93fa961"
      },
      "execution_count": null,
      "outputs": [
        {
          "output_type": "stream",
          "name": "stdout",
          "text": [
            "Welcome to the Bank!\n",
            "\n",
            "What would you like to do?\n",
            "1. Deposit money\n",
            "2. Withdraw money\n",
            "3. Check balance\n",
            "4. Exit\n",
            "Please enter a number between 1 and 4: 3\n",
            "Your current balance is: 0€\n",
            "\n",
            "What would you like to do?\n",
            "1. Deposit money\n",
            "2. Withdraw money\n",
            "3. Check balance\n",
            "4. Exit\n",
            "Please enter a number between 1 and 4: 1\n",
            "Please enter the amount of money(€) you want to deposit: 600\n",
            "Deposit successful! Your new balance is: 600€\n",
            "\n",
            "What would you like to do?\n",
            "1. Deposit money\n",
            "2. Withdraw money\n",
            "3. Check balance\n",
            "4. Exit\n",
            "Please enter a number between 1 and 4: 2\n",
            "Please enter the amount of money(€) you want to withdraw: 240\n",
            "Withdrawal successful! Your new balance is: 360€\n",
            "\n",
            "What would you like to do?\n",
            "1. Deposit money\n",
            "2. Withdraw money\n",
            "3. Check balance\n",
            "4. Exit\n",
            "Please enter a number between 1 and 4: 3\n",
            "Your current balance is: 360€\n",
            "\n",
            "What would you like to do?\n",
            "1. Deposit money\n",
            "2. Withdraw money\n",
            "3. Check balance\n",
            "4. Exit\n",
            "Please enter a number between 1 and 4: 5\n",
            "Invalid entry. Please enter a number between 1 and 4\n",
            "\n",
            "What would you like to do?\n",
            "1. Deposit money\n",
            "2. Withdraw money\n",
            "3. Check balance\n",
            "4. Exit\n",
            "Please enter a number between 1 and 4: 1\n",
            "Please enter the amount of money(€) you want to deposit: jds\n",
            "Please enter a valid number/integer\n",
            "\n",
            "What would you like to do?\n",
            "1. Deposit money\n",
            "2. Withdraw money\n",
            "3. Check balance\n",
            "4. Exit\n",
            "Please enter a number between 1 and 4: 123d\n",
            "Invalid entry. Please enter a number between 1 and 4\n",
            "\n",
            "What would you like to do?\n",
            "1. Deposit money\n",
            "2. Withdraw money\n",
            "3. Check balance\n",
            "4. Exit\n",
            "Please enter a number between 1 and 4: 1\n",
            "Please enter the amount of money(€) you want to deposit: 70000\n",
            "Deposit successful! Your new balance is: 70360€\n",
            "\n",
            "What would you like to do?\n",
            "1. Deposit money\n",
            "2. Withdraw money\n",
            "3. Check balance\n",
            "4. Exit\n",
            "Please enter a number between 1 and 4: 4\n",
            "Thank you! Your final balance is: 70360€\n"
          ]
        }
      ]
    },
    {
      "cell_type": "code",
      "source": [],
      "metadata": {
        "id": "_eCpgvCGyRgP"
      },
      "execution_count": null,
      "outputs": []
    },
    {
      "cell_type": "markdown",
      "source": [
        "**Lesson 9.**\n",
        "\n",
        "**Topic: Functions**\n",
        "\n",
        "1. Defining and working with functions in Python\n",
        "\n",
        "2. Function parameters and arguments\n",
        "\n",
        "3. Defining Classes in Python\n",
        "\n",
        "4. init() method and instance variables\n",
        "\n",
        "5. Defining and using instance methods"
      ],
      "metadata": {
        "id": "C7yqJBPhd7Eg"
      }
    },
    {
      "cell_type": "code",
      "source": [
        "# Lesson 9. (25.5.24)\n",
        "\n",
        "# Elchin\n",
        "# clean the phone - function\n",
        "# phone - argument\n",
        "\n",
        "def cleaner():\n",
        "  print(\"I have cleaned the item\")\n",
        "\n",
        "cleaner()"
      ],
      "metadata": {
        "id": "o9QrQXDuEBmn",
        "colab": {
          "base_uri": "https://localhost:8080/"
        },
        "outputId": "198c52b2-3e60-49d7-a153-42765f4365cf"
      },
      "execution_count": null,
      "outputs": [
        {
          "output_type": "stream",
          "name": "stdout",
          "text": [
            "I have cleaned the item\n"
          ]
        }
      ]
    },
    {
      "cell_type": "code",
      "source": [
        "# provide some argument (item - parameter - it is needed to call the function)\n",
        "\n",
        "def cleaner(item):\n",
        "  print(\"I have cleaned the item\")\n",
        "\n",
        "cleaner(\"smartphone\")"
      ],
      "metadata": {
        "colab": {
          "base_uri": "https://localhost:8080/"
        },
        "id": "oRrja2Vdlc38",
        "outputId": "27147b54-121f-4a37-93ed-297c3e43868e"
      },
      "execution_count": null,
      "outputs": [
        {
          "output_type": "stream",
          "name": "stdout",
          "text": [
            "I have cleaned the item\n"
          ]
        }
      ]
    },
    {
      "cell_type": "code",
      "source": [
        "def cleaner(item):\n",
        "  print(f\"I have cleaned the {item}\")\n",
        "\n",
        "cleaner(\"smartphone\")"
      ],
      "metadata": {
        "colab": {
          "base_uri": "https://localhost:8080/"
        },
        "id": "CZ2udn96lc6S",
        "outputId": "4ea7f1fa-3018-441b-f2a7-a3e56b581972"
      },
      "execution_count": null,
      "outputs": [
        {
          "output_type": "stream",
          "name": "stdout",
          "text": [
            "I have cleaned the smartphone\n"
          ]
        }
      ]
    },
    {
      "cell_type": "code",
      "source": [
        "def cleaner(item, fluid):\n",
        "  print(f\"I have cleaned the {item} with {fluid}\")\n",
        "\n",
        "cleaner(\"smartphone\", \"water\")"
      ],
      "metadata": {
        "colab": {
          "base_uri": "https://localhost:8080/"
        },
        "id": "rtBKXtPklc87",
        "outputId": "0e64d970-7533-4aa5-b233-321ba96f77b5"
      },
      "execution_count": null,
      "outputs": [
        {
          "output_type": "stream",
          "name": "stdout",
          "text": [
            "I have cleaned the smartphone with water\n"
          ]
        }
      ]
    },
    {
      "cell_type": "code",
      "source": [
        "def cleaner(item, fluid, time):\n",
        "  print(f\"I have cleaned the {item} with {fluid} {time} times\")\n",
        "\n",
        "cleaner(\"smartphone\", \"water\", 3)\n",
        "\n",
        "# we dont need to define the type of the parameter\n",
        "# \"smartphone\" is an argument provided as a parameter to the function\n",
        "# python detects the data type automatically\n",
        "# not good: mixing types in database\n"
      ],
      "metadata": {
        "colab": {
          "base_uri": "https://localhost:8080/"
        },
        "id": "mBtJn0FLlc_l",
        "outputId": "58f66c9c-d008-4bc2-8da4-70cdfcd70135"
      },
      "execution_count": null,
      "outputs": [
        {
          "output_type": "stream",
          "name": "stdout",
          "text": [
            "I have cleaned the smartphone with water 3 times\n"
          ]
        }
      ]
    },
    {
      "cell_type": "code",
      "source": [
        "def cleaner(item:str, fluid:str, time:int):\n",
        "  print(f\"I have cleaned the {item} with {fluid} {time} times\")\n",
        "\n",
        "cleaner(\"smartphone\", \"water\", 3)\n",
        "\n",
        "# item:str, fluid:str, time:int - it is only informative, it can not be forced"
      ],
      "metadata": {
        "colab": {
          "base_uri": "https://localhost:8080/"
        },
        "id": "RFRK21nJnF2V",
        "outputId": "e36735d2-a786-4f81-a436-729a77c20593"
      },
      "execution_count": null,
      "outputs": [
        {
          "output_type": "stream",
          "name": "stdout",
          "text": [
            "I have cleaned the smartphone with water 3 times\n"
          ]
        }
      ]
    },
    {
      "cell_type": "code",
      "source": [
        "from os import times\n",
        "def cleaner(item, fluid, time):\n",
        "  print(f\"I have cleaned the {item} with {fluid} {time} times\")\n",
        "  print(type(item))\n",
        "  print(type(fluid))\n",
        "  print(type(times))\n",
        "#  'type' is also a function that checks data type\n",
        "\n",
        "cleaner(\"smartphone\", \"water\", 3)"
      ],
      "metadata": {
        "colab": {
          "base_uri": "https://localhost:8080/"
        },
        "id": "nIkl3_iVldCU",
        "outputId": "18a7a11f-db5b-4dd8-cea5-c77982963202"
      },
      "execution_count": null,
      "outputs": [
        {
          "output_type": "stream",
          "name": "stdout",
          "text": [
            "I have cleaned the smartphone with water 3 times\n",
            "<class 'str'>\n",
            "<class 'str'>\n",
            "<class 'builtin_function_or_method'>\n"
          ]
        }
      ]
    },
    {
      "cell_type": "code",
      "source": [
        "def add_two_numbers(number_1, number_2):\n",
        " return number_1 + number_2\n",
        "\n",
        "50 - add_two_numbers(4, 5)\n",
        "# the difference between void or return function in Python\n",
        "# is only defined by return keyword or lack of it\n",
        "\n",
        "# the print is colab doing, to print it we have to \"print\" it"
      ],
      "metadata": {
        "colab": {
          "base_uri": "https://localhost:8080/"
        },
        "id": "hyFUfp3LldE4",
        "outputId": "14d3537b-3519-4511-df2b-21f529bb7a5b"
      },
      "execution_count": null,
      "outputs": [
        {
          "output_type": "execute_result",
          "data": {
            "text/plain": [
              "41"
            ]
          },
          "metadata": {},
          "execution_count": 15
        }
      ]
    },
    {
      "cell_type": "code",
      "source": [
        "def add_two_numbers(number_1, number_2):\n",
        " return number_1 + number_2\n",
        "\n",
        "print(50 - add_two_numbers(4, 5))\n"
      ],
      "metadata": {
        "colab": {
          "base_uri": "https://localhost:8080/"
        },
        "id": "xt62bdy8rbSc",
        "outputId": "cd57d083-3cfc-4889-cdb4-a84ca0a70198"
      },
      "execution_count": null,
      "outputs": [
        {
          "output_type": "stream",
          "name": "stdout",
          "text": [
            "41\n"
          ]
        }
      ]
    },
    {
      "cell_type": "code",
      "source": [
        "class Cat:\n",
        "  def __init__ (self):\n",
        "    pass\n"
      ],
      "metadata": {
        "id": "rYnSeRF5zfhZ"
      },
      "execution_count": null,
      "outputs": []
    },
    {
      "cell_type": "code",
      "source": [
        "# AI:\n",
        "\n",
        "class Cat:\n",
        "    # __init__ is a special method called a constructor\n",
        "    # It is used to initialize the attributes of the class when an object\n",
        "    # is created, this method runs automathically\n",
        "\n",
        "    def __init__(self, name, age):\n",
        "        self.name = name  # 'self.name' is an instance variable\n",
        "        self.age = age  # 'self.age' is another instance variable\n",
        "\n",
        "# Example of creating a Cat object\n",
        "my_cat = Cat(\"Whiskers\", 3)\n",
        "print(my_cat.name)  # Output: Whiskers\n",
        "print(my_cat.age)   # Output: 3\n"
      ],
      "metadata": {
        "colab": {
          "base_uri": "https://localhost:8080/"
        },
        "id": "eB5yRCuKrbUT",
        "outputId": "e837cea5-e1e4-4d05-9735-e86b404c54c8"
      },
      "execution_count": null,
      "outputs": [
        {
          "output_type": "stream",
          "name": "stdout",
          "text": [
            "Whiskers\n",
            "3\n"
          ]
        }
      ]
    },
    {
      "cell_type": "code",
      "source": [
        "class Cat:\n",
        "  # __init__ method runs automatically\n",
        "  # when an object from this class is created\n",
        "  # this method also called a `constructor`\n",
        "  def __init__(self): #self is a requred parameter and refers to the instance\n",
        "    pass"
      ],
      "metadata": {
        "id": "e3-EY-SdrbW1"
      },
      "execution_count": null,
      "outputs": []
    },
    {
      "cell_type": "code",
      "source": [
        "class Cat:\n",
        "  # __init__ method runs automatically\n",
        "  # when an object from this class is created\n",
        "  # this method also called a `constructor`\n",
        "  def __init__(self, name, age): #self is a requred parameter and refers to the instance\n",
        "    self.name = name\n",
        "    self.age = age\n",
        "\n",
        "cat1 = Cat('Coder', 3) # creare an instance of the class, called an object\n",
        "cat2 = Cat('Minka', 12) # creare an instance of the class, called an object\n",
        "cat3 = Cat('Miisu', 5) # creare an instance of the class, called an object\n",
        "\n",
        "print(cat1.age) # read the instance/object variable\n",
        "print(cat2.name)\n",
        "print(cat3.name, cat3.age)\n"
      ],
      "metadata": {
        "colab": {
          "base_uri": "https://localhost:8080/"
        },
        "id": "OjqYBqGZ1HI0",
        "outputId": "802f2d6f-bbb1-48d9-d0a2-6b6ec80ce8fd"
      },
      "execution_count": null,
      "outputs": [
        {
          "output_type": "stream",
          "name": "stdout",
          "text": [
            "3\n",
            "Minka\n",
            "Miisu 5\n"
          ]
        }
      ]
    },
    {
      "cell_type": "code",
      "source": [
        "class Cat:\n",
        "  def __init__(self, name, age):\n",
        "    self.name = name\n",
        "    self.age = age\n",
        "\n",
        "cat1 = Cat('Coder', 3)\n",
        "cat2 = Cat('Minka', 12)\n",
        "cat3 = Cat('Miisu', 5)\n",
        "\n",
        "print(cat1) # place in the memory\n",
        "\n",
        "# This output indicates:\n",
        "# __main__: The module where the class is defined (in this case, the main script);\n",
        "# Cat: The name of the class;\n",
        "# 0x7f9c0b4c1d30: The memory address where the cat1 object is stored\n"
      ],
      "metadata": {
        "colab": {
          "base_uri": "https://localhost:8080/"
        },
        "id": "h8Gg54ch1HL0",
        "outputId": "0c78a884-056c-4a74-ba4e-1331d7f2d9a1"
      },
      "execution_count": null,
      "outputs": [
        {
          "output_type": "stream",
          "name": "stdout",
          "text": [
            "<__main__.Cat object at 0x7ed966717d30>\n"
          ]
        }
      ]
    },
    {
      "cell_type": "code",
      "source": [
        "class Cat:\n",
        "  # __init__ method runs automatically\n",
        "  # when an object from this class is created\n",
        "  # this method also called a `constructor`\n",
        "  def __init__(self, name, age): #self is a requred parameter and refers to the instance\n",
        "    self.name = name\n",
        "    self.age = age\n",
        "\n",
        "  def voice(self, sound): # we define our custom method\n",
        "    print(f'{sound}!')\n",
        "\n",
        "cat1 = Cat('Coder', 3) # creare an instance of the class, called an object\n",
        "cat2 = Cat('Minka', 12) # creare an instance of the class, called an object\n",
        "cat3 = Cat('Miisu', 5) # creare an instance of the class, called an object\n",
        "\n",
        "print(cat1.age) # read the instance/object variable\n",
        "cat3.voice('Meow') # calling the custom method\n",
        "cat1.voice('Meoooow') # calling the custom method\n"
      ],
      "metadata": {
        "id": "4YqixluM1HO2"
      },
      "execution_count": null,
      "outputs": []
    },
    {
      "cell_type": "code",
      "source": [
        "class Cat:\n",
        "\n",
        "  def __init__(self, name, age):\n",
        "    self.name = name\n",
        "    self.age = age\n",
        "    self.sound = 'Meow' # assigning a sound\n",
        "\n",
        "  def voice(self):\n",
        "    print(f'{self.sound}!')\n",
        "\n",
        "  def eat(self, food):\n",
        "    print(f'{self.name} is eating {food}')\n",
        "\n",
        "  def introduce(self):\n",
        "    print(f'Hi, my name is {self.name}, I am {self.age} years old. Nice to meet you!')\n",
        "\n",
        "cat1 = Cat('Coder', 3)\n",
        "cat2 = Cat('Minka', 12)\n",
        "cat3 = Cat('Miisu', 5)\n",
        "\n",
        "print(cat1.age)\n",
        "\n",
        "cat3.voice()\n",
        "cat1.voice()\n",
        "\n",
        "cat3.introduce()\n",
        "\n",
        "cat3.eat('Chicken meat')"
      ],
      "metadata": {
        "colab": {
          "base_uri": "https://localhost:8080/"
        },
        "id": "yHA4xi486SOy",
        "outputId": "4ad5dde2-cd05-4408-b29f-72419ea1f6f1"
      },
      "execution_count": null,
      "outputs": [
        {
          "output_type": "stream",
          "name": "stdout",
          "text": [
            "3\n",
            "Meow!\n",
            "Meow!\n",
            "Hi, my name is Miisu, I am 5 years old. Nice to meet you!\n",
            "Miisu is eating Chicken meat\n"
          ]
        }
      ]
    },
    {
      "cell_type": "code",
      "source": [
        "# TEAMWORK\n",
        "# Make a data structure which will hold all instances/objects together\n",
        "# Print out object data using loops\n",
        "# Use methods for all objects using loops\n",
        "# Allow programmer to override the default sound of a cat\n"
      ],
      "metadata": {
        "id": "qTNoIFJs6SRt"
      },
      "execution_count": null,
      "outputs": []
    },
    {
      "cell_type": "code",
      "source": [
        "class Cat:\n",
        "    def __init__(self, name, age):\n",
        "        self.name = name\n",
        "        self.age = age\n",
        "        self.sound = 'Meow'  # assigning a sound\n",
        "\n",
        "    def voice(self):\n",
        "        print(f'{self.sound}')\n",
        "\n",
        "    def eat(self, food):\n",
        "        print(f'{self.name} is eating {food}')\n",
        "\n",
        "    def introduce(self):\n",
        "        print(f'Hi, my name is {self.name}, I am {self.age} years old. Nice to meet you!')\n",
        "\n",
        "\n",
        "cat1 = Cat('Coder', 3)\n",
        "cat2 = Cat('Minka', 12)\n",
        "cat3 = Cat('Miisu', 5)\n",
        "\n",
        "# make a list\n",
        "cats = [cat1, cat2, cat3]\n",
        "\n",
        "# loop\n",
        "for cat in cats:\n",
        "    print(f\"Cat's name is: {cat.name}, cat's age is: {cat.age}\")\n",
        "    cat.introduce()\n",
        "    cat.voice()\n",
        "    cat.eat(\"fish\")\n",
        "\n",
        "cat1.sound = \"Meow\"\n",
        "cat2.sound = \"Neu\"\n",
        "cat3.sound = \"Mäu\"\n",
        "\n",
        "for cat in cats:\n",
        "    print(f\"{cat.name}'s new sound: \", end=\"\")\n",
        "    cat.voice()\n",
        "\n"
      ],
      "metadata": {
        "colab": {
          "base_uri": "https://localhost:8080/"
        },
        "id": "dTOdITmE6SUS",
        "outputId": "bdd3c218-cafe-47ab-eb7b-09982c92486e"
      },
      "execution_count": null,
      "outputs": [
        {
          "output_type": "stream",
          "name": "stdout",
          "text": [
            "Cat's name is: Coder, cat's age is: 3\n",
            "Hi, my name is Coder, I am 3 years old. Nice to meet you!\n",
            "Meow\n",
            "Coder is eating fish\n",
            "Cat's name is: Minka, cat's age is: 12\n",
            "Hi, my name is Minka, I am 12 years old. Nice to meet you!\n",
            "Meow\n",
            "Minka is eating fish\n",
            "Cat's name is: Miisu, cat's age is: 5\n",
            "Hi, my name is Miisu, I am 5 years old. Nice to meet you!\n",
            "Meow\n",
            "Miisu is eating fish\n",
            "Coder's new sound: Meow\n",
            "Minka's new sound: Neu\n",
            "Miisu's new sound: Mäu\n"
          ]
        }
      ]
    },
    {
      "cell_type": "code",
      "source": [
        "# Nora's code:\n",
        "class Ing:\n",
        "  def __init__(self, name):\n",
        "    self.name = name\n",
        "    self.expiry_date = 'not set'\n",
        "\n",
        "  def display(self):\n",
        "      print(f'Ingredient: {self.name}')\n",
        "      print(f'Expiry date: {self.expiry_date}')\n",
        "\n",
        "  def set_expiry_date(self, new_expiry_date):\n",
        "      self.expiry_date = new_expiry_date\n",
        "\n",
        "ingredients = []\n",
        "ingredients.append(Ing('milk'))\n",
        "ingredients.append(Ing('watermelon'))\n",
        "ingredients.append(Ing('cheese'))\n",
        "\n",
        "print(\"Ingredients with default expiry dates:\")\n",
        "for ing in ingredients:\n",
        "    ing.display()\n",
        "\n",
        "for ing in ingredients:\n",
        "    new_date = input(f\"Enter the new expiry date for {ing.name} (current: {ing.expiry_date}): \")\n",
        "    ing.set_expiry_date(new_date)\n",
        "\n",
        "print('\\nHere are the new expiry dates for your ingredients: ')\n",
        "\n",
        "for ing in ingredients:\n",
        "    ing.display()"
      ],
      "metadata": {
        "colab": {
          "base_uri": "https://localhost:8080/"
        },
        "id": "e2NopayzDyA0",
        "outputId": "0812b8f3-a676-4b16-9014-1e193560dc89"
      },
      "execution_count": null,
      "outputs": [
        {
          "output_type": "stream",
          "name": "stdout",
          "text": [
            "Ingredients with default expiry dates:\n",
            "Ingredient: milk\n",
            "Expiry date: not set\n",
            "Ingredient: watermelon\n",
            "Expiry date: not set\n",
            "Ingredient: cheese\n",
            "Expiry date: not set\n",
            "Enter the new expiry date for milk (current: not set): 30.5\n",
            "Enter the new expiry date for watermelon (current: not set): 30.5\n",
            "Enter the new expiry date for cheese (current: not set): 28.5\n",
            "\n",
            "Here are the new expiry dates for your ingredients: \n",
            "Ingredient: milk\n",
            "Expiry date: 30.5\n",
            "Ingredient: watermelon\n",
            "Expiry date: 30.5\n",
            "Ingredient: cheese\n",
            "Expiry date: 28.5\n"
          ]
        }
      ]
    },
    {
      "cell_type": "code",
      "source": [
        "class Task:\n",
        "    def __init__(self, description, priority):\n",
        "        self.description = description\n",
        "        self.priority = priority  # '1' for 'Must do today' and '2' for 'Do this week'\n",
        "\n",
        "    def show_task(self):\n",
        "        print(f'Task: {self.description}, Priority: {self.priority}')\n",
        "\n",
        "    def change_priority(self, new_priority):\n",
        "        self.priority = new_priority\n",
        "        print(f'The priority of the task \"{self.description}\" has been changed to {self.priority}')\n",
        "\n",
        "    def complete_task(self):\n",
        "        print(f'The task \"{self.description}\" has been completed.')\n",
        "\n",
        "# Create instances of the Task class\n",
        "task1 = Task('Finish the report', '1')\n",
        "task2 = Task('Buy groceries', '2')\n",
        "task3 = Task('Call mom', '1')\n",
        "\n",
        "# Make a list\n",
        "tasks = [task1, task2, task3]\n",
        "\n",
        "# Loop to print task details and call methods\n",
        "for task in tasks:\n",
        "    print(f\"Task: {task.description}, Priority: {task.priority}\")\n",
        "\n",
        "for task in tasks:\n",
        "    task.show_task()\n",
        "    task.complete_task()\n",
        "\n",
        "# Change priority of tasks\n",
        "task1.change_priority('2')\n",
        "task2.change_priority('1')\n",
        "\n",
        "# Loop to demonstrate the changed priorities\n",
        "for task in tasks:\n",
        "    print(f\"{task.description}'s new priority: {task.priority}\")\n"
      ],
      "metadata": {
        "colab": {
          "base_uri": "https://localhost:8080/"
        },
        "id": "vwNrXLbwsVTo",
        "outputId": "5e7a04e1-0309-45a8-946a-a834e7f26be2"
      },
      "execution_count": null,
      "outputs": [
        {
          "output_type": "stream",
          "name": "stdout",
          "text": [
            "Task: Finish the report, Priority: 1\n",
            "Task: Buy groceries, Priority: 2\n",
            "Task: Call mom, Priority: 1\n",
            "Task: Finish the report, Priority: 1\n",
            "The task \"Finish the report\" has been completed.\n",
            "Task: Buy groceries, Priority: 2\n",
            "The task \"Buy groceries\" has been completed.\n",
            "Task: Call mom, Priority: 1\n",
            "The task \"Call mom\" has been completed.\n",
            "The priority of the task \"Finish the report\" has been changed to 2\n",
            "The priority of the task \"Buy groceries\" has been changed to 1\n",
            "Finish the report's new priority: 2\n",
            "Buy groceries's new priority: 1\n",
            "Call mom's new priority: 1\n"
          ]
        }
      ]
    },
    {
      "cell_type": "code",
      "source": [
        "class Task:\n",
        "    def __init__(self, description, priority):\n",
        "        self.description = description\n",
        "        self.priority = priority  # '1' for 'Must do today', '2' for 'Do this week', '3' for 'Task completed'\n",
        "\n",
        "    def show_task(self):\n",
        "        priority_str = self.get_priority_str()\n",
        "        print(f'Task: {self.description}, Priority: {priority_str}')\n",
        "\n",
        "    def change_priority(self, new_priority):\n",
        "        self.priority = new_priority\n",
        "        priority_str = self.get_priority_str()\n",
        "        print(f'The priority of the task \"{self.description}\" has been changed to {priority_str}')\n",
        "\n",
        "    def complete_task(self):\n",
        "        self.priority = '3'\n",
        "        print(f'The task \"{self.description}\" has been marked as completed.')\n",
        "\n",
        "    def get_priority_str(self):\n",
        "        if self.priority == '1':\n",
        "            return 'Must do today'\n",
        "        elif self.priority == '2':\n",
        "            return 'Do this week'\n",
        "        elif self.priority == '3':\n",
        "            return 'Task completed'\n",
        "        else:\n",
        "            return 'Unknown'\n",
        "\n",
        "# Function to create tasks based on user input\n",
        "def create_task():\n",
        "    description = input('Enter the task description: ')\n",
        "    priority = input('Enter the task priority (\"1\" for \"Must do today\", \"2\" for \"Do this week\"): ')\n",
        "    return Task(description, priority)\n",
        "\n",
        "# Function to change priority of a task based on user input\n",
        "def change_task_priority(tasks):\n",
        "    task_num = int(input('Enter the task number to change priority: '))\n",
        "    new_priority = input('Enter the new priority (\"1\" for \"Must do today\", \"2\" for \"Do this week\", \"3\" for \"Task completed\"): ')\n",
        "    if 0 <= task_num < len(tasks):\n",
        "        tasks[task_num].change_priority(new_priority)\n",
        "    else:\n",
        "        print('Invalid task number.')\n",
        "\n",
        "# Main code\n",
        "tasks = []\n",
        "\n",
        "# User input to add tasks\n",
        "while True:\n",
        "    add_task = input('Do you want to add a new task? (yes/no): ')\n",
        "    if add_task.lower() == 'yes':\n",
        "        task = create_task()\n",
        "        tasks.append(task)\n",
        "    else:\n",
        "        break\n",
        "\n",
        "# Print all tasks\n",
        "print('\\nAll Tasks:')\n",
        "for idx, task in enumerate(tasks):\n",
        "    print(f'{idx}. ', end='')\n",
        "    task.show_task()\n",
        "\n",
        "# User input to change task priorities\n",
        "while True:\n",
        "    change_priority = input('Do you want to change the priority of a task? (yes/no): ')\n",
        "    if change_priority.lower() == 'yes':\n",
        "        change_task_priority(tasks)\n",
        "    else:\n",
        "        break\n",
        "\n",
        "# Print all tasks after priority changes\n",
        "print('\\nAll Tasks after Priority Changes:')\n",
        "for idx, task in enumerate(tasks):\n",
        "    print(f'{idx}. ', end='')\n",
        "    task.show_task()\n"
      ],
      "metadata": {
        "colab": {
          "base_uri": "https://localhost:8080/"
        },
        "id": "-39lmI33sVWL",
        "outputId": "74447e78-8c28-457a-c939-cac7111bf6af"
      },
      "execution_count": null,
      "outputs": [
        {
          "output_type": "stream",
          "name": "stdout",
          "text": [
            "Do you want to add a new task? (yes/no): yes\n",
            "Enter the task description: clean rooms\n",
            "Enter the task priority (\"1\" for \"Must do today\", \"2\" for \"Do this week\"): 1\n",
            "Do you want to add a new task? (yes/no): yes\n",
            "Enter the task description: do Java individual work\n",
            "Enter the task priority (\"1\" for \"Must do today\", \"2\" for \"Do this week\"): 2\n",
            "Do you want to add a new task? (yes/no): no\n",
            "\n",
            "All Tasks:\n",
            "0. Task: clean rooms, Priority: Must do today\n",
            "1. Task: do Java individual work, Priority: Do this week\n",
            "Do you want to change the priority of a task? (yes/no): yes\n",
            "Enter the task number to change priority: 0\n",
            "Enter the new priority (\"1\" for \"Must do today\", \"2\" for \"Do this week\", \"3\" for \"Task completed\"): 3\n",
            "The priority of the task \"clean rooms\" has been changed to Task completed\n",
            "Do you want to change the priority of a task? (yes/no): no\n",
            "\n",
            "All Tasks after Priority Changes:\n",
            "0. Task: clean rooms, Priority: Task completed\n",
            "1. Task: do Java individual work, Priority: Do this week\n"
          ]
        }
      ]
    },
    {
      "cell_type": "code",
      "source": [],
      "metadata": {
        "id": "6D1P4YYH1enQ"
      },
      "execution_count": null,
      "outputs": []
    },
    {
      "cell_type": "markdown",
      "source": [
        "**Lesson 10.**\n",
        "\n",
        "**Topic: Making the prototype bank application**\n",
        "\n",
        "1. Making the Client, Account and Transaction classes\n",
        "2. Understanding how to use one class from another class\n",
        "3. Loop through elements of a class and print the field values\n",
        "4. Construct nested loops to access nested data structures (lists in a Class)\n",
        "\n",
        "Teamwork\n",
        "1. Translate the code from Python to Java (can use LLMs)\n",
        "2. Look through the code and a check if it works properly in Java\n",
        "3. Briefly analyze the syntactical and structural difference in languages\n",
        "4. Make a brief Chee sheet for defining classes, class variables, instance variables and methods in Java"
      ],
      "metadata": {
        "id": "BxdoPRnlcYMB"
      }
    },
    {
      "cell_type": "code",
      "source": [
        "# LESSON 10.(1.6.24)\n",
        "# Elchin"
      ],
      "metadata": {
        "id": "RGuHqVnr1exz"
      },
      "execution_count": null,
      "outputs": []
    },
    {
      "cell_type": "code",
      "source": [
        "class Client:\n",
        "  number_of_clients = 0\n",
        "\n",
        "  def __init__(self, id, name):\n",
        "    self.id = id\n",
        "    self.name = name\n",
        "    Client.number_of_clients += 1\n",
        "\n",
        "clients = []\n",
        "clients.append(Client('123456', 'Anna'))\n",
        "clients.append(Client('987654', 'Oskar'))\n",
        "clients.append(Client('456123', 'Jenifer'))\n",
        "\n",
        "print(Client.number_of_clients)\n",
        "print(clients[1]) # get the id of Oskar"
      ],
      "metadata": {
        "id": "clZ-7QGTsVY3",
        "colab": {
          "base_uri": "https://localhost:8080/"
        },
        "outputId": "f8fe4f20-b0ac-4c69-a1f8-1b0db68094e4"
      },
      "execution_count": null,
      "outputs": [
        {
          "output_type": "stream",
          "name": "stdout",
          "text": [
            "3\n",
            "<__main__.Client object at 0x7d62ab1f7670>\n"
          ]
        }
      ]
    },
    {
      "cell_type": "code",
      "source": [
        "class Client:\n",
        "  number_of_clients = 0\n",
        "\n",
        "  def __init__(self, id, name):\n",
        "    self.id = id\n",
        "    self.name = name\n",
        "    Client.number_of_clients += 1\n",
        "\n",
        "clients = []\n",
        "clients.append(Client('123456', 'Anna'))\n",
        "clients.append(Client('987654', 'Oskar'))\n",
        "clients.append(Client('456123', 'Jenifer'))\n",
        "\n",
        "print(f'We have {Client.number_of_clients} clients in our bank:')\n",
        "for client in clients:\n",
        "  print(client.name)"
      ],
      "metadata": {
        "colab": {
          "base_uri": "https://localhost:8080/"
        },
        "id": "y7do0XdZdN4a",
        "outputId": "fe2a1715-b5da-4bd0-8aeb-7741d8c24620"
      },
      "execution_count": null,
      "outputs": [
        {
          "output_type": "stream",
          "name": "stdout",
          "text": [
            "We have 3 clients in our bank:\n",
            "Anna\n",
            "Oskar\n",
            "Jenifer\n"
          ]
        }
      ]
    },
    {
      "cell_type": "code",
      "source": [
        "class Client:\n",
        "  number_of_clients = 0\n",
        "\n",
        "  def __init__(self, id, name):\n",
        "    self.id = id\n",
        "    self.name = name\n",
        "    self.accounts = []\n",
        "    Client.number_of_clients += 1\n",
        "\n",
        "  def add_account(self, account):\n",
        "    self.accounts.append(account)"
      ],
      "metadata": {
        "id": "Yn7eC0RMdN6z"
      },
      "execution_count": null,
      "outputs": []
    },
    {
      "cell_type": "code",
      "source": [
        "# AI:\n",
        "\n",
        "class Client:\n",
        "    number_of_clients = 0\n",
        "\n",
        "    def __init__(self, id, name):\n",
        "        self.id = id\n",
        "        self.name = name\n",
        "        self.accounts = []\n",
        "        Client.number_of_clients += 1\n",
        "\n",
        "    def add_account(self, account):\n",
        "        self.accounts.append(account)\n",
        "\n",
        "    def print_client_info(self):\n",
        "        print(f\"Client ID: {self.id}\")\n",
        "        print(f\"Client Name: {self.name}\")\n",
        "        print(f\"Accounts: {self.accounts}\")\n",
        "\n",
        "    @staticmethod\n",
        "    def print_number_of_clients():\n",
        "        print(f\"Total number of clients: {Client.number_of_clients}\")\n",
        "\n",
        "# Näide kasutamisest\n",
        "client1 = Client(1, \"John Doe\")\n",
        "client2 = Client(2, \"Jane Smith\")\n",
        "\n",
        "client1.add_account(\"Checking\")\n",
        "client1.add_account(\"Savings\")\n",
        "\n",
        "client2.add_account(\"Business\")\n",
        "\n",
        "client1.print_client_info()\n",
        "client2.print_client_info()\n",
        "Client.print_number_of_clients()\n"
      ],
      "metadata": {
        "colab": {
          "base_uri": "https://localhost:8080/"
        },
        "id": "AsnHGdpqowuS",
        "outputId": "c529b0ac-123d-49c1-888c-256ca99eeb9f"
      },
      "execution_count": null,
      "outputs": [
        {
          "output_type": "stream",
          "name": "stdout",
          "text": [
            "Client ID: 1\n",
            "Client Name: John Doe\n",
            "Accounts: ['Checking', 'Savings']\n",
            "Client ID: 2\n",
            "Client Name: Jane Smith\n",
            "Accounts: ['Business']\n",
            "Total number of clients: 2\n"
          ]
        }
      ]
    },
    {
      "cell_type": "code",
      "source": [
        "class Client:  # first class\n",
        "  number_of_clients = 0\n",
        "\n",
        "  def __init__(self, id, name):\n",
        "    self.id = id\n",
        "    self.name = name\n",
        "    self.accounts = []\n",
        "    Client.number_of_clients += 1\n",
        "\n",
        "  def add_account(self, account):\n",
        "    self.accounts.append(account)\n",
        "\n",
        "class Account:   # second class\n",
        "  def __init__(self, number, currency):\n",
        "    self.number = number\n",
        "    self.currency = currency\n",
        "\n"
      ],
      "metadata": {
        "id": "OSPhtigLoIcd"
      },
      "execution_count": null,
      "outputs": []
    },
    {
      "cell_type": "code",
      "source": [
        "# defining a class Client, which will store all data and methods for clients\n",
        "class Client:\n",
        "    number_of_clients = 0\n",
        "\n",
        "    def __init__(self, id, name):\n",
        "        self.id = id\n",
        "        self.name = name\n",
        "        self.accounts = []\n",
        "        Client.number_of_clients += 1\n",
        "\n",
        "    def add_account(self, account):\n",
        "        self.accounts.append(account)\n",
        "\n",
        "# defining a class Account, which will store all data and methods of any account\n",
        "class Account:\n",
        "    def __init__(self, number, currency):\n",
        "        self.number = number\n",
        "        self.currency = currency\n",
        "\n",
        "# now, let us work using those classes\n",
        "# adding clients to a list\n",
        "clients = []\n",
        "clients.append(Client('123456', 'Anna'))\n",
        "clients.append(Client('987654', 'Oskar'))\n",
        "clients.append(Client('456123', 'Jenifer'))\n",
        "\n",
        "# adding accounts to clients\n",
        "clients[0].add_account(Account('EE654987564321', 'EUR'))\n",
        "clients[0].add_account(Account('JP582147859635', 'JPY'))\n",
        "clients[0].add_account(Account('US654987643214', 'USD'))\n",
        "\n",
        "# printing some data\n",
        "print(f'We have {Client.number_of_clients} clients in our bank:')\n",
        "\n",
        "for client in clients:\n",
        "    print(client.name)  # prindib iga kliendi nime\n",
        "\n"
      ],
      "metadata": {
        "colab": {
          "base_uri": "https://localhost:8080/"
        },
        "id": "MmDVERgwdN98",
        "outputId": "02ffc154-ebd8-4ed6-add4-f93c9571f515"
      },
      "execution_count": null,
      "outputs": [
        {
          "output_type": "stream",
          "name": "stdout",
          "text": [
            "We have 3 clients in our bank:\n",
            "Anna\n",
            "Oskar\n",
            "Jenifer\n"
          ]
        }
      ]
    },
    {
      "cell_type": "markdown",
      "source": [
        "Pythonis on klass, meetod ja konstruktor olulised mõisted objektorienteeritud programmeerimise kontekstis. Igaühel neist on spetsiifiline roll ja tähendus.\n",
        "\n",
        "**Klass**\n",
        "\n",
        "Klass on mall või plaan objektide loomiseks. See määratleb omadused (atribuutid) ja käitumised (meetodid), mida klassi objektid omavad. Klassid võimaldavad koodi taaskasutatavust ja organiseeritust, pakkudes võimalust luua mitu objekti, mis jagavad samu omadusi ja meetodeid.\n",
        "\n",
        "Näide klassist:\n",
        "\n",
        "class Client:\n",
        "    number_of_clients = 0  # klassi atribuut\n",
        "\n",
        "    def __init__(self, id, name):  # konstruktor\n",
        "        self.id = id  # objekti atribuut\n",
        "        self.name = name  # objekti atribuut\n",
        "        self.accounts = []  # objekti atribuut\n",
        "        Client.number_of_clients += 1  # uuendatakse klassi atribuuti\n",
        "\n",
        "    def add_account(self, account):  # meetod\n",
        "        self.accounts.append(account)\n",
        "**Meetod**\n",
        "\n",
        "Meetod on funktsioon, mis on määratletud klassi sees ja on seotud klassi objektidega. Meetodid määravad kindlaks klassi objektide käitumise ja neil on tavaliselt vähemalt üks argument, self, mis viitab objektile endale.\n",
        "\n",
        "Näide meetodist:\n",
        "\n",
        "\n",
        "def add_account(self, account):\n",
        "\n",
        "    self.accounts.append(account)\n",
        "Meetodi add_account abil saab klient objektile lisada kontosid.\n",
        "\n",
        "**Konstruktor**\n",
        "\n",
        "Konstruktor on spetsiaalne meetod, mida kutsutakse automaatselt iga kord, kui klassist luuakse uus objekt. Konstruktor määratletakse spetsiaalse meetodi __init__ abil ja selle peamine ülesanne on initsialiseerida objekti atribuudid.\n",
        "\n",
        "Näide konstruktorist:\n",
        "\n",
        "\n",
        "def __init__(self, id, name):\n",
        "\n",
        "    self.id = id\n",
        "    self.name = name\n",
        "    self.accounts = []\n",
        "    Client.number_of_clients += 1\n",
        "\n",
        "\n",
        "Konstruktor __init__ määrab kindlaks objekti atribuudi väärtused (id, name ja accounts) iga kord, kui uus Client objekt luuakse.\n",
        "\n",
        "**Kokkuvõte**\n",
        "\n",
        "**Klass**:\n",
        "Määratleb omadused ja käitumised, mida objektid jagavad.\n",
        "**Meetod**:\n",
        "Funktsioon, mis määratleb objektide käitumise ja on seotud klassi objektidega.\n",
        "**Konstruktor**:\n",
        "Spetsiaalne meetod __init__, mida kasutatakse objekti atribuutide initsialiseerimiseks.\n",
        "\n",
        "Need mõisted töötavad koos, et võimaldada objektorienteeritud programmeerimist, pakkudes struktureeritud ja modulaarset viisi koodi kirjutamiseks ja haldamiseks."
      ],
      "metadata": {
        "id": "aFeX4UN7t6Uo"
      }
    },
    {
      "cell_type": "code",
      "source": [
        "class Client:\n",
        "  number_of_clients = 0\n",
        "\n",
        "  def __init__(self, id, name):\n",
        "    self.id = id\n",
        "    self.name = name\n",
        "    self.accounts = []\n",
        "    Client.number_of_clients += 1\n",
        "\n",
        "  def add_account(self, account):\n",
        "    self.accounts.append(account)\n",
        "\n",
        "class Account:\n",
        "  def __init__(self, number, currency):\n",
        "    self.number = number\n",
        "    self.currency = currency\n",
        "\n",
        "# now, let us work using those classes\n",
        "# adding clients to a list\n",
        "clients = []\n",
        "clients.append(Client('123456', 'Anna'))\n",
        "clients.append(Client('987654', 'Oskar'))\n",
        "clients.append(Client('456123', 'Jenifer'))\n",
        "\n",
        "# adding accounts to clients\n",
        "clients[0].add_account(Account('EE654987564321', 'EUR'))\n",
        "clients[0].add_account(Account('JP582147859635', 'JPY'))\n",
        "clients[0].add_account(Account('US654987643214', 'USD'))\n",
        "clients[1].add_account(Account('PL849512635445', 'PLN'))\n",
        "clients[2].add_account(Account('SE741254956587', 'SEK'))\n",
        "\n",
        "\n",
        "# printing some data\n",
        "print(f'We have {Client.number_of_clients} clients in our bank:')\n",
        "\n",
        "for client in clients:\n",
        "  print(f'Client {client.name} has the following accounts:')\n",
        "\n",
        "  for account in client.accounts:\n",
        "    print(f'{account.number} ({account.currency})')"
      ],
      "metadata": {
        "colab": {
          "base_uri": "https://localhost:8080/"
        },
        "id": "qZ8V7OdwdOAl",
        "outputId": "73e27c1f-65f3-494d-bc10-d3fd95753177"
      },
      "execution_count": null,
      "outputs": [
        {
          "output_type": "stream",
          "name": "stdout",
          "text": [
            "We have 3 clients in our bank:\n",
            "Client Anna has the following accounts:\n",
            "EE654987564321 (EUR)\n",
            "JP582147859635 (JPY)\n",
            "US654987643214 (USD)\n",
            "Client Oskar has the following accounts:\n",
            "PL849512635445 (PLN)\n",
            "Client Jenifer has the following accounts:\n",
            "SE741254956587 (SEK)\n"
          ]
        }
      ]
    },
    {
      "cell_type": "code",
      "source": [
        "import datetime\n",
        "\n",
        "class Client:\n",
        "  number_of_clients = 0\n",
        "\n",
        "  def __init__(self, id, name):\n",
        "    self.id = id\n",
        "    self.name = name\n",
        "    self.accounts = []\n",
        "    Client.number_of_clients += 1\n",
        "\n",
        "  def add_account(self, account):\n",
        "    self.accounts.append(account)\n",
        "\n",
        "class Account:\n",
        "  def __init__(self, number, currency, balance = 0.0):\n",
        "    self.number = number\n",
        "    self.currency = currency\n",
        "    self.balance = balance\n",
        "    self.transactions = []\n",
        "\n",
        "  def make_deposit(self, amount, note):\n",
        "    self.transactions.append(Transaction(self.currency, amount, note))\n",
        "    self.balance += amount\n",
        "\n",
        "  def make_withdrawal(self, amount, note):\n",
        "    self.transactions.append(Transaction(self.currency, -amount, note))\n",
        "    self.balance -= amount\n",
        "\n",
        "class Transaction:\n",
        "  def __init__(self, currency, amount, note):\n",
        "    self.currency = currency\n",
        "    self.amount = amount\n",
        "    self.note = note\n",
        "    self.time_stamp = datetime.datetime.now()\n",
        "\n",
        "# now, let us work using those classes\n",
        "# adding clients to a list\n",
        "clients = []\n",
        "clients.append(Client('123456', 'Anna'))\n",
        "clients.append(Client('987654', 'Oskar'))\n",
        "clients.append(Client('456123', 'Jenifer'))\n",
        "\n",
        "# adding accounts to clients\n",
        "clients[0].add_account(Account('EE654987564321', 'EUR', 1000.0))\n",
        "clients[0].add_account(Account('JP582147859635', 'JPY', 25000.30))\n",
        "clients[0].add_account(Account('US654987643214', 'USD'))\n",
        "clients[1].add_account(Account('PL849512635445', 'PLN', 47800.00))\n",
        "clients[2].add_account(Account('SE741254956587', 'SEK', 200.18))\n",
        "\n",
        "# let's make some transactions\n",
        "clients[0].accounts[0].make_deposit(1200, 'Salary')\n",
        "clients[0].accounts[0].make_withdrawal(50, 'Grocery')\n",
        "clients[0].accounts[0].make_withdrawal(140, 'Clothes')\n",
        "clients[0].accounts[0].make_withdrawal(20, 'Dinner')\n",
        "\n",
        "# printing some data\n",
        "print(f'We have {Client.number_of_clients} clients in our bank:')\n",
        "\n",
        "for client in clients:\n",
        "  print(f'Client {client.name} has the following accounts:')\n",
        "  for account in client.accounts:\n",
        "    print(f'{account.number} ({account.currency}) {account.balance}')\n",
        "    for transaction in account.transactions:\n",
        "      print(f'{transaction.time_stamp} {transaction.currency} {transaction.amount}')"
      ],
      "metadata": {
        "colab": {
          "base_uri": "https://localhost:8080/"
        },
        "id": "6vdQBAuvdODN",
        "outputId": "e61f60cd-0421-48ec-c5e2-d7c453f04c57"
      },
      "execution_count": null,
      "outputs": [
        {
          "output_type": "stream",
          "name": "stdout",
          "text": [
            "We have 3 clients in our bank:\n",
            "Client Anna has the following accounts:\n",
            "EE654987564321 (EUR) 1990.0\n",
            "2024-06-07 08:13:07.998871 EUR 1200\n",
            "2024-06-07 08:13:07.998968 EUR -50\n",
            "2024-06-07 08:13:07.999046 EUR -140\n",
            "2024-06-07 08:13:07.999102 EUR -20\n",
            "JP582147859635 (JPY) 25000.3\n",
            "US654987643214 (USD) 0.0\n",
            "Client Oskar has the following accounts:\n",
            "PL849512635445 (PLN) 47800.0\n",
            "Client Jenifer has the following accounts:\n",
            "SE741254956587 (SEK) 200.18\n"
          ]
        }
      ]
    },
    {
      "cell_type": "code",
      "source": [
        "# Teamwork:\n",
        "\n",
        "1. Translate the code to Java and understand how it works with Java (can use LLMs)\n",
        "   BE SURE THAT THE CODE WORKS PROPERLY IN JAVA\n",
        "\n",
        "2. Pay attention to the different syntax\n",
        "3. Make a cheat sheet in Miro on creating Classes with Java similar to what you\n",
        "   have for Python (Make a brief cheat sheet for defining classes, class variables,\n",
        "   instance variables and methods in Java)"
      ],
      "metadata": {
        "id": "S7LPuIRMmwBL"
      },
      "execution_count": null,
      "outputs": []
    },
    {
      "cell_type": "markdown",
      "source": [],
      "metadata": {
        "id": "S4pmxf1THYHw"
      }
    },
    {
      "cell_type": "markdown",
      "source": [
        "In the context of IT, \"**LLM**\" bold text stands for **Large Language Model**. Large Language Models are advanced types of artificial intelligence (AI) models, particularly a subset of deep learning models, that are designed to understand, generate, and manipulate natural language text. These models are typically trained on vast amounts of text data and can perform a variety of language-related tasks such as translation, summarization, question answering, and more.\n",
        "\n",
        "Key Features of LLMs:\n",
        "\n",
        "**1. Scale:**\n",
        "\n",
        "LLMs are characterized by their large scale in terms of the number of parameters and the size of the training dataset. This allows them to capture complex language patterns and nuances.\n",
        "\n",
        "**2. Deep Learning:**\n",
        "\n",
        "These models use deep neural networks, often with many layers (hence \"deep\"), which enables them to learn hierarchical representations of language.\n",
        "\n",
        "**3. Versatility:**\n",
        "\n",
        "LLMs can be applied to a wide range of natural language processing (NLP) tasks. Examples include text generation, translation, sentiment analysis, and more.\n",
        "\n",
        "**Examples of LLMs:**\n",
        "\n",
        "**1. GPT (Generative Pre-trained Transformer):**\n",
        "\n",
        "Developed by OpenAI, GPT models (like GPT-3 and GPT-4) are among the most well-known large language models. They are capable of generating coherent and contextually relevant text based on input prompts.\n",
        "\n",
        "**2. BERT (Bidirectional Encoder Representations from Transformers):**\n",
        "\n",
        "Developed by Google, BERT is designed to understand the context of a word in search queries, leading to more accurate search results.\n",
        "\n",
        "**3. T5 (Text-To-Text Transfer Transformer):**\n",
        "\n",
        "Another model by Google, T5 reframes all NLP tasks into a text-to-text format, making it a versatile and powerful model for various applications.\n",
        "\n",
        "**Applications:**\n",
        "\n",
        "* Natural Language Understanding (NLU):\n",
        "Understanding and interpreting human language.\n",
        "\n",
        "* Chatbots and Virtual Assistants: Providing human-like interactions in customer service.\n",
        "\n",
        "* Content Creation: Assisting in generating articles, summaries, and other text content.\n",
        "\n",
        "* Translation Services: Translating text from one language to another with high accuracy.\n",
        "\n",
        "* Search Engines: Improving the relevance and accuracy of search results.\n",
        "\n",
        "**Sources:**\n",
        "\n",
        "OpenAI - GPT\n",
        "\n",
        "Google AI Blog - BERT\n",
        "\n",
        "Google Research - T5\n",
        "\n",
        "\n",
        "In summary, LLMs represent a significant advancement in the field of artificial intelligence, enabling machines to understand and generate human language with unprecedented accuracy and fluency."
      ],
      "metadata": {
        "id": "-nuZP-SoC1Ob"
      }
    },
    {
      "cell_type": "code",
      "source": [
        "# Python code:\n",
        "\n",
        "import datetime\n",
        "\n",
        "class Client:\n",
        "  number_of_clients = 0\n",
        "\n",
        "  def __init__(self, id, name):\n",
        "    self.id = id\n",
        "    self.name = name\n",
        "    self.accounts = []\n",
        "    Client.number_of_clients += 1\n",
        "\n",
        "  def add_account(self, account):\n",
        "    self.accounts.append(account)\n",
        "\n",
        "class Account:\n",
        "  def __init__(self, number, currency, balance = 0.0):\n",
        "    self.number = number\n",
        "    self.currency = currency\n",
        "    self.balance = balance\n",
        "    self.transactions = []\n",
        "\n",
        "  def make_deposit(self, amount, note):\n",
        "    self.transactions.append(Transaction(self.currency, amount, note))\n",
        "    self.balance += amount\n",
        "\n",
        "  def make_withdrawal(self, amount, note):\n",
        "    self.transactions.append(Transaction(self.currency, -amount, note))\n",
        "    self.balance -= amount\n",
        "\n",
        "class Transaction:\n",
        "  def __init__(self, currency, amount, note):\n",
        "    self.currency = currency\n",
        "    self.amount = amount\n",
        "    self.note = note\n",
        "    self.time_stamp = datetime.datetime.now()\n",
        "\n",
        "# now, let us work using those classes\n",
        "# adding clients to a list\n",
        "clients = []\n",
        "clients.append(Client('123456', 'Anna'))\n",
        "clients.append(Client('987654', 'Oskar'))\n",
        "clients.append(Client('456123', 'Jenifer'))\n",
        "\n",
        "# adding accounts to clients\n",
        "clients[0].add_account(Account('EE654987564321', 'EUR', 1000.0))\n",
        "clients[0].add_account(Account('JP582147859635', 'JPY', 25000.30))\n",
        "clients[0].add_account(Account('US654987643214', 'USD'))\n",
        "clients[1].add_account(Account('PL849512635445', 'PLN', 47800.00))\n",
        "clients[2].add_account(Account('SE741254956587', 'SEK', 200.18))\n",
        "\n",
        "# let's make some transactions\n",
        "clients[0].accounts[0].make_deposit(1200, 'Salary')\n",
        "clients[0].accounts[0].make_withdrawal(50, 'Grocery')\n",
        "clients[0].accounts[0].make_withdrawal(140, 'Clothes')\n",
        "clients[0].accounts[0].make_withdrawal(20, 'Dinner')\n",
        "\n",
        "# printing some data\n",
        "print(f'We have {Client.number_of_clients} clients in our bank:')\n",
        "\n",
        "for client in clients:\n",
        "  print(f'Client {client.name} has the following accounts:')\n",
        "  for account in client.accounts:\n",
        "    print(f'{account.number} ({account.currency}) {account.balance}')\n",
        "    for transaction in account.transactions:\n",
        "      print(f'{transaction.time_stamp} {transaction.currency} {transaction.amount}')\n",
        "  print()"
      ],
      "metadata": {
        "colab": {
          "base_uri": "https://localhost:8080/"
        },
        "id": "WgBmmi4VF98A",
        "outputId": "acdc6698-455c-4ec2-aa1e-110c58cf7943"
      },
      "execution_count": null,
      "outputs": [
        {
          "output_type": "stream",
          "name": "stdout",
          "text": [
            "We have 3 clients in our bank:\n",
            "Client Anna has the following accounts:\n",
            "EE654987564321 (EUR) 1990.0\n",
            "2024-06-09 08:27:16.201655 EUR 1200\n",
            "2024-06-09 08:27:16.201721 EUR -50\n",
            "2024-06-09 08:27:16.201781 EUR -140\n",
            "2024-06-09 08:27:16.201838 EUR -20\n",
            "JP582147859635 (JPY) 25000.3\n",
            "US654987643214 (USD) 0.0\n",
            "\n",
            "Client Oskar has the following accounts:\n",
            "PL849512635445 (PLN) 47800.0\n",
            "\n",
            "Client Jenifer has the following accounts:\n",
            "SE741254956587 (SEK) 200.18\n",
            "\n"
          ]
        }
      ]
    },
    {
      "cell_type": "code",
      "source": [
        "# Java codes:\n",
        "\n",
        "# Result:\n",
        "\n",
        "We have 3 clients in our bank:\n",
        "Client Anna has the following accounts:\n",
        "EE654987564321 (EUR) 1990.0\n",
        "Sun Jun 09 08:25:24 GMT 2024 EUR 1200.0\n",
        "Sun Jun 09 08:25:24 GMT 2024 EUR -50.0\n",
        "Sun Jun 09 08:25:24 GMT 2024 EUR -140.0\n",
        "Sun Jun 09 08:25:24 GMT 2024 EUR -20.0\n",
        "JP582147859635 (JPY) 25000.3\n",
        "US654987643214 (USD) 0.0\n",
        "\n",
        "Client Oskar has the following accounts:\n",
        "PL849512635445 (PLN) 47800.0\n",
        "\n",
        "Client Jenifer has the following accounts:\n",
        "SE741254956587 (SEK) 200.18\n",
        "\n",
        "# Main.java\n",
        "\n",
        "import java.util.ArrayList;\n",
        "import java.util.List;\n",
        "\n",
        "public class Main {\n",
        "    public static void main(String[] args) {\n",
        "        // creating clients\n",
        "        List<Client> clients = new ArrayList<>();\n",
        "        clients.add(new Client(\"123456\", \"Anna\"));\n",
        "        clients.add(new Client(\"987654\", \"Oskar\"));\n",
        "        clients.add(new Client(\"456123\", \"Jenifer\"));\n",
        "\n",
        "        // adding accounts to clients\n",
        "        clients.get(0).addAccount(new Account(\"EE654987564321\", \"EUR\", 1000.0));\n",
        "        clients.get(0).addAccount(new Account(\"JP582147859635\", \"JPY\", 25000.30));\n",
        "        clients.get(0).addAccount(new Account(\"US654987643214\", \"USD\", 0.0));\n",
        "        clients.get(1).addAccount(new Account(\"PL849512635445\", \"PLN\", 47800.00));\n",
        "        clients.get(2).addAccount(new Account(\"SE741254956587\", \"SEK\", 200.18));\n",
        "\n",
        "        // making transactions\n",
        "        clients.get(0).getAccounts().get(0).makeDeposit(1200, \"Salary\");\n",
        "        clients.get(0).getAccounts().get(0).makeWithdrawal(50, \"Grocery\");\n",
        "        clients.get(0).getAccounts().get(0).makeWithdrawal(140, \"Clothes\");\n",
        "        clients.get(0).getAccounts().get(0).makeWithdrawal(20, \"Dinner\");\n",
        "\n",
        "        // printing the data\n",
        "        System.out.println(\"We have \" + Client.getNumberOfClients() + \" clients in our bank:\");\n",
        "\n",
        "        for (Client client : clients) {\n",
        "            System.out.println(\"Client \" + client.getName() + \" has the following accounts:\");\n",
        "            for (Account account : client.getAccounts()) {\n",
        "                System.out.println(account.getNumber() + \" (\" + account.getCurrency() + \") \" + account.getBalance());\n",
        "                for (Transaction transaction : account.getTransactions()) {\n",
        "                    System.out.println(transaction.getTimeStamp() + \" \" + transaction.getCurrency() + \" \" + transaction.getAmount());\n",
        "                }\n",
        "            }\n",
        "            System.out.println();\n",
        "        }\n",
        "    }\n",
        "}\n"
      ],
      "metadata": {
        "id": "jsasQGXtmwGJ"
      },
      "execution_count": null,
      "outputs": []
    },
    {
      "cell_type": "code",
      "source": [
        "# Client.java\n",
        "\n",
        "import java.util.ArrayList;\n",
        "import java.util.List;\n",
        "\n",
        "public class Client {\n",
        "    private static int numberOfClients = 0;\n",
        "    private String id;\n",
        "    private String name;\n",
        "    private List<Account> accounts;\n",
        "\n",
        "    public Client(String id, String name) {\n",
        "        this.id = id;\n",
        "        this.name = name;\n",
        "        this.accounts = new ArrayList<>();\n",
        "        numberOfClients++;\n",
        "    }\n",
        "\n",
        "    public void addAccount(Account account) {\n",
        "        this.accounts.add(account);\n",
        "    }\n",
        "\n",
        "    public static int getNumberOfClients() {\n",
        "        return numberOfClients;\n",
        "    }\n",
        "\n",
        "    public String getName() {\n",
        "        return name;\n",
        "    }\n",
        "\n",
        "    public List<Account> getAccounts() {\n",
        "        return accounts;\n",
        "    }\n",
        "}\n"
      ],
      "metadata": {
        "id": "DZAwhfrLFh5B"
      },
      "execution_count": null,
      "outputs": []
    },
    {
      "cell_type": "code",
      "source": [
        "# Account.java\n",
        "\n",
        "import java.util.ArrayList;\n",
        "import java.util.List;\n",
        "\n",
        "public class Account {\n",
        "    private String number;\n",
        "    private String currency;\n",
        "    private double balance;\n",
        "    private List<Transaction> transactions;\n",
        "\n",
        "    public Account(String number, String currency, double balance) {\n",
        "        this.number = number;\n",
        "        this.currency = currency;\n",
        "        this.balance = balance;\n",
        "        this.transactions = new ArrayList<>();\n",
        "    }\n",
        "\n",
        "    public void makeDeposit(double amount, String note) {\n",
        "        this.transactions.add(new Transaction(this.currency, amount, note));\n",
        "        this.balance += amount;\n",
        "    }\n",
        "\n",
        "    public void makeWithdrawal(double amount, String note) {\n",
        "        this.transactions.add(new Transaction(this.currency, -amount, note));\n",
        "        this.balance -= amount;\n",
        "    }\n",
        "\n",
        "    public String getNumber() {\n",
        "        return number;\n",
        "    }\n",
        "\n",
        "    public String getCurrency() {\n",
        "        return currency;\n",
        "    }\n",
        "\n",
        "    public double getBalance() {\n",
        "        return balance;\n",
        "    }\n",
        "\n",
        "    public List<Transaction> getTransactions() {\n",
        "        return transactions;\n",
        "    }\n",
        "}"
      ],
      "metadata": {
        "id": "M9fcJjp0FiA2"
      },
      "execution_count": null,
      "outputs": []
    },
    {
      "cell_type": "code",
      "source": [
        "# Transaction.java\n",
        "\n",
        "import java.util.Date;\n",
        "\n",
        "public class Transaction {\n",
        "    private String currency;\n",
        "    private double amount;\n",
        "    private String note;\n",
        "    private Date timeStamp;\n",
        "\n",
        "    public Transaction(String currency, double amount, String note) {\n",
        "        this.currency = currency;\n",
        "        this.amount = amount;\n",
        "        this.note = note;\n",
        "        this.timeStamp = new Date();\n",
        "    }\n",
        "\n",
        "    public String getCurrency() {\n",
        "        return currency;\n",
        "    }\n",
        "\n",
        "    public double getAmount() {\n",
        "        return amount;\n",
        "    }\n",
        "\n",
        "    public String getNote() {\n",
        "        return note;\n",
        "    }\n",
        "\n",
        "    public Date getTimeStamp() {\n",
        "        return timeStamp;\n",
        "    }\n",
        "}"
      ],
      "metadata": {
        "id": "ZotNPXowmwI0"
      },
      "execution_count": null,
      "outputs": []
    },
    {
      "cell_type": "code",
      "source": [],
      "metadata": {
        "id": "onfD0ZulGfQu"
      },
      "execution_count": null,
      "outputs": []
    },
    {
      "cell_type": "code",
      "source": [],
      "metadata": {
        "id": "9Cr16sP-Gfbj"
      },
      "execution_count": null,
      "outputs": []
    },
    {
      "cell_type": "code",
      "source": [],
      "metadata": {
        "id": "wFMKS-qbGfdp"
      },
      "execution_count": null,
      "outputs": []
    },
    {
      "cell_type": "markdown",
      "source": [
        "**Lesson 11.**\n",
        "\n",
        "**Topic: Understanding CSV and JSON data types, saving data from Objects and Dictionaries in JSON format**\n",
        "\n",
        "1. Tabular and document data formats\n",
        "2. CSV vs JSON\n",
        "3. Saving dictionary to JSON\n",
        "4. Saving object data in JSON\n",
        "5. Reading from JSON\n",
        "\n",
        "Teamwork\n",
        "1. Calculate required metrics on a data given in JSON format"
      ],
      "metadata": {
        "id": "F3lUIVq6dPBn"
      }
    },
    {
      "cell_type": "code",
      "source": [
        "# LESSON 11.(8.6.24)"
      ],
      "metadata": {
        "id": "ZDFJ1ro2dVeL"
      },
      "execution_count": null,
      "outputs": []
    },
    {
      "cell_type": "markdown",
      "source": [
        "**CSV - Comma Separated Values**\n",
        "\n",
        "id, name, accounts\n",
        "1234567, Anna, \"65677878, 55667788, 5567878\"\n",
        "\n",
        "4566677, Oskar, \"557889909\"\n",
        "\n",
        "8876666, Jenifer, \"5888878\"\n",
        "\n",
        "\n",
        "id, name, surname, salary\n",
        "\n",
        "1234455, Anna, Johson, 8000\n",
        "\n",
        "6677888, Oskar, Smith, 2000\n",
        "\n",
        "\n"
      ],
      "metadata": {
        "id": "BmdYuu-XrJbH"
      }
    },
    {
      "cell_type": "code",
      "source": [
        " # XML vs JSON\n",
        "\n",
        " # https://www.w3schools.com/js/js_json_xml.asp"
      ],
      "metadata": {
        "id": "0FZ7pr05dVon"
      },
      "execution_count": null,
      "outputs": []
    },
    {
      "cell_type": "code",
      "source": [
        "import datetime\n",
        "\n",
        "class Client:\n",
        "  number_of_clients = 0\n",
        "\n",
        "  def __init__(self, id, name):\n",
        "    self.id = id\n",
        "    self.name = name\n",
        "    self.accounts = []\n",
        "    Client.number_of_clients += 1\n",
        "\n",
        "  def add_account(self, account):\n",
        "    self.accounts.append(account)\n",
        "\n",
        "class Account:\n",
        "  def __init__(self, number, currency, balance = 0.0):\n",
        "    self.number = number\n",
        "    self.currency = currency\n",
        "    self.balance = balance\n",
        "    self.transactions = []\n",
        "\n",
        "  def make_deposit(self, amount, note):\n",
        "    self.transactions.append(Transaction(self.currency, amount, note))\n",
        "    self.balance += amount\n",
        "\n",
        "  def make_withdrawal(self, amount, note):\n",
        "    self.transactions.append(Transaction(self.currency, -amount, note))\n",
        "    self.balance -= amount\n",
        "\n",
        "class Transaction:\n",
        "  def __init__(self, currency, amount, note):\n",
        "    self.currency = currency\n",
        "    self.amount = amount\n",
        "    self.note = note\n",
        "    self.time_stamp = datetime.datetime.now()\n",
        "\n",
        "# now, let us work using those classes\n",
        "# adding clients to a list\n",
        "clients = []\n",
        "clients.append(Client('123456', 'Anna'))\n",
        "clients.append(Client('987654', 'Oskar'))\n",
        "clients.append(Client('456123', 'Jenifer'))\n",
        "\n",
        "# adding accounts to clients\n",
        "clients[0].add_account(Account('EE654987564321', 'EUR', 1000.0))\n",
        "clients[0].add_account(Account('JP582147859635', 'JPY', 25000.30))\n",
        "clients[0].add_account(Account('US654987643214', 'USD'))\n",
        "clients[1].add_account(Account('PL849512635445', 'PLN', 47800.00))\n",
        "clients[2].add_account(Account('SE741254956587', 'SEK', 200.18))\n",
        "\n",
        "\n",
        "# let's make some transactions\n",
        "clients[0].accounts[0].make_deposit(1200, 'Salary')\n",
        "clients[0].accounts[0].make_withdrawal(50, 'Grocery')\n",
        "clients[0].accounts[0].make_withdrawal(140, 'Clothes')\n",
        "clients[0].accounts[0].make_withdrawal(20, 'Dinner')\n",
        "\n",
        "# printing some data\n",
        "print(f'We have {Client.number_of_clients} clients in our bank:')\n",
        "\n",
        "for client in clients:\n",
        "  print(f'Client {client.name} has the following accounts:')\n",
        "  for account in client.accounts:\n",
        "    print(f'{account.number} ({account.currency}) {account.balance}')\n",
        "    for transaction in account.transactions:\n",
        "      print(f'{transaction.time_stamp} {transaction.currency} {transaction.amount}')"
      ],
      "metadata": {
        "colab": {
          "base_uri": "https://localhost:8080/"
        },
        "id": "jLgJDW9EdVgc",
        "outputId": "7d09e4cb-e603-4ea1-cbe1-e71858865601"
      },
      "execution_count": null,
      "outputs": [
        {
          "output_type": "stream",
          "name": "stdout",
          "text": [
            "We have 3 clients in our bank:\n",
            "Client Anna has the following accounts:\n",
            "EE654987564321 (EUR) 1990.0\n",
            "2024-06-09 05:24:26.634545 EUR 1200\n",
            "2024-06-09 05:24:26.634593 EUR -50\n",
            "2024-06-09 05:24:26.634626 EUR -140\n",
            "2024-06-09 05:24:26.634657 EUR -20\n",
            "JP582147859635 (JPY) 25000.3\n",
            "US654987643214 (USD) 0.0\n",
            "Client Oskar has the following accounts:\n",
            "PL849512635445 (PLN) 47800.0\n",
            "Client Jenifer has the following accounts:\n",
            "SE741254956587 (SEK) 200.18\n"
          ]
        }
      ]
    },
    {
      "cell_type": "code",
      "source": [
        "# JSON - Java Script Object Notation\n",
        "\n",
        "{\n",
        "\"name\": \"Anna\",\n",
        "\"surname\": \"Johson\",\n",
        "\"age\": 28\n",
        "}\n",
        "\n",
        "# like dictionary\n"
      ],
      "metadata": {
        "id": "7laV5WMNdVt_"
      },
      "execution_count": null,
      "outputs": []
    },
    {
      "cell_type": "code",
      "source": [
        "{\n",
        "  \"id\": \"123456\",\n",
        "  \"name\": \"Anna\",\n",
        "  \"accounts\": [\n",
        "    {},\n",
        "    {},\n",
        "    {}\n",
        "  ]\n",
        "}\n",
        "\n",
        "# accounts is a list from dictionary"
      ],
      "metadata": {
        "id": "fIQp15t5471o"
      },
      "execution_count": null,
      "outputs": []
    },
    {
      "cell_type": "code",
      "source": [
        "{\n",
        " \"clients\": [\n",
        "    {\n",
        "  \"id\": \"123456\",\n",
        "  \"name\": \"Anna\",\n",
        "  \"accounts\": [\n",
        "    {\n",
        "      \"number\": \"EE654987564321\",\n",
        "      \"currency\": \"EUR\",\n",
        "      \"balance\": \"1000.00\"\n",
        "    },\n",
        "    {\n",
        "      \"number\": \"JP582147859635\",\n",
        "      \"currency\": \"JPY\",\n",
        "      \"balance\": \"25000.30\"\n",
        "    },\n",
        "    {\n",
        "      \"number\": \"US654987643214\",\n",
        "      \"currency\": \"USD\",\n",
        "      \"balance\": \"0\"\n",
        "    }\n",
        "  ]\n",
        "},\n",
        "    {\n",
        "            \"id\": \"987654\",\n",
        "            \"name\": \"Oskar\",\n",
        "            \"accounts\": [\n",
        "              {\n",
        "                \"number\": \"PL849512635445\",\n",
        "                \"currency\": \"PLN\",\n",
        "                \"balance\": 47800.00\n",
        "              }\n",
        "            ]\n",
        "          },\n",
        "\n",
        "        {third client}\n",
        "      ]\n",
        "}"
      ],
      "metadata": {
        "id": "3aJmDfFAdVwr"
      },
      "execution_count": null,
      "outputs": []
    },
    {
      "cell_type": "code",
      "source": [
        "# API - Application Programming Interface\n",
        "\n",
        "In the IT field, an API is a defined set of rules and protocols that allow different\n",
        "software applications to communicate and exchange data with each other. APIs enable\n",
        "developers to use certain functions or data in other programs without having to recreate\n",
        "those functions or data.\n",
        "\n",
        "# https://docs.stripe.com/api\n",
        "\n",
        "# https://developer.spotify.com/documentation/web-api\n"
      ],
      "metadata": {
        "id": "WeHdVyDgdVzN"
      },
      "execution_count": null,
      "outputs": []
    },
    {
      "cell_type": "code",
      "source": [
        "# example from internet:\n",
        "\n",
        "import json\n",
        "\n",
        "# Define student_details dictionary\n",
        "student_details ={\n",
        "    \"name\" : \"sathiyajith\",\n",
        "    \"rollno\" : 56,\n",
        "    \"cgpa\" : 8.6,\n",
        "    \"phonenumber\" : \"9976770500\"\n",
        "}\n",
        "\n",
        "# Convert and write JSON object to file\n",
        "with open(\"sample.json\", \"w\") as outfile:\n",
        "    json.dump(student_details, outfile)\n",
        "\n",
        "# find the file at the \"files\"!"
      ],
      "metadata": {
        "id": "UwK2f4sZ40Hj"
      },
      "execution_count": null,
      "outputs": []
    },
    {
      "cell_type": "code",
      "source": [
        "# task for AI:\n",
        "# I have a code snippet.\n",
        "# I want to collect the data into a dictionary and save it in JSON format\n",
        "# Result:\n",
        "\n",
        "import datetime\n",
        "import json\n",
        "\n",
        "class Client:\n",
        "    number_of_clients = 0\n",
        "\n",
        "    def __init__(self, id, name):\n",
        "        self.id = id\n",
        "        self.name = name\n",
        "        self.accounts = []\n",
        "        Client.number_of_clients += 1\n",
        "\n",
        "    def add_account(self, account):\n",
        "        self.accounts.append(account)\n",
        "\n",
        "    def to_dict(self):\n",
        "        return {\n",
        "            'id': self.id,\n",
        "            'name': self.name,\n",
        "            'accounts': [account.to_dict() for account in self.accounts]\n",
        "        }\n",
        "\n",
        "class Account:\n",
        "    def __init__(self, number, currency, balance=0.0):\n",
        "        self.number = number\n",
        "        self.currency = currency\n",
        "        self.balance = balance\n",
        "        self.transactions = []\n",
        "\n",
        "    def make_deposit(self, amount, note):\n",
        "        self.transactions.append(Transaction(self.currency, amount, note))\n",
        "        self.balance += amount\n",
        "\n",
        "    def make_withdrawal(self, amount, note):\n",
        "        self.transactions.append(Transaction(self.currency, -amount, note))\n",
        "        self.balance -= amount\n",
        "\n",
        "    def to_dict(self):\n",
        "        return {\n",
        "            'number': self.number,\n",
        "            'currency': self.currency,\n",
        "            'balance': self.balance,\n",
        "            'transactions': [transaction.to_dict() for transaction in self.transactions]\n",
        "        }\n",
        "\n",
        "class Transaction:\n",
        "    def __init__(self, currency, amount, note):\n",
        "        self.currency = currency\n",
        "        self.amount = amount\n",
        "        self.note = note\n",
        "        self.time_stamp = datetime.datetime.now()\n",
        "\n",
        "    def to_dict(self):\n",
        "        return {\n",
        "            'currency': self.currency,\n",
        "            'amount': self.amount,\n",
        "            'note': self.note,\n",
        "            'time_stamp': self.time_stamp.isoformat()\n",
        "        }\n",
        "\n",
        "# now, let us work using those classes\n",
        "# adding clients to a list\n",
        "clients = []\n",
        "clients.append(Client('123456', 'Anna'))\n",
        "clients.append(Client('987654', 'Oskar'))\n",
        "clients.append(Client('456123', 'Jenifer'))\n",
        "\n",
        "# adding accounts to clients\n",
        "clients[0].add_account(Account('EE654987564321', 'EUR', 1000.0))\n",
        "clients[0].add_account(Account('JP582147859635', 'JPY', 25000.30))\n",
        "clients[0].add_account(Account('US654987643214', 'USD'))\n",
        "clients[1].add_account(Account('PL849512635445', 'PLN', 47800.00))\n",
        "clients[2].add_account(Account('SE741254956587', 'SEK', 200.18))\n",
        "\n",
        "# let's make some transactions\n",
        "clients[0].accounts[0].make_deposit(1200, 'Salary')\n",
        "clients[0].accounts[0].make_withdrawal(50, 'Grocery')\n",
        "clients[0].accounts[0].make_withdrawal(140, 'Clothes')\n",
        "clients[0].accounts[0].make_withdrawal(20, 'Dinner')\n",
        "\n",
        "# Collect all client data into a dictionary\n",
        "clients_data = [client.to_dict() for client in clients]\n",
        "\n",
        "# Save the data to a JSON file\n",
        "with open(\"clients_data.json\", \"w\") as outfile:\n",
        "    json.dump(clients_data, outfile, indent=4)\n",
        "\n",
        "# printing some data\n",
        "print(f'We have {Client.number_of_clients} clients in our bank:')\n",
        "\n",
        "for client in clients:\n",
        "  print(f'Client {client.name} has the following accounts:')\n",
        "  for account in client.accounts:\n",
        "    print(f'{account.number} ({account.currency}) {account.balance}')\n",
        "    for transaction in account.transactions:\n",
        "      print(f'{transaction.time_stamp} {transaction.currency} {transaction.amount}')"
      ],
      "metadata": {
        "colab": {
          "base_uri": "https://localhost:8080/"
        },
        "id": "SW9jp1Xt40Ey",
        "outputId": "ebee5d84-c12c-4d0e-a493-427a9175ed8b"
      },
      "execution_count": null,
      "outputs": [
        {
          "output_type": "stream",
          "name": "stdout",
          "text": [
            "We have 3 clients in our bank:\n",
            "Client Anna has the following accounts:\n",
            "EE654987564321 (EUR) 1990.0\n",
            "2024-06-08 08:39:06.706639 EUR 1200\n",
            "2024-06-08 08:39:06.706710 EUR -50\n",
            "2024-06-08 08:39:06.706743 EUR -140\n",
            "2024-06-08 08:39:06.706777 EUR -20\n",
            "JP582147859635 (JPY) 25000.3\n",
            "US654987643214 (USD) 0.0\n",
            "Client Oskar has the following accounts:\n",
            "PL849512635445 (PLN) 47800.0\n",
            "Client Jenifer has the following accounts:\n",
            "SE741254956587 (SEK) 200.18\n"
          ]
        }
      ]
    },
    {
      "cell_type": "code",
      "source": [
        "# reading json into a dictionary\n",
        "\n",
        "import json\n",
        "\n",
        "with open('clients_data.json') as json_file:\n",
        "  data = json.load(json_file)\n",
        "\n",
        "for client in data:\n",
        "  print(client[\"name\"])\n"
      ],
      "metadata": {
        "colab": {
          "base_uri": "https://localhost:8080/"
        },
        "id": "q3byaenB9ky5",
        "outputId": "b182bb40-479e-498f-aae1-16d4b0ba07fa"
      },
      "execution_count": null,
      "outputs": [
        {
          "output_type": "stream",
          "name": "stdout",
          "text": [
            "Anna\n",
            "Oskar\n",
            "Jenifer\n"
          ]
        }
      ]
    },
    {
      "cell_type": "code",
      "source": [
        "import json\n",
        "\n",
        "with open('clients_data.json') as json_file:\n",
        "  data = json.load(json_file)\n",
        "\n",
        "for client in data:\n",
        "  print(f'{client[\"name\"]} ({client[\"id\"]})')\n"
      ],
      "metadata": {
        "colab": {
          "base_uri": "https://localhost:8080/"
        },
        "id": "OV_n_s3s40J9",
        "outputId": "fef085c6-97f9-49ba-9de4-b050986d407a"
      },
      "execution_count": null,
      "outputs": [
        {
          "output_type": "stream",
          "name": "stdout",
          "text": [
            "Anna (123456)\n",
            "Oskar (987654)\n",
            "Jenifer (456123)\n"
          ]
        }
      ]
    },
    {
      "cell_type": "code",
      "source": [
        "# Teamwork\n",
        "\n",
        "# 1. Import data to a dictionary\n",
        "# 2. Calculate, looping through every student data:\n",
        "# a) Average Age of all students\n",
        "# b) average Grade of all students\n",
        "# c) (optional) calculate average Grade by Major\n",
        "\n",
        "import json\n",
        "\n",
        "# read the JSON file\n",
        "with open('students.json', 'r') as file:\n",
        "    data = json.load(file)\n",
        "\n",
        "# extract the list of students\n",
        "students = data[\"Students\"]\n",
        "\n",
        "# initialize counters and accumulators\n",
        "total_age = 0\n",
        "total_grade = 0\n",
        "count = len(students)\n",
        "\n",
        "# initialize dictionary to accumulate grades by major\n",
        "grades_by_major = {}\n",
        "\n",
        "# loop through each student\n",
        "for student in students:\n",
        "    # add age to the total age\n",
        "    total_age += int(student[\"Age\"])\n",
        "\n",
        "    # add grade to the total grade\n",
        "    total_grade += int(student[\"Grade\"])\n",
        "\n",
        "    # add grade to the grades_by_major dictionary\n",
        "    major = student[\"Major\"]\n",
        "    if major not in grades_by_major:\n",
        "        grades_by_major[major] = []\n",
        "    grades_by_major[major].append(int(student[\"Grade\"]))\n",
        "\n",
        "# calculate average age and average grade\n",
        "average_age = total_age / count\n",
        "average_grade = total_grade / count\n",
        "\n",
        "print(f\"Average age: {average_age}\")\n",
        "print(f\"Average grade: {average_grade}\")\n",
        "\n",
        "# calculate and print average grade by major\n",
        "for major, grades in grades_by_major.items():\n",
        "    average_grade_by_major = sum(grades) / len(grades)\n",
        "    print(f\"Average grade for {major}: {average_grade_by_major}\")\n",
        "\n"
      ],
      "metadata": {
        "colab": {
          "base_uri": "https://localhost:8080/"
        },
        "id": "EkVvoqYgDTNM",
        "outputId": "8c18046d-0d56-4550-cf7d-b9b904be754b"
      },
      "execution_count": null,
      "outputs": [
        {
          "output_type": "stream",
          "name": "stdout",
          "text": [
            "Average age: 25.2\n",
            "Average grade: 80.36666666666666\n",
            "Average grade for Politics: 85.1\n",
            "Average grade for Math: 79.8\n",
            "Average grade for Econ: 76.2\n"
          ]
        }
      ]
    },
    {
      "cell_type": "code",
      "source": [
        "import json\n",
        "\n",
        "with open('students.json', 'r') as file:\n",
        "    data = json.load(file)\n",
        "\n",
        "students = data[\"Students\"]\n",
        "total_age = 0\n",
        "total_grade = 0\n",
        "count = len(students)\n",
        "\n",
        "for student in students:\n",
        "    total_age += int(student[\"Age\"])\n",
        "    total_grade += int(student[\"Grade\"])\n",
        "\n",
        "average_age = total_age / count\n",
        "average_grade = total_grade / count\n",
        "\n",
        "print(f\"Average age: {average_age}\")\n",
        "print(f\"Average grade: {average_grade}\")"
      ],
      "metadata": {
        "colab": {
          "base_uri": "https://localhost:8080/"
        },
        "id": "k4XWo5bYFX22",
        "outputId": "1b655ae2-1566-42df-e52a-45cbc41d4655"
      },
      "execution_count": null,
      "outputs": [
        {
          "output_type": "stream",
          "name": "stdout",
          "text": [
            "Average age: 25.2\n",
            "Average grade: 80.36666666666666\n"
          ]
        }
      ]
    },
    {
      "cell_type": "code",
      "source": [],
      "metadata": {
        "id": "1HiiaCagL8be"
      },
      "execution_count": null,
      "outputs": []
    },
    {
      "cell_type": "code",
      "source": [
        "# INDIVIDUAL WORK\n",
        "# Develop a simple prototype for an online shop\n",
        "# 1. Define classes Client, Items, Transaction\n",
        "# 2. Write the logic so that each client can purchase one of several items in a single transaction\n",
        "# 3. Make a printout of data with nested loops\n",
        "# 4. The program should print out:\n",
        "# - all clients\n",
        "# - all transactions of a client\n",
        "# - all items purchased in each transaction of the client\n",
        "\n",
        "# AI comments:\n",
        "# Define the Client class\n",
        "class Client:\n",
        "    # Constructor for Client class, initializes id, name, and an empty list for transactions\n",
        "    def __init__(self, id, name):\n",
        "        self.id = id  # Store the client's ID\n",
        "        self.name = name  # Store the client's name\n",
        "        self.transactions = []  # Initialize an empty list to store transactions\n",
        "\n",
        "    # Method to add a transaction to the client's list of transactions\n",
        "    def add_transaction(self, transaction):\n",
        "        self.transactions.append(transaction)  # Add the transaction to the transactions list\n",
        "\n",
        "# Define the Item class\n",
        "class Item:\n",
        "    # Constructor for Item class, initializes id, name, and price\n",
        "    def __init__(self, id, name, price):\n",
        "        self.id = id  # Store the item's ID\n",
        "        self.name = name  # Store the item's name\n",
        "        self.price = price  # Store the item's price\n",
        "\n",
        "# Define the Transaction class\n",
        "class Transaction:\n",
        "    # Constructor for Transaction class, initializes id, client, and items\n",
        "    def __init__(self, id, client, items):\n",
        "        self.id = id  # Store the transaction's ID\n",
        "        self.client = client  # Store the client associated with the transaction\n",
        "        self.items = items  # Store the list of items in the transaction\n",
        "        # Calculate the total price of all items in the transaction\n",
        "        self.total = sum(item.price for item in items)\n",
        "\n",
        "# Create instances of Item with id, name, and price\n",
        "item1 = Item(1, 'Laptop', 999.99)  # Create a laptop item\n",
        "item2 = Item(2, 'Smartphone', 499.99)  # Create a smartphone item\n",
        "item3 = Item(3, 'Tablet', 299.99)  # Create a tablet item\n",
        "\n",
        "# Create instances of Client with id and name\n",
        "client1 = Client(1, 'John Doe')  # Create a client named John Doe\n",
        "client2 = Client(2, 'Jane Smith')  # Create a client named Jane Smith\n",
        "\n",
        "# Create instances of Transaction and add items to clients\n",
        "transaction1 = Transaction(1, client1, [item1, item3])  # Create a transaction for John Doe with a laptop and tablet\n",
        "transaction2 = Transaction(2, client2, [item2])  # Create a transaction for Jane Smith with a smartphone\n",
        "\n",
        "# Add transactions to clients\n",
        "client1.add_transaction(transaction1)  # Add the transaction to John Doe's transactions\n",
        "client2.add_transaction(transaction2)  # Add the transaction to Jane Smith's transactions\n",
        "\n",
        "# Create a list of clients\n",
        "clients = [client1, client2]  # List containing all clients\n",
        "\n",
        "# Print out data\n",
        "print(\"All clients:\")  # Print header for clients list\n",
        "\n",
        "# Loop through each client in the clients list\n",
        "for client in clients:\n",
        "    # Print client's ID and name\n",
        "    print(f\"Client ID: {client.id}, Name: {client.name}\")\n",
        "    print(\"Transactions:\")  # Print header for transactions list\n",
        "    # Loop through each transaction of the client\n",
        "    for transaction in client.transactions:\n",
        "        # Print transaction's ID and total amount\n",
        "        print(f\"  Transaction ID: {transaction.id}, Total: ${transaction.total:.2f}\")\n",
        "        print(\"  Items:\")  # Print header for items list\n",
        "        # Loop through each item in the transaction\n",
        "        for item in transaction.items:\n",
        "            # Print item's ID, name, and price\n",
        "            print(f\"    Item ID: {item.id}, Name: {item.name}, Price: ${item.price:.2f}\")\n",
        "    print()  # Print a blank line for separation between clients\n",
        "\n"
      ],
      "metadata": {
        "colab": {
          "base_uri": "https://localhost:8080/"
        },
        "id": "Cd5Xv6_sFX7j",
        "outputId": "72ab960a-bc3d-4713-ea4e-b9fadba4482c"
      },
      "execution_count": null,
      "outputs": [
        {
          "output_type": "stream",
          "name": "stdout",
          "text": [
            "All clients:\n",
            "Client ID: 1, Name: John Doe\n",
            "Transactions:\n",
            "  Transaction ID: 1, Total: $1299.98\n",
            "  Items:\n",
            "    Item ID: 1, Name: Laptop, Price: $999.99\n",
            "    Item ID: 3, Name: Tablet, Price: $299.99\n",
            "\n",
            "Client ID: 2, Name: Jane Smith\n",
            "Transactions:\n",
            "  Transaction ID: 2, Total: $499.99\n",
            "  Items:\n",
            "    Item ID: 2, Name: Smartphone, Price: $499.99\n",
            "\n"
          ]
        }
      ]
    },
    {
      "cell_type": "code",
      "source": [
        "class Client:\n",
        "    def __init__(self, id, name):\n",
        "        self.id = id\n",
        "        self.name = name\n",
        "        self.transactions = []\n",
        "\n",
        "    def add_transaction(self, transaction):\n",
        "        self.transactions.append(transaction)\n",
        "\n",
        "class Item:\n",
        "    def __init__(self, id, name, price):\n",
        "        self.id = id\n",
        "        self.name = name\n",
        "        self.price = price\n",
        "\n",
        "class Transaction:\n",
        "    def __init__(self, id, client, items):\n",
        "        self.id = id\n",
        "        self.client = client\n",
        "        self.items = items\n",
        "        self.total = sum(item.price for item in items)\n",
        "\n",
        "item1 = Item(1, 'Laptop', 1549.00)\n",
        "item2 = Item(2, 'Smartphone', 1000.00)\n",
        "item3 = Item(3, 'Tablet', 650.00)\n",
        "item4 = Item(4, 'Watch', 500.00)\n",
        "item5 = Item(5, 'Airpod', 150.00)\n",
        "\n",
        "client1 = Client(1, 'Jane Juurikas')\n",
        "client2 = Client(2, 'Anne Liiv')\n",
        "client3 = Client(3, 'Robert Raud')\n",
        "client4 = Client(4, 'Siim Sinine')\n",
        "client5 = Client(5, 'Lauri Hell')\n",
        "\n",
        "clients = [client1, client2, client3, client4, client5]\n",
        "\n",
        "transaction1 = Transaction(1, client1, [item1, item3])\n",
        "transaction2 = Transaction(2, client2, [item2])\n",
        "transaction3 = Transaction(3, client3, [item5])\n",
        "transaction4 = Transaction(4, client4, [item3, item4])\n",
        "transaction5 = Transaction(5, client5, [item4])\n",
        "\n",
        "client1.add_transaction(transaction1)\n",
        "client2.add_transaction(transaction2)\n",
        "client3.add_transaction(transaction3)\n",
        "client4.add_transaction(transaction4)\n",
        "client5.add_transaction(transaction5)\n",
        "\n",
        "print(\"All clients:\")\n",
        "for client in clients:\n",
        "    print(f\"Client ID: {client.id}, name: {client.name}\")\n",
        "    print(\"Transactions:\")\n",
        "    for transaction in client.transactions:\n",
        "        print(f\"  Transaction ID: {transaction.id}, total sum: {transaction.total}€\")\n",
        "        print(\"  Items:\")\n",
        "        for item in transaction.items:\n",
        "            print(f\"    Item ID: {item.id}, {item.name}, price: {item.price}€\")\n",
        "    print()"
      ],
      "metadata": {
        "colab": {
          "base_uri": "https://localhost:8080/"
        },
        "id": "Aq2bTIXyFX-A",
        "outputId": "46d9cee3-79b9-4827-95d5-6ab16a24ec51"
      },
      "execution_count": null,
      "outputs": [
        {
          "output_type": "stream",
          "name": "stdout",
          "text": [
            "All clients:\n",
            "Client ID: 1, name: Jane Juurikas\n",
            "Transactions:\n",
            "  Transaction ID: 1, total sum: 2199.0€\n",
            "  Items:\n",
            "    Item ID: 1, Laptop, price: 1549.0€\n",
            "    Item ID: 3, Tablet, price: 650.0€\n",
            "\n",
            "Client ID: 2, name: Anne Liiv\n",
            "Transactions:\n",
            "  Transaction ID: 2, total sum: 1000.0€\n",
            "  Items:\n",
            "    Item ID: 2, Smartphone, price: 1000.0€\n",
            "\n",
            "Client ID: 3, name: Robert Raud\n",
            "Transactions:\n",
            "  Transaction ID: 3, total sum: 150.0€\n",
            "  Items:\n",
            "    Item ID: 5, Airpod, price: 150.0€\n",
            "\n",
            "Client ID: 4, name: Siim Sinine\n",
            "Transactions:\n",
            "  Transaction ID: 4, total sum: 1150.0€\n",
            "  Items:\n",
            "    Item ID: 3, Tablet, price: 650.0€\n",
            "    Item ID: 4, Watch, price: 500.0€\n",
            "\n",
            "Client ID: 5, name: Lauri Hell\n",
            "Transactions:\n",
            "  Transaction ID: 5, total sum: 500.0€\n",
            "  Items:\n",
            "    Item ID: 4, Watch, price: 500.0€\n",
            "\n"
          ]
        }
      ]
    },
    {
      "cell_type": "code",
      "source": [],
      "metadata": {
        "id": "iGnRGFyk40Mp"
      },
      "execution_count": null,
      "outputs": []
    },
    {
      "cell_type": "code",
      "source": [
        "# LESSON 12. (15.6.24)\n"
      ],
      "metadata": {
        "id": "12Ya6KOjFX5A"
      },
      "execution_count": null,
      "outputs": []
    },
    {
      "cell_type": "code",
      "source": [
        "filename = '/content/births.txt' #location\n",
        "with open(filename, 'r') as file:\n",
        "  content = file.read()\n",
        "\n",
        "  print('Standard File I/O')\n",
        "  print (content)\n"
      ],
      "metadata": {
        "colab": {
          "base_uri": "https://localhost:8080/"
        },
        "id": "ndcZgtHwuck9",
        "outputId": "4eeb67e3-59e0-4e51-99ee-2cf17194b0bd"
      },
      "execution_count": null,
      "outputs": [
        {
          "output_type": "stream",
          "name": "stdout",
          "text": [
            "Standard File I/O\n",
            "Jan 1048\n",
            "Feb 989\n",
            "Mar 1108\n",
            "Apr 1207\n",
            "May 1186\n",
            "Jun 1155\n",
            "Jul 1391\n",
            "Aug 1305\n",
            "Sep 1226\n",
            "Oct 1155\n",
            "Nov 1017\n",
            "Dec 1111\n",
            "\n"
          ]
        }
      ]
    },
    {
      "cell_type": "code",
      "source": [
        "for line in content:\n",
        "  print(line)\n"
      ],
      "metadata": {
        "colab": {
          "base_uri": "https://localhost:8080/"
        },
        "id": "2YuN4J4wucoc",
        "outputId": "ffdb5316-a06e-452a-b4f2-e4c12324819c"
      },
      "execution_count": null,
      "outputs": [
        {
          "output_type": "stream",
          "name": "stdout",
          "text": [
            "J\n",
            "a\n",
            "n\n",
            " \n",
            "1\n",
            "0\n",
            "4\n",
            "8\n",
            "\n",
            "\n",
            "F\n",
            "e\n",
            "b\n",
            " \n",
            "9\n",
            "8\n",
            "9\n",
            "\n",
            "\n",
            "M\n",
            "a\n",
            "r\n",
            " \n",
            "1\n",
            "1\n",
            "0\n",
            "8\n",
            "\n",
            "\n",
            "A\n",
            "p\n",
            "r\n",
            " \n",
            "1\n",
            "2\n",
            "0\n",
            "7\n",
            "\n",
            "\n",
            "M\n",
            "a\n",
            "y\n",
            " \n",
            "1\n",
            "1\n",
            "8\n",
            "6\n",
            "\n",
            "\n",
            "J\n",
            "u\n",
            "n\n",
            " \n",
            "1\n",
            "1\n",
            "5\n",
            "5\n",
            "\n",
            "\n",
            "J\n",
            "u\n",
            "l\n",
            " \n",
            "1\n",
            "3\n",
            "9\n",
            "1\n",
            "\n",
            "\n",
            "A\n",
            "u\n",
            "g\n",
            " \n",
            "1\n",
            "3\n",
            "0\n",
            "5\n",
            "\n",
            "\n",
            "S\n",
            "e\n",
            "p\n",
            " \n",
            "1\n",
            "2\n",
            "2\n",
            "6\n",
            "\n",
            "\n",
            "O\n",
            "c\n",
            "t\n",
            " \n",
            "1\n",
            "1\n",
            "5\n",
            "5\n",
            "\n",
            "\n",
            "N\n",
            "o\n",
            "v\n",
            " \n",
            "1\n",
            "0\n",
            "1\n",
            "7\n",
            "\n",
            "\n",
            "D\n",
            "e\n",
            "c\n",
            " \n",
            "1\n",
            "1\n",
            "1\n",
            "1\n",
            "\n",
            "\n"
          ]
        }
      ]
    },
    {
      "cell_type": "code",
      "source": [],
      "metadata": {
        "id": "YRg3e0AewgyZ"
      },
      "execution_count": null,
      "outputs": []
    },
    {
      "cell_type": "code",
      "source": [],
      "metadata": {
        "id": "TFmmFngswg1X"
      },
      "execution_count": null,
      "outputs": []
    },
    {
      "cell_type": "code",
      "source": [],
      "metadata": {
        "id": "qADujDhWwg33"
      },
      "execution_count": null,
      "outputs": []
    },
    {
      "cell_type": "code",
      "source": [],
      "metadata": {
        "id": "wctqqjcaucrI"
      },
      "execution_count": null,
      "outputs": []
    },
    {
      "cell_type": "code",
      "source": [],
      "metadata": {
        "id": "a6rg6GoJuctz"
      },
      "execution_count": null,
      "outputs": []
    }
  ],
  "metadata": {
    "colab": {
      "provenance": [],
      "toc_visible": true,
      "authorship_tag": "ABX9TyMLp3jmpeDHOpmuirZBihy2",
      "include_colab_link": true
    },
    "kernelspec": {
      "display_name": "Python 3",
      "name": "python3"
    },
    "language_info": {
      "name": "python"
    }
  },
  "nbformat": 4,
  "nbformat_minor": 0
}
